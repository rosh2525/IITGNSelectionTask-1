{
 "cells": [
  {
   "metadata": {
    "ExecuteTime": {
     "end_time": "2025-02-28T11:48:59.761766Z",
     "start_time": "2025-02-28T11:48:59.753022Z"
    }
   },
   "cell_type": "code",
   "source": [
    "import tensorflow as tf\n",
    "print(\"TensorFlow version:\", tf.__version__)\n",
    "print(\"GPU Available:\", tf.config.list_physical_devices('GPU'))\n"
   ],
   "outputs": [
    {
     "name": "stdout",
     "output_type": "stream",
     "text": [
      "TensorFlow version: 2.16.2\n",
      "GPU Available: [PhysicalDevice(name='/physical_device:GPU:0', device_type='GPU')]\n"
     ]
    }
   ],
   "execution_count": 24
  },
  {
   "cell_type": "code",
   "metadata": {
    "_cell_guid": "b1076dfc-b9ad-4769-8c92-a6c4dae69d19",
    "_uuid": "8f2839f25d086af736a60e9eeb907d3b93b6e0e5",
    "execution": {
     "iopub.execute_input": "2020-10-24T19:00:48.091304Z",
     "iopub.status.busy": "2020-10-24T19:00:48.090175Z",
     "iopub.status.idle": "2020-10-24T19:00:48.105334Z",
     "shell.execute_reply": "2020-10-24T19:00:48.106400Z"
    },
    "papermill": {
     "duration": 0.044978,
     "end_time": "2020-10-24T19:00:48.106705",
     "exception": false,
     "start_time": "2020-10-24T19:00:48.061727",
     "status": "completed"
    },
    "tags": [],
    "ExecuteTime": {
     "end_time": "2025-02-28T11:49:00.121125Z",
     "start_time": "2025-02-28T11:49:00.116180Z"
    }
   },
   "source": [
    "import numpy as np\n",
    "import pandas as pd\n",
    "\n",
    "import os\n",
    "for dirname, _, filenames in os.walk('UCI-HAR Dataset'):\n",
    "    for filename in filenames:\n",
    "        print(os.path.join(dirname, filename))"
   ],
   "outputs": [
    {
     "name": "stdout",
     "output_type": "stream",
     "text": [
      "UCI-HAR Dataset/.DS_Store\n",
      "UCI-HAR Dataset/features.txt\n",
      "UCI-HAR Dataset/activity_labels.txt\n",
      "UCI-HAR Dataset/features_info.txt\n",
      "UCI-HAR Dataset/README.txt\n",
      "UCI-HAR Dataset/test/subject_test.txt\n",
      "UCI-HAR Dataset/test/X_test.txt\n",
      "UCI-HAR Dataset/test/y_test.txt\n",
      "UCI-HAR Dataset/test/Inertial Signals/total_acc_y_test.txt\n",
      "UCI-HAR Dataset/test/Inertial Signals/total_acc_x_test.txt\n",
      "UCI-HAR Dataset/test/Inertial Signals/body_acc_x_test.txt\n",
      "UCI-HAR Dataset/test/Inertial Signals/body_acc_y_test.txt\n",
      "UCI-HAR Dataset/test/Inertial Signals/body_gyro_y_test.txt\n",
      "UCI-HAR Dataset/test/Inertial Signals/body_gyro_x_test.txt\n",
      "UCI-HAR Dataset/test/Inertial Signals/total_acc_z_test.txt\n",
      "UCI-HAR Dataset/test/Inertial Signals/body_gyro_z_test.txt\n",
      "UCI-HAR Dataset/test/Inertial Signals/body_acc_z_test.txt\n",
      "UCI-HAR Dataset/train/X_train.txt\n",
      "UCI-HAR Dataset/train/y_train.txt\n",
      "UCI-HAR Dataset/train/subject_train.txt\n",
      "UCI-HAR Dataset/train/Inertial Signals/body_gyro_z_train.txt\n",
      "UCI-HAR Dataset/train/Inertial Signals/body_acc_y_train.txt\n",
      "UCI-HAR Dataset/train/Inertial Signals/total_acc_z_train.txt\n",
      "UCI-HAR Dataset/train/Inertial Signals/body_acc_x_train.txt\n",
      "UCI-HAR Dataset/train/Inertial Signals/body_gyro_x_train.txt\n",
      "UCI-HAR Dataset/train/Inertial Signals/total_acc_y_train.txt\n",
      "UCI-HAR Dataset/train/Inertial Signals/body_gyro_y_train.txt\n",
      "UCI-HAR Dataset/train/Inertial Signals/total_acc_x_train.txt\n",
      "UCI-HAR Dataset/train/Inertial Signals/body_acc_z_train.txt\n"
     ]
    }
   ],
   "execution_count": 25
  },
  {
   "cell_type": "code",
   "metadata": {
    "_cell_guid": "79c7e3d0-c299-4dcb-8224-4455121ee9b0",
    "_uuid": "d629ff2d2480ee46fbb7e2d37f6b5fab8052498a",
    "execution": {
     "iopub.execute_input": "2020-10-24T19:00:48.163645Z",
     "iopub.status.busy": "2020-10-24T19:00:48.162324Z",
     "iopub.status.idle": "2020-10-24T19:00:51.232554Z",
     "shell.execute_reply": "2020-10-24T19:00:51.231706Z"
    },
    "papermill": {
     "duration": 3.104748,
     "end_time": "2020-10-24T19:00:51.232692",
     "exception": false,
     "start_time": "2020-10-24T19:00:48.127944",
     "status": "completed"
    },
    "tags": [],
    "ExecuteTime": {
     "end_time": "2025-02-28T11:49:01.500019Z",
     "start_time": "2025-02-28T11:49:00.455588Z"
    }
   },
   "source": [
    "# Train data\n",
    "body_acc_x_train = pd.read_csv('UCI-HAR Dataset/train/Inertial Signals/body_acc_x_train.txt', delim_whitespace=True, header=None)\n",
    "body_acc_y_train = pd.read_csv('UCI-HAR Dataset/train/Inertial Signals/body_acc_y_train.txt', delim_whitespace=True, header=None)\n",
    "body_acc_z_train = pd.read_csv('UCI-HAR Dataset/train/Inertial Signals/body_acc_z_train.txt', delim_whitespace=True, header=None)\n",
    "body_gyro_x_train = pd.read_csv('UCI-HAR Dataset/train/Inertial Signals/body_gyro_x_train.txt', delim_whitespace=True, header=None)\n",
    "body_gyro_y_train = pd.read_csv('UCI-HAR Dataset/train/Inertial Signals/body_gyro_y_train.txt', delim_whitespace=True, header=None)\n",
    "body_gyro_z_train = pd.read_csv('UCI-HAR Dataset/train/Inertial Signals/body_gyro_z_train.txt', delim_whitespace=True, header=None)\n",
    "total_acc_x_train = pd.read_csv('UCI-HAR Dataset/train/Inertial Signals/total_acc_x_train.txt', delim_whitespace=True, header=None)\n",
    "total_acc_y_train = pd.read_csv('UCI-HAR Dataset/train/Inertial Signals/total_acc_y_train.txt', delim_whitespace=True, header=None)\n",
    "total_acc_z_train = pd.read_csv('UCI-HAR Dataset/train/Inertial Signals/total_acc_z_train.txt', delim_whitespace=True, header=None)\n",
    "\n",
    "# Test data\n",
    "body_acc_x_test = pd.read_csv('UCI-HAR Dataset/test/Inertial Signals/body_acc_x_test.txt', delim_whitespace=True, header=None)\n",
    "body_acc_y_test = pd.read_csv('UCI-HAR Dataset/test/Inertial Signals/body_acc_y_test.txt', delim_whitespace=True, header=None)\n",
    "body_acc_z_test = pd.read_csv('UCI-HAR Dataset/test/Inertial Signals/body_acc_z_test.txt', delim_whitespace=True, header=None)\n",
    "body_gyro_x_test = pd.read_csv('UCI-HAR Dataset/test/Inertial Signals/body_gyro_x_test.txt', delim_whitespace=True, header=None)\n",
    "body_gyro_y_test = pd.read_csv('UCI-HAR Dataset/test/Inertial Signals/body_gyro_y_test.txt', delim_whitespace=True, header=None)\n",
    "body_gyro_z_test = pd.read_csv('UCI-HAR Dataset/test/Inertial Signals/body_gyro_z_test.txt', delim_whitespace=True, header=None)\n",
    "total_acc_x_test = pd.read_csv('UCI-HAR Dataset/test/Inertial Signals/total_acc_x_test.txt', delim_whitespace=True, header=None)\n",
    "total_acc_y_test = pd.read_csv('UCI-HAR Dataset/test/Inertial Signals/total_acc_y_test.txt', delim_whitespace=True, header=None)\n",
    "total_acc_z_test = pd.read_csv('UCI-HAR Dataset/test/Inertial Signals/total_acc_z_test.txt', delim_whitespace=True, header=None)"
   ],
   "outputs": [
    {
     "name": "stderr",
     "output_type": "stream",
     "text": [
      "/var/folders/p3/nztkj0p504z32rp7hy7rn3900000gn/T/ipykernel_4603/2055133109.py:2: FutureWarning: The 'delim_whitespace' keyword in pd.read_csv is deprecated and will be removed in a future version. Use ``sep='\\s+'`` instead\n",
      "  body_acc_x_train = pd.read_csv('UCI-HAR Dataset/train/Inertial Signals/body_acc_x_train.txt', delim_whitespace=True, header=None)\n",
      "/var/folders/p3/nztkj0p504z32rp7hy7rn3900000gn/T/ipykernel_4603/2055133109.py:3: FutureWarning: The 'delim_whitespace' keyword in pd.read_csv is deprecated and will be removed in a future version. Use ``sep='\\s+'`` instead\n",
      "  body_acc_y_train = pd.read_csv('UCI-HAR Dataset/train/Inertial Signals/body_acc_y_train.txt', delim_whitespace=True, header=None)\n",
      "/var/folders/p3/nztkj0p504z32rp7hy7rn3900000gn/T/ipykernel_4603/2055133109.py:4: FutureWarning: The 'delim_whitespace' keyword in pd.read_csv is deprecated and will be removed in a future version. Use ``sep='\\s+'`` instead\n",
      "  body_acc_z_train = pd.read_csv('UCI-HAR Dataset/train/Inertial Signals/body_acc_z_train.txt', delim_whitespace=True, header=None)\n",
      "/var/folders/p3/nztkj0p504z32rp7hy7rn3900000gn/T/ipykernel_4603/2055133109.py:5: FutureWarning: The 'delim_whitespace' keyword in pd.read_csv is deprecated and will be removed in a future version. Use ``sep='\\s+'`` instead\n",
      "  body_gyro_x_train = pd.read_csv('UCI-HAR Dataset/train/Inertial Signals/body_gyro_x_train.txt', delim_whitespace=True, header=None)\n",
      "/var/folders/p3/nztkj0p504z32rp7hy7rn3900000gn/T/ipykernel_4603/2055133109.py:6: FutureWarning: The 'delim_whitespace' keyword in pd.read_csv is deprecated and will be removed in a future version. Use ``sep='\\s+'`` instead\n",
      "  body_gyro_y_train = pd.read_csv('UCI-HAR Dataset/train/Inertial Signals/body_gyro_y_train.txt', delim_whitespace=True, header=None)\n",
      "/var/folders/p3/nztkj0p504z32rp7hy7rn3900000gn/T/ipykernel_4603/2055133109.py:7: FutureWarning: The 'delim_whitespace' keyword in pd.read_csv is deprecated and will be removed in a future version. Use ``sep='\\s+'`` instead\n",
      "  body_gyro_z_train = pd.read_csv('UCI-HAR Dataset/train/Inertial Signals/body_gyro_z_train.txt', delim_whitespace=True, header=None)\n",
      "/var/folders/p3/nztkj0p504z32rp7hy7rn3900000gn/T/ipykernel_4603/2055133109.py:8: FutureWarning: The 'delim_whitespace' keyword in pd.read_csv is deprecated and will be removed in a future version. Use ``sep='\\s+'`` instead\n",
      "  total_acc_x_train = pd.read_csv('UCI-HAR Dataset/train/Inertial Signals/total_acc_x_train.txt', delim_whitespace=True, header=None)\n",
      "/var/folders/p3/nztkj0p504z32rp7hy7rn3900000gn/T/ipykernel_4603/2055133109.py:9: FutureWarning: The 'delim_whitespace' keyword in pd.read_csv is deprecated and will be removed in a future version. Use ``sep='\\s+'`` instead\n",
      "  total_acc_y_train = pd.read_csv('UCI-HAR Dataset/train/Inertial Signals/total_acc_y_train.txt', delim_whitespace=True, header=None)\n",
      "/var/folders/p3/nztkj0p504z32rp7hy7rn3900000gn/T/ipykernel_4603/2055133109.py:10: FutureWarning: The 'delim_whitespace' keyword in pd.read_csv is deprecated and will be removed in a future version. Use ``sep='\\s+'`` instead\n",
      "  total_acc_z_train = pd.read_csv('UCI-HAR Dataset/train/Inertial Signals/total_acc_z_train.txt', delim_whitespace=True, header=None)\n",
      "/var/folders/p3/nztkj0p504z32rp7hy7rn3900000gn/T/ipykernel_4603/2055133109.py:13: FutureWarning: The 'delim_whitespace' keyword in pd.read_csv is deprecated and will be removed in a future version. Use ``sep='\\s+'`` instead\n",
      "  body_acc_x_test = pd.read_csv('UCI-HAR Dataset/test/Inertial Signals/body_acc_x_test.txt', delim_whitespace=True, header=None)\n",
      "/var/folders/p3/nztkj0p504z32rp7hy7rn3900000gn/T/ipykernel_4603/2055133109.py:14: FutureWarning: The 'delim_whitespace' keyword in pd.read_csv is deprecated and will be removed in a future version. Use ``sep='\\s+'`` instead\n",
      "  body_acc_y_test = pd.read_csv('UCI-HAR Dataset/test/Inertial Signals/body_acc_y_test.txt', delim_whitespace=True, header=None)\n",
      "/var/folders/p3/nztkj0p504z32rp7hy7rn3900000gn/T/ipykernel_4603/2055133109.py:15: FutureWarning: The 'delim_whitespace' keyword in pd.read_csv is deprecated and will be removed in a future version. Use ``sep='\\s+'`` instead\n",
      "  body_acc_z_test = pd.read_csv('UCI-HAR Dataset/test/Inertial Signals/body_acc_z_test.txt', delim_whitespace=True, header=None)\n",
      "/var/folders/p3/nztkj0p504z32rp7hy7rn3900000gn/T/ipykernel_4603/2055133109.py:16: FutureWarning: The 'delim_whitespace' keyword in pd.read_csv is deprecated and will be removed in a future version. Use ``sep='\\s+'`` instead\n",
      "  body_gyro_x_test = pd.read_csv('UCI-HAR Dataset/test/Inertial Signals/body_gyro_x_test.txt', delim_whitespace=True, header=None)\n",
      "/var/folders/p3/nztkj0p504z32rp7hy7rn3900000gn/T/ipykernel_4603/2055133109.py:17: FutureWarning: The 'delim_whitespace' keyword in pd.read_csv is deprecated and will be removed in a future version. Use ``sep='\\s+'`` instead\n",
      "  body_gyro_y_test = pd.read_csv('UCI-HAR Dataset/test/Inertial Signals/body_gyro_y_test.txt', delim_whitespace=True, header=None)\n",
      "/var/folders/p3/nztkj0p504z32rp7hy7rn3900000gn/T/ipykernel_4603/2055133109.py:18: FutureWarning: The 'delim_whitespace' keyword in pd.read_csv is deprecated and will be removed in a future version. Use ``sep='\\s+'`` instead\n",
      "  body_gyro_z_test = pd.read_csv('UCI-HAR Dataset/test/Inertial Signals/body_gyro_z_test.txt', delim_whitespace=True, header=None)\n",
      "/var/folders/p3/nztkj0p504z32rp7hy7rn3900000gn/T/ipykernel_4603/2055133109.py:19: FutureWarning: The 'delim_whitespace' keyword in pd.read_csv is deprecated and will be removed in a future version. Use ``sep='\\s+'`` instead\n",
      "  total_acc_x_test = pd.read_csv('UCI-HAR Dataset/test/Inertial Signals/total_acc_x_test.txt', delim_whitespace=True, header=None)\n",
      "/var/folders/p3/nztkj0p504z32rp7hy7rn3900000gn/T/ipykernel_4603/2055133109.py:20: FutureWarning: The 'delim_whitespace' keyword in pd.read_csv is deprecated and will be removed in a future version. Use ``sep='\\s+'`` instead\n",
      "  total_acc_y_test = pd.read_csv('UCI-HAR Dataset/test/Inertial Signals/total_acc_y_test.txt', delim_whitespace=True, header=None)\n",
      "/var/folders/p3/nztkj0p504z32rp7hy7rn3900000gn/T/ipykernel_4603/2055133109.py:21: FutureWarning: The 'delim_whitespace' keyword in pd.read_csv is deprecated and will be removed in a future version. Use ``sep='\\s+'`` instead\n",
      "  total_acc_z_test = pd.read_csv('UCI-HAR Dataset/test/Inertial Signals/total_acc_z_test.txt', delim_whitespace=True, header=None)\n"
     ]
    }
   ],
   "execution_count": 26
  },
  {
   "cell_type": "code",
   "metadata": {
    "execution": {
     "iopub.execute_input": "2020-10-24T19:00:51.290582Z",
     "iopub.status.busy": "2020-10-24T19:00:51.289673Z",
     "iopub.status.idle": "2020-10-24T19:00:52.613390Z",
     "shell.execute_reply": "2020-10-24T19:00:52.612723Z"
    },
    "papermill": {
     "duration": 1.361277,
     "end_time": "2020-10-24T19:00:52.613588",
     "exception": false,
     "start_time": "2020-10-24T19:00:51.252311",
     "status": "completed"
    },
    "tags": [],
    "ExecuteTime": {
     "end_time": "2025-02-28T11:49:01.680033Z",
     "start_time": "2025-02-28T11:49:01.511567Z"
    }
   },
   "source": [
    "#test raw data 로드\n",
    "body_acc_x_test = pd.read_csv('/kaggle/input/uci-har/UCI HAR Dataset for Kaggle/UCI HAR Dataset for Kaggle/test/Inertial Signals/body_acc_x_test.txt', delim_whitespace=True, header=None)\n",
    "body_acc_x_test = pd.DataFrame(body_acc_x_test)\n",
    "body_acc_y_test = pd.read_csv('/kaggle/input/uci-har/UCI HAR Dataset for Kaggle/UCI HAR Dataset for Kaggle/test/Inertial Signals/body_acc_y_test.txt', delim_whitespace=True, header=None)\n",
    "body_acc_y_test = pd.DataFrame(body_acc_y_test)\n",
    "body_acc_z_test = pd.read_csv('/kaggle/input/uci-har/UCI HAR Dataset for Kaggle/UCI HAR Dataset for Kaggle/test/Inertial Signals/body_acc_z_test.txt', delim_whitespace=True, header=None)\n",
    "body_acc_z_test = pd.DataFrame(body_acc_z_test)\n",
    "body_gyro_x_test = pd.read_csv('/kaggle/input/uci-har/UCI HAR Dataset for Kaggle/UCI HAR Dataset for Kaggle/test/Inertial Signals/body_gyro_x_test.txt', delim_whitespace=True, header=None)\n",
    "body_gyro_x_test = pd.DataFrame(body_gyro_x_test)\n",
    "body_gyro_y_test = pd.read_csv('/kaggle/input/uci-har/UCI HAR Dataset for Kaggle/UCI HAR Dataset for Kaggle/test/Inertial Signals/body_gyro_y_test.txt', delim_whitespace=True, header=None)\n",
    "body_gyro_y_test = pd.DataFrame(body_gyro_y_test)\n",
    "body_gyro_z_test = pd.read_csv('/kaggle/input/uci-har/UCI HAR Dataset for Kaggle/UCI HAR Dataset for Kaggle/test/Inertial Signals/body_gyro_z_test.txt', delim_whitespace=True, header=None)\n",
    "body_gyro_z_test = pd.DataFrame(body_gyro_z_test)\n",
    "total_acc_x_test = pd.read_csv('/kaggle/input/uci-har/UCI HAR Dataset for Kaggle/UCI HAR Dataset for Kaggle/test/Inertial Signals/total_acc_x_test.txt', delim_whitespace=True, header=None)\n",
    "total_acc_x_test = pd.DataFrame(total_acc_x_test)\n",
    "total_acc_y_test = pd.read_csv('/kaggle/input/uci-har/UCI HAR Dataset for Kaggle/UCI HAR Dataset for Kaggle/test/Inertial Signals/total_acc_y_test.txt', delim_whitespace=True, header=None)\n",
    "total_acc_y_test = pd.DataFrame(total_acc_y_test)\n",
    "total_acc_z_test = pd.read_csv('/kaggle/input/uci-har/UCI HAR Dataset for Kaggle/UCI HAR Dataset for Kaggle/test/Inertial Signals/total_acc_z_test.txt', delim_whitespace=True, header=None)\n",
    "total_acc_z_test = pd.DataFrame(total_acc_z_test)"
   ],
   "outputs": [
    {
     "name": "stderr",
     "output_type": "stream",
     "text": [
      "/var/folders/p3/nztkj0p504z32rp7hy7rn3900000gn/T/ipykernel_4603/3227769828.py:2: FutureWarning: The 'delim_whitespace' keyword in pd.read_csv is deprecated and will be removed in a future version. Use ``sep='\\s+'`` instead\n",
      "  body_acc_x_test = pd.read_csv('/kaggle/input/uci-har/UCI HAR Dataset for Kaggle/UCI HAR Dataset for Kaggle/test/Inertial Signals/body_acc_x_test.txt', delim_whitespace=True, header=None)\n"
     ]
    },
    {
     "ename": "FileNotFoundError",
     "evalue": "[Errno 2] No such file or directory: '/kaggle/input/uci-har/UCI HAR Dataset for Kaggle/UCI HAR Dataset for Kaggle/test/Inertial Signals/body_acc_x_test.txt'",
     "output_type": "error",
     "traceback": [
      "\u001B[0;31m---------------------------------------------------------------------------\u001B[0m",
      "\u001B[0;31mFileNotFoundError\u001B[0m                         Traceback (most recent call last)",
      "Cell \u001B[0;32mIn[27], line 2\u001B[0m\n\u001B[1;32m      1\u001B[0m \u001B[38;5;66;03m#test raw data 로드\u001B[39;00m\n\u001B[0;32m----> 2\u001B[0m body_acc_x_test \u001B[38;5;241m=\u001B[39m \u001B[43mpd\u001B[49m\u001B[38;5;241;43m.\u001B[39;49m\u001B[43mread_csv\u001B[49m\u001B[43m(\u001B[49m\u001B[38;5;124;43m'\u001B[39;49m\u001B[38;5;124;43m/kaggle/input/uci-har/UCI HAR Dataset for Kaggle/UCI HAR Dataset for Kaggle/test/Inertial Signals/body_acc_x_test.txt\u001B[39;49m\u001B[38;5;124;43m'\u001B[39;49m\u001B[43m,\u001B[49m\u001B[43m \u001B[49m\u001B[43mdelim_whitespace\u001B[49m\u001B[38;5;241;43m=\u001B[39;49m\u001B[38;5;28;43;01mTrue\u001B[39;49;00m\u001B[43m,\u001B[49m\u001B[43m \u001B[49m\u001B[43mheader\u001B[49m\u001B[38;5;241;43m=\u001B[39;49m\u001B[38;5;28;43;01mNone\u001B[39;49;00m\u001B[43m)\u001B[49m\n\u001B[1;32m      3\u001B[0m body_acc_x_test \u001B[38;5;241m=\u001B[39m pd\u001B[38;5;241m.\u001B[39mDataFrame(body_acc_x_test)\n\u001B[1;32m      4\u001B[0m body_acc_y_test \u001B[38;5;241m=\u001B[39m pd\u001B[38;5;241m.\u001B[39mread_csv(\u001B[38;5;124m'\u001B[39m\u001B[38;5;124m/kaggle/input/uci-har/UCI HAR Dataset for Kaggle/UCI HAR Dataset for Kaggle/test/Inertial Signals/body_acc_y_test.txt\u001B[39m\u001B[38;5;124m'\u001B[39m, delim_whitespace\u001B[38;5;241m=\u001B[39m\u001B[38;5;28;01mTrue\u001B[39;00m, header\u001B[38;5;241m=\u001B[39m\u001B[38;5;28;01mNone\u001B[39;00m)\n",
      "File \u001B[0;32m~/PycharmProjects/IITGNSelectionTask-1/.venv/lib/python3.10/site-packages/pandas/io/parsers/readers.py:1026\u001B[0m, in \u001B[0;36mread_csv\u001B[0;34m(filepath_or_buffer, sep, delimiter, header, names, index_col, usecols, dtype, engine, converters, true_values, false_values, skipinitialspace, skiprows, skipfooter, nrows, na_values, keep_default_na, na_filter, verbose, skip_blank_lines, parse_dates, infer_datetime_format, keep_date_col, date_parser, date_format, dayfirst, cache_dates, iterator, chunksize, compression, thousands, decimal, lineterminator, quotechar, quoting, doublequote, escapechar, comment, encoding, encoding_errors, dialect, on_bad_lines, delim_whitespace, low_memory, memory_map, float_precision, storage_options, dtype_backend)\u001B[0m\n\u001B[1;32m   1013\u001B[0m kwds_defaults \u001B[38;5;241m=\u001B[39m _refine_defaults_read(\n\u001B[1;32m   1014\u001B[0m     dialect,\n\u001B[1;32m   1015\u001B[0m     delimiter,\n\u001B[0;32m   (...)\u001B[0m\n\u001B[1;32m   1022\u001B[0m     dtype_backend\u001B[38;5;241m=\u001B[39mdtype_backend,\n\u001B[1;32m   1023\u001B[0m )\n\u001B[1;32m   1024\u001B[0m kwds\u001B[38;5;241m.\u001B[39mupdate(kwds_defaults)\n\u001B[0;32m-> 1026\u001B[0m \u001B[38;5;28;01mreturn\u001B[39;00m \u001B[43m_read\u001B[49m\u001B[43m(\u001B[49m\u001B[43mfilepath_or_buffer\u001B[49m\u001B[43m,\u001B[49m\u001B[43m \u001B[49m\u001B[43mkwds\u001B[49m\u001B[43m)\u001B[49m\n",
      "File \u001B[0;32m~/PycharmProjects/IITGNSelectionTask-1/.venv/lib/python3.10/site-packages/pandas/io/parsers/readers.py:620\u001B[0m, in \u001B[0;36m_read\u001B[0;34m(filepath_or_buffer, kwds)\u001B[0m\n\u001B[1;32m    617\u001B[0m _validate_names(kwds\u001B[38;5;241m.\u001B[39mget(\u001B[38;5;124m\"\u001B[39m\u001B[38;5;124mnames\u001B[39m\u001B[38;5;124m\"\u001B[39m, \u001B[38;5;28;01mNone\u001B[39;00m))\n\u001B[1;32m    619\u001B[0m \u001B[38;5;66;03m# Create the parser.\u001B[39;00m\n\u001B[0;32m--> 620\u001B[0m parser \u001B[38;5;241m=\u001B[39m \u001B[43mTextFileReader\u001B[49m\u001B[43m(\u001B[49m\u001B[43mfilepath_or_buffer\u001B[49m\u001B[43m,\u001B[49m\u001B[43m \u001B[49m\u001B[38;5;241;43m*\u001B[39;49m\u001B[38;5;241;43m*\u001B[39;49m\u001B[43mkwds\u001B[49m\u001B[43m)\u001B[49m\n\u001B[1;32m    622\u001B[0m \u001B[38;5;28;01mif\u001B[39;00m chunksize \u001B[38;5;129;01mor\u001B[39;00m iterator:\n\u001B[1;32m    623\u001B[0m     \u001B[38;5;28;01mreturn\u001B[39;00m parser\n",
      "File \u001B[0;32m~/PycharmProjects/IITGNSelectionTask-1/.venv/lib/python3.10/site-packages/pandas/io/parsers/readers.py:1620\u001B[0m, in \u001B[0;36mTextFileReader.__init__\u001B[0;34m(self, f, engine, **kwds)\u001B[0m\n\u001B[1;32m   1617\u001B[0m     \u001B[38;5;28mself\u001B[39m\u001B[38;5;241m.\u001B[39moptions[\u001B[38;5;124m\"\u001B[39m\u001B[38;5;124mhas_index_names\u001B[39m\u001B[38;5;124m\"\u001B[39m] \u001B[38;5;241m=\u001B[39m kwds[\u001B[38;5;124m\"\u001B[39m\u001B[38;5;124mhas_index_names\u001B[39m\u001B[38;5;124m\"\u001B[39m]\n\u001B[1;32m   1619\u001B[0m \u001B[38;5;28mself\u001B[39m\u001B[38;5;241m.\u001B[39mhandles: IOHandles \u001B[38;5;241m|\u001B[39m \u001B[38;5;28;01mNone\u001B[39;00m \u001B[38;5;241m=\u001B[39m \u001B[38;5;28;01mNone\u001B[39;00m\n\u001B[0;32m-> 1620\u001B[0m \u001B[38;5;28mself\u001B[39m\u001B[38;5;241m.\u001B[39m_engine \u001B[38;5;241m=\u001B[39m \u001B[38;5;28;43mself\u001B[39;49m\u001B[38;5;241;43m.\u001B[39;49m\u001B[43m_make_engine\u001B[49m\u001B[43m(\u001B[49m\u001B[43mf\u001B[49m\u001B[43m,\u001B[49m\u001B[43m \u001B[49m\u001B[38;5;28;43mself\u001B[39;49m\u001B[38;5;241;43m.\u001B[39;49m\u001B[43mengine\u001B[49m\u001B[43m)\u001B[49m\n",
      "File \u001B[0;32m~/PycharmProjects/IITGNSelectionTask-1/.venv/lib/python3.10/site-packages/pandas/io/parsers/readers.py:1880\u001B[0m, in \u001B[0;36mTextFileReader._make_engine\u001B[0;34m(self, f, engine)\u001B[0m\n\u001B[1;32m   1878\u001B[0m     \u001B[38;5;28;01mif\u001B[39;00m \u001B[38;5;124m\"\u001B[39m\u001B[38;5;124mb\u001B[39m\u001B[38;5;124m\"\u001B[39m \u001B[38;5;129;01mnot\u001B[39;00m \u001B[38;5;129;01min\u001B[39;00m mode:\n\u001B[1;32m   1879\u001B[0m         mode \u001B[38;5;241m+\u001B[39m\u001B[38;5;241m=\u001B[39m \u001B[38;5;124m\"\u001B[39m\u001B[38;5;124mb\u001B[39m\u001B[38;5;124m\"\u001B[39m\n\u001B[0;32m-> 1880\u001B[0m \u001B[38;5;28mself\u001B[39m\u001B[38;5;241m.\u001B[39mhandles \u001B[38;5;241m=\u001B[39m \u001B[43mget_handle\u001B[49m\u001B[43m(\u001B[49m\n\u001B[1;32m   1881\u001B[0m \u001B[43m    \u001B[49m\u001B[43mf\u001B[49m\u001B[43m,\u001B[49m\n\u001B[1;32m   1882\u001B[0m \u001B[43m    \u001B[49m\u001B[43mmode\u001B[49m\u001B[43m,\u001B[49m\n\u001B[1;32m   1883\u001B[0m \u001B[43m    \u001B[49m\u001B[43mencoding\u001B[49m\u001B[38;5;241;43m=\u001B[39;49m\u001B[38;5;28;43mself\u001B[39;49m\u001B[38;5;241;43m.\u001B[39;49m\u001B[43moptions\u001B[49m\u001B[38;5;241;43m.\u001B[39;49m\u001B[43mget\u001B[49m\u001B[43m(\u001B[49m\u001B[38;5;124;43m\"\u001B[39;49m\u001B[38;5;124;43mencoding\u001B[39;49m\u001B[38;5;124;43m\"\u001B[39;49m\u001B[43m,\u001B[49m\u001B[43m \u001B[49m\u001B[38;5;28;43;01mNone\u001B[39;49;00m\u001B[43m)\u001B[49m\u001B[43m,\u001B[49m\n\u001B[1;32m   1884\u001B[0m \u001B[43m    \u001B[49m\u001B[43mcompression\u001B[49m\u001B[38;5;241;43m=\u001B[39;49m\u001B[38;5;28;43mself\u001B[39;49m\u001B[38;5;241;43m.\u001B[39;49m\u001B[43moptions\u001B[49m\u001B[38;5;241;43m.\u001B[39;49m\u001B[43mget\u001B[49m\u001B[43m(\u001B[49m\u001B[38;5;124;43m\"\u001B[39;49m\u001B[38;5;124;43mcompression\u001B[39;49m\u001B[38;5;124;43m\"\u001B[39;49m\u001B[43m,\u001B[49m\u001B[43m \u001B[49m\u001B[38;5;28;43;01mNone\u001B[39;49;00m\u001B[43m)\u001B[49m\u001B[43m,\u001B[49m\n\u001B[1;32m   1885\u001B[0m \u001B[43m    \u001B[49m\u001B[43mmemory_map\u001B[49m\u001B[38;5;241;43m=\u001B[39;49m\u001B[38;5;28;43mself\u001B[39;49m\u001B[38;5;241;43m.\u001B[39;49m\u001B[43moptions\u001B[49m\u001B[38;5;241;43m.\u001B[39;49m\u001B[43mget\u001B[49m\u001B[43m(\u001B[49m\u001B[38;5;124;43m\"\u001B[39;49m\u001B[38;5;124;43mmemory_map\u001B[39;49m\u001B[38;5;124;43m\"\u001B[39;49m\u001B[43m,\u001B[49m\u001B[43m \u001B[49m\u001B[38;5;28;43;01mFalse\u001B[39;49;00m\u001B[43m)\u001B[49m\u001B[43m,\u001B[49m\n\u001B[1;32m   1886\u001B[0m \u001B[43m    \u001B[49m\u001B[43mis_text\u001B[49m\u001B[38;5;241;43m=\u001B[39;49m\u001B[43mis_text\u001B[49m\u001B[43m,\u001B[49m\n\u001B[1;32m   1887\u001B[0m \u001B[43m    \u001B[49m\u001B[43merrors\u001B[49m\u001B[38;5;241;43m=\u001B[39;49m\u001B[38;5;28;43mself\u001B[39;49m\u001B[38;5;241;43m.\u001B[39;49m\u001B[43moptions\u001B[49m\u001B[38;5;241;43m.\u001B[39;49m\u001B[43mget\u001B[49m\u001B[43m(\u001B[49m\u001B[38;5;124;43m\"\u001B[39;49m\u001B[38;5;124;43mencoding_errors\u001B[39;49m\u001B[38;5;124;43m\"\u001B[39;49m\u001B[43m,\u001B[49m\u001B[43m \u001B[49m\u001B[38;5;124;43m\"\u001B[39;49m\u001B[38;5;124;43mstrict\u001B[39;49m\u001B[38;5;124;43m\"\u001B[39;49m\u001B[43m)\u001B[49m\u001B[43m,\u001B[49m\n\u001B[1;32m   1888\u001B[0m \u001B[43m    \u001B[49m\u001B[43mstorage_options\u001B[49m\u001B[38;5;241;43m=\u001B[39;49m\u001B[38;5;28;43mself\u001B[39;49m\u001B[38;5;241;43m.\u001B[39;49m\u001B[43moptions\u001B[49m\u001B[38;5;241;43m.\u001B[39;49m\u001B[43mget\u001B[49m\u001B[43m(\u001B[49m\u001B[38;5;124;43m\"\u001B[39;49m\u001B[38;5;124;43mstorage_options\u001B[39;49m\u001B[38;5;124;43m\"\u001B[39;49m\u001B[43m,\u001B[49m\u001B[43m \u001B[49m\u001B[38;5;28;43;01mNone\u001B[39;49;00m\u001B[43m)\u001B[49m\u001B[43m,\u001B[49m\n\u001B[1;32m   1889\u001B[0m \u001B[43m\u001B[49m\u001B[43m)\u001B[49m\n\u001B[1;32m   1890\u001B[0m \u001B[38;5;28;01massert\u001B[39;00m \u001B[38;5;28mself\u001B[39m\u001B[38;5;241m.\u001B[39mhandles \u001B[38;5;129;01mis\u001B[39;00m \u001B[38;5;129;01mnot\u001B[39;00m \u001B[38;5;28;01mNone\u001B[39;00m\n\u001B[1;32m   1891\u001B[0m f \u001B[38;5;241m=\u001B[39m \u001B[38;5;28mself\u001B[39m\u001B[38;5;241m.\u001B[39mhandles\u001B[38;5;241m.\u001B[39mhandle\n",
      "File \u001B[0;32m~/PycharmProjects/IITGNSelectionTask-1/.venv/lib/python3.10/site-packages/pandas/io/common.py:873\u001B[0m, in \u001B[0;36mget_handle\u001B[0;34m(path_or_buf, mode, encoding, compression, memory_map, is_text, errors, storage_options)\u001B[0m\n\u001B[1;32m    868\u001B[0m \u001B[38;5;28;01melif\u001B[39;00m \u001B[38;5;28misinstance\u001B[39m(handle, \u001B[38;5;28mstr\u001B[39m):\n\u001B[1;32m    869\u001B[0m     \u001B[38;5;66;03m# Check whether the filename is to be opened in binary mode.\u001B[39;00m\n\u001B[1;32m    870\u001B[0m     \u001B[38;5;66;03m# Binary mode does not support 'encoding' and 'newline'.\u001B[39;00m\n\u001B[1;32m    871\u001B[0m     \u001B[38;5;28;01mif\u001B[39;00m ioargs\u001B[38;5;241m.\u001B[39mencoding \u001B[38;5;129;01mand\u001B[39;00m \u001B[38;5;124m\"\u001B[39m\u001B[38;5;124mb\u001B[39m\u001B[38;5;124m\"\u001B[39m \u001B[38;5;129;01mnot\u001B[39;00m \u001B[38;5;129;01min\u001B[39;00m ioargs\u001B[38;5;241m.\u001B[39mmode:\n\u001B[1;32m    872\u001B[0m         \u001B[38;5;66;03m# Encoding\u001B[39;00m\n\u001B[0;32m--> 873\u001B[0m         handle \u001B[38;5;241m=\u001B[39m \u001B[38;5;28;43mopen\u001B[39;49m\u001B[43m(\u001B[49m\n\u001B[1;32m    874\u001B[0m \u001B[43m            \u001B[49m\u001B[43mhandle\u001B[49m\u001B[43m,\u001B[49m\n\u001B[1;32m    875\u001B[0m \u001B[43m            \u001B[49m\u001B[43mioargs\u001B[49m\u001B[38;5;241;43m.\u001B[39;49m\u001B[43mmode\u001B[49m\u001B[43m,\u001B[49m\n\u001B[1;32m    876\u001B[0m \u001B[43m            \u001B[49m\u001B[43mencoding\u001B[49m\u001B[38;5;241;43m=\u001B[39;49m\u001B[43mioargs\u001B[49m\u001B[38;5;241;43m.\u001B[39;49m\u001B[43mencoding\u001B[49m\u001B[43m,\u001B[49m\n\u001B[1;32m    877\u001B[0m \u001B[43m            \u001B[49m\u001B[43merrors\u001B[49m\u001B[38;5;241;43m=\u001B[39;49m\u001B[43merrors\u001B[49m\u001B[43m,\u001B[49m\n\u001B[1;32m    878\u001B[0m \u001B[43m            \u001B[49m\u001B[43mnewline\u001B[49m\u001B[38;5;241;43m=\u001B[39;49m\u001B[38;5;124;43m\"\u001B[39;49m\u001B[38;5;124;43m\"\u001B[39;49m\u001B[43m,\u001B[49m\n\u001B[1;32m    879\u001B[0m \u001B[43m        \u001B[49m\u001B[43m)\u001B[49m\n\u001B[1;32m    880\u001B[0m     \u001B[38;5;28;01melse\u001B[39;00m:\n\u001B[1;32m    881\u001B[0m         \u001B[38;5;66;03m# Binary mode\u001B[39;00m\n\u001B[1;32m    882\u001B[0m         handle \u001B[38;5;241m=\u001B[39m \u001B[38;5;28mopen\u001B[39m(handle, ioargs\u001B[38;5;241m.\u001B[39mmode)\n",
      "\u001B[0;31mFileNotFoundError\u001B[0m: [Errno 2] No such file or directory: '/kaggle/input/uci-har/UCI HAR Dataset for Kaggle/UCI HAR Dataset for Kaggle/test/Inertial Signals/body_acc_x_test.txt'"
     ]
    }
   ],
   "execution_count": 27
  },
  {
   "cell_type": "code",
   "metadata": {
    "execution": {
     "iopub.execute_input": "2020-10-24T19:00:52.681673Z",
     "iopub.status.busy": "2020-10-24T19:00:52.677462Z",
     "iopub.status.idle": "2020-10-24T19:00:52.699766Z",
     "shell.execute_reply": "2020-10-24T19:00:52.700379Z"
    },
    "papermill": {
     "duration": 0.066432,
     "end_time": "2020-10-24T19:00:52.700567",
     "exception": false,
     "start_time": "2020-10-24T19:00:52.634135",
     "status": "completed"
    },
    "tags": [],
    "ExecuteTime": {
     "end_time": "2025-02-28T11:49:01.688025Z",
     "start_time": "2025-02-28T11:08:38.345051Z"
    }
   },
   "source": [
    "body_gyro_x_train.sample() #확인"
   ],
   "outputs": [
    {
     "data": {
      "text/plain": [
       "           0         1         2        3         4        5         6    \\\n",
       "4529  0.167566  0.163469  0.004566 -0.47585 -0.696044 -0.35426  0.344263   \n",
       "\n",
       "          7         8         9    ...       118       119       120  \\\n",
       "4529  0.57485  0.361731  0.163649  ... -0.257797 -0.051236  0.054753   \n",
       "\n",
       "           121       122      123       124       125       126       127  \n",
       "4529  0.192392  0.144082  0.05513 -0.242114 -0.535434 -0.530917 -0.382652  \n",
       "\n",
       "[1 rows x 128 columns]"
      ],
      "text/html": [
       "<div>\n",
       "<style scoped>\n",
       "    .dataframe tbody tr th:only-of-type {\n",
       "        vertical-align: middle;\n",
       "    }\n",
       "\n",
       "    .dataframe tbody tr th {\n",
       "        vertical-align: top;\n",
       "    }\n",
       "\n",
       "    .dataframe thead th {\n",
       "        text-align: right;\n",
       "    }\n",
       "</style>\n",
       "<table border=\"1\" class=\"dataframe\">\n",
       "  <thead>\n",
       "    <tr style=\"text-align: right;\">\n",
       "      <th></th>\n",
       "      <th>0</th>\n",
       "      <th>1</th>\n",
       "      <th>2</th>\n",
       "      <th>3</th>\n",
       "      <th>4</th>\n",
       "      <th>5</th>\n",
       "      <th>6</th>\n",
       "      <th>7</th>\n",
       "      <th>8</th>\n",
       "      <th>9</th>\n",
       "      <th>...</th>\n",
       "      <th>118</th>\n",
       "      <th>119</th>\n",
       "      <th>120</th>\n",
       "      <th>121</th>\n",
       "      <th>122</th>\n",
       "      <th>123</th>\n",
       "      <th>124</th>\n",
       "      <th>125</th>\n",
       "      <th>126</th>\n",
       "      <th>127</th>\n",
       "    </tr>\n",
       "  </thead>\n",
       "  <tbody>\n",
       "    <tr>\n",
       "      <th>4529</th>\n",
       "      <td>0.167566</td>\n",
       "      <td>0.163469</td>\n",
       "      <td>0.004566</td>\n",
       "      <td>-0.47585</td>\n",
       "      <td>-0.696044</td>\n",
       "      <td>-0.35426</td>\n",
       "      <td>0.344263</td>\n",
       "      <td>0.57485</td>\n",
       "      <td>0.361731</td>\n",
       "      <td>0.163649</td>\n",
       "      <td>...</td>\n",
       "      <td>-0.257797</td>\n",
       "      <td>-0.051236</td>\n",
       "      <td>0.054753</td>\n",
       "      <td>0.192392</td>\n",
       "      <td>0.144082</td>\n",
       "      <td>0.05513</td>\n",
       "      <td>-0.242114</td>\n",
       "      <td>-0.535434</td>\n",
       "      <td>-0.530917</td>\n",
       "      <td>-0.382652</td>\n",
       "    </tr>\n",
       "  </tbody>\n",
       "</table>\n",
       "<p>1 rows × 128 columns</p>\n",
       "</div>"
      ]
     },
     "execution_count": 4,
     "metadata": {},
     "output_type": "execute_result"
    }
   ],
   "execution_count": 4
  },
  {
   "cell_type": "code",
   "metadata": {
    "execution": {
     "iopub.execute_input": "2020-10-24T19:00:52.767544Z",
     "iopub.status.busy": "2020-10-24T19:00:52.766635Z",
     "iopub.status.idle": "2020-10-24T19:00:52.771471Z",
     "shell.execute_reply": "2020-10-24T19:00:52.772099Z"
    },
    "papermill": {
     "duration": 0.050983,
     "end_time": "2020-10-24T19:00:52.772271",
     "exception": false,
     "start_time": "2020-10-24T19:00:52.721288",
     "status": "completed"
    },
    "tags": [],
    "ExecuteTime": {
     "end_time": "2025-02-28T11:49:01.846029Z",
     "start_time": "2025-02-28T11:49:01.836288Z"
    }
   },
   "source": [
    "total_acc_z_test.sample() #확인"
   ],
   "outputs": [
    {
     "data": {
      "text/plain": [
       "           0         1         2         3         4        5         6    \\\n",
       "1990  0.012996  0.027562  0.027892  0.030688  0.058961  0.06962  0.076448   \n",
       "\n",
       "           7         8         9    ...       118       119       120  \\\n",
       "1990  0.098171  0.107395  0.113907  ... -0.070912 -0.074665 -0.074962   \n",
       "\n",
       "           121       122       123       124       125       126       127  \n",
       "1990 -0.078274 -0.094032 -0.123934 -0.154704 -0.116616 -0.026934  0.025046  \n",
       "\n",
       "[1 rows x 128 columns]"
      ],
      "text/html": [
       "<div>\n",
       "<style scoped>\n",
       "    .dataframe tbody tr th:only-of-type {\n",
       "        vertical-align: middle;\n",
       "    }\n",
       "\n",
       "    .dataframe tbody tr th {\n",
       "        vertical-align: top;\n",
       "    }\n",
       "\n",
       "    .dataframe thead th {\n",
       "        text-align: right;\n",
       "    }\n",
       "</style>\n",
       "<table border=\"1\" class=\"dataframe\">\n",
       "  <thead>\n",
       "    <tr style=\"text-align: right;\">\n",
       "      <th></th>\n",
       "      <th>0</th>\n",
       "      <th>1</th>\n",
       "      <th>2</th>\n",
       "      <th>3</th>\n",
       "      <th>4</th>\n",
       "      <th>5</th>\n",
       "      <th>6</th>\n",
       "      <th>7</th>\n",
       "      <th>8</th>\n",
       "      <th>9</th>\n",
       "      <th>...</th>\n",
       "      <th>118</th>\n",
       "      <th>119</th>\n",
       "      <th>120</th>\n",
       "      <th>121</th>\n",
       "      <th>122</th>\n",
       "      <th>123</th>\n",
       "      <th>124</th>\n",
       "      <th>125</th>\n",
       "      <th>126</th>\n",
       "      <th>127</th>\n",
       "    </tr>\n",
       "  </thead>\n",
       "  <tbody>\n",
       "    <tr>\n",
       "      <th>1990</th>\n",
       "      <td>0.012996</td>\n",
       "      <td>0.027562</td>\n",
       "      <td>0.027892</td>\n",
       "      <td>0.030688</td>\n",
       "      <td>0.058961</td>\n",
       "      <td>0.06962</td>\n",
       "      <td>0.076448</td>\n",
       "      <td>0.098171</td>\n",
       "      <td>0.107395</td>\n",
       "      <td>0.113907</td>\n",
       "      <td>...</td>\n",
       "      <td>-0.070912</td>\n",
       "      <td>-0.074665</td>\n",
       "      <td>-0.074962</td>\n",
       "      <td>-0.078274</td>\n",
       "      <td>-0.094032</td>\n",
       "      <td>-0.123934</td>\n",
       "      <td>-0.154704</td>\n",
       "      <td>-0.116616</td>\n",
       "      <td>-0.026934</td>\n",
       "      <td>0.025046</td>\n",
       "    </tr>\n",
       "  </tbody>\n",
       "</table>\n",
       "<p>1 rows × 128 columns</p>\n",
       "</div>"
      ]
     },
     "execution_count": 28,
     "metadata": {},
     "output_type": "execute_result"
    }
   ],
   "execution_count": 28
  },
  {
   "cell_type": "code",
   "metadata": {
    "execution": {
     "iopub.execute_input": "2020-10-24T19:00:52.831273Z",
     "iopub.status.busy": "2020-10-24T19:00:52.830497Z",
     "iopub.status.idle": "2020-10-24T19:00:54.772255Z",
     "shell.execute_reply": "2020-10-24T19:00:54.771409Z"
    },
    "papermill": {
     "duration": 1.978489,
     "end_time": "2020-10-24T19:00:54.772398",
     "exception": false,
     "start_time": "2020-10-24T19:00:52.793909",
     "status": "completed"
    },
    "tags": [],
    "ExecuteTime": {
     "end_time": "2025-02-28T11:49:02.317079Z",
     "start_time": "2025-02-28T11:49:02.086290Z"
    }
   },
   "source": [
    "from sklearn.decomposition import PCA\n",
    "\n",
    "pca = PCA(n_components=0.9)\n",
    "body_acc_x_train_reduce = pd.DataFrame(pca.fit_transform(body_acc_x_train))\n",
    "body_acc_x_test_reduce = pd.DataFrame(pca.transform(body_acc_x_test))\n",
    "\n",
    "body_acc_y_train_reduce = pd.DataFrame(pca.fit_transform(body_acc_y_train))\n",
    "body_acc_y_test_reduce = pd.DataFrame(pca.transform(body_acc_y_test))\n",
    "\n",
    "body_acc_z_train_reduce = pd.DataFrame(pca.fit_transform(body_acc_z_train))\n",
    "body_acc_z_test_reduce = pd.DataFrame(pca.transform(body_acc_z_test))\n",
    "\n",
    "body_gyro_x_train_reduce = pd.DataFrame(pca.fit_transform(body_gyro_x_train))\n",
    "body_gyro_x_test_reduce = pd.DataFrame(pca.transform(body_gyro_x_test))\n",
    "\n",
    "body_gyro_y_train_reduce = pd.DataFrame(pca.fit_transform(body_gyro_y_train))\n",
    "body_gyro_y_test_reduce = pd.DataFrame(pca.transform(body_gyro_y_test))\n",
    "\n",
    "body_gyro_z_train_reduce = pd.DataFrame(pca.fit_transform(body_gyro_z_train))\n",
    "body_gyro_z_test_reduce = pd.DataFrame(pca.transform(body_gyro_z_test))\n",
    "\n",
    "total_acc_x_train_reduce = pd.DataFrame(pca.fit_transform(total_acc_x_train))\n",
    "total_acc_x_test_reduce = pd.DataFrame(pca.transform(total_acc_x_test))\n",
    "\n",
    "total_acc_y_train_reduce = pd.DataFrame(pca.fit_transform(total_acc_y_train))\n",
    "total_acc_y_test_reduce = pd.DataFrame(pca.transform(total_acc_y_test))\n",
    "\n",
    "total_acc_z_train_reduce = pd.DataFrame(pca.fit_transform(total_acc_z_train))\n",
    "total_acc_z_test_reduce = pd.DataFrame(pca.transform(total_acc_z_test))\n",
    "\n",
    "body_acc_x_train_reduce.shape"
   ],
   "outputs": [
    {
     "data": {
      "text/plain": [
       "(7352, 27)"
      ]
     },
     "execution_count": 29,
     "metadata": {},
     "output_type": "execute_result"
    }
   ],
   "execution_count": 29
  },
  {
   "cell_type": "code",
   "metadata": {
    "execution": {
     "iopub.execute_input": "2020-10-24T19:00:54.851567Z",
     "iopub.status.busy": "2020-10-24T19:00:54.847941Z",
     "iopub.status.idle": "2020-10-24T19:00:54.997522Z",
     "shell.execute_reply": "2020-10-24T19:00:54.998166Z"
    },
    "papermill": {
     "duration": 0.203179,
     "end_time": "2020-10-24T19:00:54.998330",
     "exception": false,
     "start_time": "2020-10-24T19:00:54.795151",
     "status": "completed"
    },
    "tags": [],
    "ExecuteTime": {
     "end_time": "2025-02-28T11:49:05.817956Z",
     "start_time": "2025-02-28T11:49:03.104960Z"
    }
   },
   "source": [
    "import numpy as np\n",
    "\n",
    "def mad(data):\n",
    "    return np.mean(np.abs(data - np.mean(data)))\n",
    "\n",
    "pca_new = pd.DataFrame(body_acc_x_train_reduce.mean(axis=1))\n",
    "pca_new.columns = ['tBodyAcc-mean()-x']\n",
    "pca_new['tBodyAcc-mean()-y'] = body_acc_y_train_reduce.mean(axis=1)\n",
    "pca_new['tBodyAcc-mean()-z'] = body_acc_z_train_reduce.mean(axis=1)\n",
    "pca_new['tBodyGyro-mean()-x'] = body_gyro_x_train_reduce.mean(axis=1)\n",
    "pca_new['tBodyGyro-mean()-y'] = body_gyro_y_train_reduce.mean(axis=1)\n",
    "pca_new['tBodyGyro-mean()-z'] = body_gyro_z_train_reduce.mean(axis=1)\n",
    "pca_new['tTotalAcc-mean()-x'] = total_acc_x_train_reduce.mean(axis=1)\n",
    "pca_new['tTotalAcc-mean()-y'] = total_acc_y_train_reduce.mean(axis=1)\n",
    "pca_new['tTotalAcc-mean()-z'] = total_acc_z_train_reduce.mean(axis=1)\n",
    "\n",
    "pca_new['tBodyAcc-std()-x'] = body_acc_x_train_reduce.std(axis=1)\n",
    "pca_new['tBodyAcc-std()-y'] = body_acc_y_train_reduce.std(axis=1)\n",
    "pca_new['tBodyAcc-std()-z'] = body_acc_z_train_reduce.std(axis=1)\n",
    "pca_new['tBodyGyro-std()-x'] = body_gyro_x_train_reduce.std(axis=1)\n",
    "pca_new['tBodyGyro-std()-y'] = body_gyro_y_train_reduce.std(axis=1)\n",
    "pca_new['tBodyGyro-std()-z'] = body_gyro_z_train_reduce.std(axis=1)\n",
    "pca_new['tTotalAcc-std()-x'] = total_acc_x_train_reduce.std(axis=1)\n",
    "# Removed tTotalAcc-std()-y and tTotalAcc-std()-z as they were resulting in NaN values\n",
    "\n",
    "pca_new['tBodyAcc-mad()-x'] = body_acc_x_train_reduce.apply(mad, axis=1)\n",
    "pca_new['tBodyAcc-mad()-y'] = body_acc_y_train_reduce.apply(mad, axis=1)\n",
    "pca_new['tBodyAcc-mad()-z'] = body_acc_z_train_reduce.apply(mad, axis=1)\n",
    "pca_new['tBodyGyro-mad()-x'] = body_gyro_x_train_reduce.apply(mad, axis=1)\n",
    "pca_new['tBodyGyro-mad()-y'] = body_gyro_y_train_reduce.apply(mad, axis=1)\n",
    "pca_new['tBodyGyro-mad()-z'] = body_gyro_z_train_reduce.apply(mad, axis=1)\n",
    "pca_new['tTotalAcc-mad()-x'] = total_acc_x_train_reduce.apply(mad, axis=1)\n",
    "# Removed tTotalAcc-mad()-y and tTotalAcc-mad()-z as they were resulting in all zeros\n",
    "\n",
    "# The rest of the code remains the same\n",
    "pca_new['tBodyAcc-max()-x'] = body_acc_x_train_reduce.max(axis=1)\n",
    "pca_new['tBodyAcc-max()-y'] = body_acc_y_train_reduce.max(axis=1)\n",
    "pca_new['tBodyAcc-max()-z'] = body_acc_z_train_reduce.max(axis=1)\n",
    "pca_new['tBodyGyro-max()-x'] = body_gyro_x_train_reduce.max(axis=1)\n",
    "pca_new['tBodyGyro-max()-y'] = body_gyro_y_train_reduce.max(axis=1)\n",
    "pca_new['tBodyGyro-max()-z'] = body_gyro_z_train_reduce.max(axis=1)\n",
    "pca_new['tTotalAcc-max()-x'] = total_acc_x_train_reduce.max(axis=1)\n",
    "pca_new['tTotalAcc-max()-y'] = total_acc_y_train_reduce.max(axis=1)\n",
    "pca_new['tTotalAcc-max()-z'] = total_acc_z_train_reduce.max(axis=1)\n",
    "\n",
    "pca_new['tBodyAcc-min()-x'] = body_acc_x_train_reduce.min(axis=1)\n",
    "pca_new['tBodyAcc-min()-y'] = body_acc_y_train_reduce.min(axis=1)\n",
    "pca_new['tBodyAcc-min()-z'] = body_acc_z_train_reduce.min(axis=1)\n",
    "pca_new['tBodyGyro-min()-x'] = body_gyro_x_train_reduce.min(axis=1)\n",
    "pca_new['tBodyGyro-min()-y'] = body_gyro_y_train_reduce.min(axis=1)\n",
    "pca_new['tBodyGyro-min()-z'] = body_gyro_z_train_reduce.min(axis=1)\n",
    "pca_new['tTotalAcc-min()-x'] = total_acc_x_train_reduce.min(axis=1)\n",
    "pca_new['tTotalAcc-min()-y'] = total_acc_y_train_reduce.min(axis=1)\n",
    "pca_new['tTotalAcc-min()-z'] = total_acc_z_train_reduce.min(axis=1)\n",
    "\n",
    "pca_new['tBodyAcc-median()-x'] = body_acc_x_train_reduce.median(axis=1)\n",
    "pca_new['tBodyAcc-median()-y'] = body_acc_y_train_reduce.median(axis=1)\n",
    "pca_new['tBodyAcc-median()-z'] = body_acc_z_train_reduce.median(axis=1)\n",
    "pca_new['tBodyGyro-median()-x'] = body_gyro_x_train_reduce.median(axis=1)\n",
    "pca_new['tBodyGyro-median()-y'] = body_gyro_y_train_reduce.median(axis=1)\n",
    "pca_new['tBodyGyro-median()-z'] = body_gyro_z_train_reduce.median(axis=1)\n",
    "pca_new['tTotalAcc-median()-x'] = total_acc_x_train_reduce.median(axis=1)\n",
    "pca_new['tTotalAcc-median()-y'] = total_acc_y_train_reduce.median(axis=1)\n",
    "pca_new['tTotalAcc-median()-z'] = total_acc_z_train_reduce.median(axis=1)"
   ],
   "outputs": [],
   "execution_count": 30
  },
  {
   "cell_type": "code",
   "metadata": {
    "execution": {
     "iopub.execute_input": "2020-10-24T19:00:55.078159Z",
     "iopub.status.busy": "2020-10-24T19:00:55.075442Z",
     "iopub.status.idle": "2020-10-24T19:00:55.163317Z",
     "shell.execute_reply": "2020-10-24T19:00:55.162600Z"
    },
    "papermill": {
     "duration": 0.142262,
     "end_time": "2020-10-24T19:00:55.163494",
     "exception": false,
     "start_time": "2020-10-24T19:00:55.021232",
     "status": "completed"
    },
    "tags": [],
    "ExecuteTime": {
     "end_time": "2025-02-28T11:49:06.905644Z",
     "start_time": "2025-02-28T11:49:05.820922Z"
    }
   },
   "source": [
    "def mad(data):\n",
    "    return np.mean(np.abs(data - np.mean(data)))\n",
    "\n",
    "test_pca_new = pd.DataFrame(body_acc_x_test_reduce.mean(axis=1))\n",
    "test_pca_new.columns = ['tBodyAcc-mean()-x']\n",
    "test_pca_new['tBodyAcc-mean()-y'] = body_acc_y_test_reduce.mean(axis=1)\n",
    "test_pca_new['tBodyAcc-mean()-z'] = body_acc_z_test_reduce.mean(axis=1)\n",
    "test_pca_new['tBodyGyro-mean()-x'] = body_gyro_x_test_reduce.mean(axis=1)\n",
    "test_pca_new['tBodyGyro-mean()-y'] = body_gyro_y_test_reduce.mean(axis=1)\n",
    "test_pca_new['tBodyGyro-mean()-z'] = body_gyro_z_test_reduce.mean(axis=1)\n",
    "test_pca_new['tTotalAcc-mean()-x'] = total_acc_x_test_reduce.mean(axis=1)\n",
    "test_pca_new['tTotalAcc-mean()-y'] = total_acc_y_test_reduce.mean(axis=1)\n",
    "test_pca_new['tTotalAcc-mean()-z'] = total_acc_z_test_reduce.mean(axis=1)\n",
    "\n",
    "test_pca_new['tBodyAcc-std()-x'] = body_acc_x_test_reduce.std(axis=1)\n",
    "test_pca_new['tBodyAcc-std()-y'] = body_acc_y_test_reduce.std(axis=1)\n",
    "test_pca_new['tBodyAcc-std()-z'] = body_acc_z_test_reduce.std(axis=1)\n",
    "test_pca_new['tBodyGyro-std()-x'] = body_gyro_x_test_reduce.std(axis=1)\n",
    "test_pca_new['tBodyGyro-std()-y'] = body_gyro_y_test_reduce.std(axis=1)\n",
    "test_pca_new['tBodyGyro-std()-z'] = body_gyro_z_test_reduce.std(axis=1)\n",
    "test_pca_new['tTotalAcc-std()-x'] = total_acc_x_test_reduce.std(axis=1)\n",
    "\n",
    "test_pca_new['tBodyAcc-mad()-x'] = body_acc_x_test_reduce.apply(mad, axis=1)\n",
    "test_pca_new['tBodyAcc-mad()-y'] = body_acc_y_test_reduce.apply(mad, axis=1)\n",
    "test_pca_new['tBodyAcc-mad()-z'] = body_acc_z_test_reduce.apply(mad, axis=1)\n",
    "test_pca_new['tBodyGyro-mad()-x'] = body_gyro_x_test_reduce.apply(mad, axis=1)\n",
    "test_pca_new['tBodyGyro-mad()-y'] = body_gyro_y_test_reduce.apply(mad, axis=1)\n",
    "test_pca_new['tBodyGyro-mad()-z'] = body_gyro_z_test_reduce.apply(mad, axis=1)\n",
    "test_pca_new['tTotalAcc-mad()-x'] = total_acc_x_test_reduce.apply(mad, axis=1)\n",
    "\n",
    "test_pca_new['tBodyAcc-max()-x'] = body_acc_x_test_reduce.max(axis=1)\n",
    "test_pca_new['tBodyAcc-max()-y'] = body_acc_y_test_reduce.max(axis=1)\n",
    "test_pca_new['tBodyAcc-max()-z'] = body_acc_z_test_reduce.max(axis=1)\n",
    "test_pca_new['tBodyGyro-max()-x'] = body_gyro_x_test_reduce.max(axis=1)\n",
    "test_pca_new['tBodyGyro-max()-y'] = body_gyro_y_test_reduce.max(axis=1)\n",
    "test_pca_new['tBodyGyro-max()-z'] = body_gyro_z_test_reduce.max(axis=1)\n",
    "test_pca_new['tTotalAcc-max()-x'] = total_acc_x_test_reduce.max(axis=1)\n",
    "test_pca_new['tTotalAcc-max()-y'] = total_acc_y_test_reduce.max(axis=1)\n",
    "test_pca_new['tTotalAcc-max()-z'] = total_acc_z_test_reduce.max(axis=1)\n",
    "\n",
    "test_pca_new['tBodyAcc-min()-x'] = body_acc_x_test_reduce.min(axis=1)\n",
    "test_pca_new['tBodyAcc-min()-y'] = body_acc_y_test_reduce.min(axis=1)\n",
    "test_pca_new['tBodyAcc-min()-z'] = body_acc_z_test_reduce.min(axis=1)\n",
    "test_pca_new['tBodyGyro-min()-x'] = body_gyro_x_test_reduce.min(axis=1)\n",
    "test_pca_new['tBodyGyro-min()-y'] = body_gyro_y_test_reduce.min(axis=1)\n",
    "test_pca_new['tBodyGyro-min()-z'] = body_gyro_z_test_reduce.min(axis=1)\n",
    "test_pca_new['tTotalAcc-min()-x'] = total_acc_x_test_reduce.min(axis=1)\n",
    "test_pca_new['tTotalAcc-min()-y'] = total_acc_y_test_reduce.min(axis=1)\n",
    "test_pca_new['tTotalAcc-min()-z'] = total_acc_z_test_reduce.min(axis=1)\n",
    "\n",
    "test_pca_new['tBodyAcc-median()-x'] = body_acc_x_test_reduce.median(axis=1)\n",
    "test_pca_new['tBodyAcc-median()-y'] = body_acc_y_test_reduce.median(axis=1)\n",
    "test_pca_new['tBodyAcc-median()-z'] = body_acc_z_test_reduce.median(axis=1)\n",
    "test_pca_new['tBodyGyro-median()-x'] = body_gyro_x_test_reduce.median(axis=1)\n",
    "test_pca_new['tBodyGyro-median()-y'] = body_gyro_y_test_reduce.median(axis=1)\n",
    "test_pca_new['tBodyGyro-median()-z'] = body_gyro_z_test_reduce.median(axis=1)\n",
    "test_pca_new['tTotalAcc-median()-x'] = total_acc_x_test_reduce.median(axis=1)\n",
    "test_pca_new['tTotalAcc-median()-y'] = total_acc_y_test_reduce.median(axis=1)\n",
    "test_pca_new['tTotalAcc-median()-z'] = total_acc_z_test_reduce.median(axis=1)\n"
   ],
   "outputs": [],
   "execution_count": 31
  },
  {
   "cell_type": "code",
   "metadata": {
    "execution": {
     "iopub.execute_input": "2020-10-24T19:00:55.216261Z",
     "iopub.status.busy": "2020-10-24T19:00:55.215368Z",
     "iopub.status.idle": "2020-10-24T19:00:55.220538Z",
     "shell.execute_reply": "2020-10-24T19:00:55.219783Z"
    },
    "papermill": {
     "duration": 0.033873,
     "end_time": "2020-10-24T19:00:55.220687",
     "exception": false,
     "start_time": "2020-10-24T19:00:55.186814",
     "status": "completed"
    },
    "tags": [],
    "ExecuteTime": {
     "end_time": "2025-02-28T11:49:06.967204Z",
     "start_time": "2025-02-28T11:49:06.965151Z"
    }
   },
   "source": [
    "print(pca_new.shape)\n",
    "print(test_pca_new.shape)"
   ],
   "outputs": [
    {
     "name": "stdout",
     "output_type": "stream",
     "text": [
      "(7352, 50)\n",
      "(2947, 50)\n"
     ]
    }
   ],
   "execution_count": 32
  },
  {
   "cell_type": "code",
   "metadata": {
    "execution": {
     "iopub.execute_input": "2020-10-24T19:00:55.274440Z",
     "iopub.status.busy": "2020-10-24T19:00:55.273620Z",
     "iopub.status.idle": "2020-10-24T19:00:55.289473Z",
     "shell.execute_reply": "2020-10-24T19:00:55.288656Z"
    },
    "papermill": {
     "duration": 0.045639,
     "end_time": "2020-10-24T19:00:55.289615",
     "exception": false,
     "start_time": "2020-10-24T19:00:55.243976",
     "status": "completed"
    },
    "tags": [],
    "ExecuteTime": {
     "end_time": "2025-02-28T11:49:07.030051Z",
     "start_time": "2025-02-28T11:49:07.026348Z"
    }
   },
   "source": "pd.isna(pca_new).sum()",
   "outputs": [
    {
     "data": {
      "text/plain": [
       "tBodyAcc-mean()-x       0\n",
       "tBodyAcc-mean()-y       0\n",
       "tBodyAcc-mean()-z       0\n",
       "tBodyGyro-mean()-x      0\n",
       "tBodyGyro-mean()-y      0\n",
       "tBodyGyro-mean()-z      0\n",
       "tTotalAcc-mean()-x      0\n",
       "tTotalAcc-mean()-y      0\n",
       "tTotalAcc-mean()-z      0\n",
       "tBodyAcc-std()-x        0\n",
       "tBodyAcc-std()-y        0\n",
       "tBodyAcc-std()-z        0\n",
       "tBodyGyro-std()-x       0\n",
       "tBodyGyro-std()-y       0\n",
       "tBodyGyro-std()-z       0\n",
       "tTotalAcc-std()-x       0\n",
       "tBodyAcc-mad()-x        0\n",
       "tBodyAcc-mad()-y        0\n",
       "tBodyAcc-mad()-z        0\n",
       "tBodyGyro-mad()-x       0\n",
       "tBodyGyro-mad()-y       0\n",
       "tBodyGyro-mad()-z       0\n",
       "tTotalAcc-mad()-x       0\n",
       "tBodyAcc-max()-x        0\n",
       "tBodyAcc-max()-y        0\n",
       "tBodyAcc-max()-z        0\n",
       "tBodyGyro-max()-x       0\n",
       "tBodyGyro-max()-y       0\n",
       "tBodyGyro-max()-z       0\n",
       "tTotalAcc-max()-x       0\n",
       "tTotalAcc-max()-y       0\n",
       "tTotalAcc-max()-z       0\n",
       "tBodyAcc-min()-x        0\n",
       "tBodyAcc-min()-y        0\n",
       "tBodyAcc-min()-z        0\n",
       "tBodyGyro-min()-x       0\n",
       "tBodyGyro-min()-y       0\n",
       "tBodyGyro-min()-z       0\n",
       "tTotalAcc-min()-x       0\n",
       "tTotalAcc-min()-y       0\n",
       "tTotalAcc-min()-z       0\n",
       "tBodyAcc-median()-x     0\n",
       "tBodyAcc-median()-y     0\n",
       "tBodyAcc-median()-z     0\n",
       "tBodyGyro-median()-x    0\n",
       "tBodyGyro-median()-y    0\n",
       "tBodyGyro-median()-z    0\n",
       "tTotalAcc-median()-x    0\n",
       "tTotalAcc-median()-y    0\n",
       "tTotalAcc-median()-z    0\n",
       "dtype: int64"
      ]
     },
     "execution_count": 33,
     "metadata": {},
     "output_type": "execute_result"
    }
   ],
   "execution_count": 33
  },
  {
   "cell_type": "code",
   "metadata": {
    "execution": {
     "iopub.execute_input": "2020-10-24T19:00:55.344019Z",
     "iopub.status.busy": "2020-10-24T19:00:55.343146Z",
     "iopub.status.idle": "2020-10-24T19:00:55.357133Z",
     "shell.execute_reply": "2020-10-24T19:00:55.356396Z"
    },
    "papermill": {
     "duration": 0.044005,
     "end_time": "2020-10-24T19:00:55.357269",
     "exception": false,
     "start_time": "2020-10-24T19:00:55.313264",
     "status": "completed"
    },
    "tags": [],
    "ExecuteTime": {
     "end_time": "2025-02-28T11:49:07.116882Z",
     "start_time": "2025-02-28T11:49:07.110550Z"
    }
   },
   "source": [
    "y_train = pd.read_csv('UCI-HAR Dataset/train/y_train.txt', header=None)\n",
    "y_train = pd.DataFrame(y_train)"
   ],
   "outputs": [],
   "execution_count": 34
  },
  {
   "cell_type": "code",
   "metadata": {
    "execution": {
     "iopub.execute_input": "2020-10-24T19:00:55.413705Z",
     "iopub.status.busy": "2020-10-24T19:00:55.412899Z",
     "iopub.status.idle": "2020-10-24T19:00:55.425719Z",
     "shell.execute_reply": "2020-10-24T19:00:55.425006Z"
    },
    "papermill": {
     "duration": 0.043978,
     "end_time": "2020-10-24T19:00:55.425870",
     "exception": false,
     "start_time": "2020-10-24T19:00:55.381892",
     "status": "completed"
    },
    "tags": [],
    "ExecuteTime": {
     "end_time": "2025-02-28T11:49:07.150809Z",
     "start_time": "2025-02-28T11:49:07.143597Z"
    }
   },
   "source": [
    "y_train.columns = ['label']\n",
    "y_train = pd.get_dummies(y_train['label'])\n",
    "y_train.head()"
   ],
   "outputs": [
    {
     "data": {
      "text/plain": [
       "       1      2      3      4     5      6\n",
       "0  False  False  False  False  True  False\n",
       "1  False  False  False  False  True  False\n",
       "2  False  False  False  False  True  False\n",
       "3  False  False  False  False  True  False\n",
       "4  False  False  False  False  True  False"
      ],
      "text/html": [
       "<div>\n",
       "<style scoped>\n",
       "    .dataframe tbody tr th:only-of-type {\n",
       "        vertical-align: middle;\n",
       "    }\n",
       "\n",
       "    .dataframe tbody tr th {\n",
       "        vertical-align: top;\n",
       "    }\n",
       "\n",
       "    .dataframe thead th {\n",
       "        text-align: right;\n",
       "    }\n",
       "</style>\n",
       "<table border=\"1\" class=\"dataframe\">\n",
       "  <thead>\n",
       "    <tr style=\"text-align: right;\">\n",
       "      <th></th>\n",
       "      <th>1</th>\n",
       "      <th>2</th>\n",
       "      <th>3</th>\n",
       "      <th>4</th>\n",
       "      <th>5</th>\n",
       "      <th>6</th>\n",
       "    </tr>\n",
       "  </thead>\n",
       "  <tbody>\n",
       "    <tr>\n",
       "      <th>0</th>\n",
       "      <td>False</td>\n",
       "      <td>False</td>\n",
       "      <td>False</td>\n",
       "      <td>False</td>\n",
       "      <td>True</td>\n",
       "      <td>False</td>\n",
       "    </tr>\n",
       "    <tr>\n",
       "      <th>1</th>\n",
       "      <td>False</td>\n",
       "      <td>False</td>\n",
       "      <td>False</td>\n",
       "      <td>False</td>\n",
       "      <td>True</td>\n",
       "      <td>False</td>\n",
       "    </tr>\n",
       "    <tr>\n",
       "      <th>2</th>\n",
       "      <td>False</td>\n",
       "      <td>False</td>\n",
       "      <td>False</td>\n",
       "      <td>False</td>\n",
       "      <td>True</td>\n",
       "      <td>False</td>\n",
       "    </tr>\n",
       "    <tr>\n",
       "      <th>3</th>\n",
       "      <td>False</td>\n",
       "      <td>False</td>\n",
       "      <td>False</td>\n",
       "      <td>False</td>\n",
       "      <td>True</td>\n",
       "      <td>False</td>\n",
       "    </tr>\n",
       "    <tr>\n",
       "      <th>4</th>\n",
       "      <td>False</td>\n",
       "      <td>False</td>\n",
       "      <td>False</td>\n",
       "      <td>False</td>\n",
       "      <td>True</td>\n",
       "      <td>False</td>\n",
       "    </tr>\n",
       "  </tbody>\n",
       "</table>\n",
       "</div>"
      ]
     },
     "execution_count": 35,
     "metadata": {},
     "output_type": "execute_result"
    }
   ],
   "execution_count": 35
  },
  {
   "cell_type": "code",
   "metadata": {
    "execution": {
     "iopub.execute_input": "2020-10-24T19:00:55.486408Z",
     "iopub.status.busy": "2020-10-24T19:00:55.485551Z",
     "iopub.status.idle": "2020-10-24T19:00:55.494394Z",
     "shell.execute_reply": "2020-10-24T19:00:55.493645Z"
    },
    "papermill": {
     "duration": 0.043451,
     "end_time": "2020-10-24T19:00:55.494578",
     "exception": false,
     "start_time": "2020-10-24T19:00:55.451127",
     "status": "completed"
    },
    "tags": [],
    "ExecuteTime": {
     "end_time": "2025-02-28T11:49:08.106734Z",
     "start_time": "2025-02-28T11:49:08.093235Z"
    }
   },
   "source": [
    "from sklearn.model_selection import train_test_split\n",
    "X_train,X_valid,y_train,y_valid=train_test_split(pca_new,y_train,test_size=0.3,random_state=42)"
   ],
   "outputs": [],
   "execution_count": 36
  },
  {
   "cell_type": "code",
   "metadata": {
    "execution": {
     "iopub.execute_input": "2020-10-24T19:00:55.554951Z",
     "iopub.status.busy": "2020-10-24T19:00:55.554074Z",
     "iopub.status.idle": "2020-10-24T19:00:55.560694Z",
     "shell.execute_reply": "2020-10-24T19:00:55.559898Z"
    },
    "papermill": {
     "duration": 0.040762,
     "end_time": "2020-10-24T19:00:55.560833",
     "exception": false,
     "start_time": "2020-10-24T19:00:55.520071",
     "status": "completed"
    },
    "tags": [],
    "ExecuteTime": {
     "end_time": "2025-02-28T11:49:08.531090Z",
     "start_time": "2025-02-28T11:49:08.525658Z"
    }
   },
   "source": [
    "X_train = X_train.values.reshape(5146, 50, 1)\n",
    "X_valid = X_valid.values.reshape(2206, 50, 1)\n",
    "test_pca_new = test_pca_new.values.reshape(2947, 50, 1)\n",
    "print(X_train.shape)\n",
    "print(y_train.shape)"
   ],
   "outputs": [
    {
     "name": "stdout",
     "output_type": "stream",
     "text": [
      "(5146, 50, 1)\n",
      "(5146, 6)\n"
     ]
    }
   ],
   "execution_count": 37
  },
  {
   "cell_type": "markdown",
   "metadata": {
    "papermill": {
     "duration": 0.025626,
     "end_time": "2020-10-24T19:00:55.612193",
     "exception": false,
     "start_time": "2020-10-24T19:00:55.586567",
     "status": "completed"
    },
    "tags": []
   },
   "source": [
    "loss:nan이 나올때 참고: https://datascience.stackexchange.com/questions/68331/keras-sequential-model-returns-loss-nan"
   ]
  },
  {
   "cell_type": "code",
   "metadata": {
    "execution": {
     "iopub.execute_input": "2020-10-24T19:00:55.679296Z",
     "iopub.status.busy": "2020-10-24T19:00:55.678399Z",
     "iopub.status.idle": "2020-10-24T19:01:03.164821Z",
     "shell.execute_reply": "2020-10-24T19:01:03.163570Z"
    },
    "papermill": {
     "duration": 7.527053,
     "end_time": "2020-10-24T19:01:03.165031",
     "exception": false,
     "start_time": "2020-10-24T19:00:55.637978",
     "status": "completed"
    },
    "tags": [],
    "ExecuteTime": {
     "end_time": "2025-02-28T11:49:10.017957Z",
     "start_time": "2025-02-28T11:49:09.858083Z"
    }
   },
   "source": [
    "from keras.layers import LSTM\n",
    "from keras.models import Sequential\n",
    "from keras.layers import Dense, Dropout\n",
    "from keras import optimizers\n",
    "from keras.callbacks import EarlyStopping\n",
    "from keras.regularizers import l2\n",
    "from keras import initializers\n",
    "\n",
    "model = Sequential()\n",
    "model.add(LSTM(64, recurrent_regularizer=l2(0.8), \n",
    "                bias_initializer='zeros',\n",
    "               input_shape=(50, 1), return_sequences=True))\n",
    "model.add(Dropout(0.5))\n",
    "model.add(LSTM(32,input_shape=(50, 1), return_sequences=True))\n",
    "\n",
    "model.add(LSTM(28,input_shape=(50, 1), recurrent_regularizer=l2(0.5), return_sequences=True))\n",
    "model.add(Dropout(0.5))\n",
    "\n",
    "model.add(LSTM(25,input_shape=(50, 1)))\n",
    "model.add(Dense(6, activation='softmax')) # output = 6\n",
    "\n",
    "adamax = optimizers.Adamax(learning_rate=0.001, clipnorm=1.0)\n",
    "model.compile(loss='categorical_crossentropy', optimizer=adamax, metrics=['accuracy'])\n",
    "model.summary()"
   ],
   "outputs": [
    {
     "name": "stderr",
     "output_type": "stream",
     "text": [
      "/Users/roshank/PycharmProjects/IITGNSelectionTask-1/.venv/lib/python3.10/site-packages/keras/src/layers/rnn/rnn.py:200: UserWarning: Do not pass an `input_shape`/`input_dim` argument to a layer. When using Sequential models, prefer using an `Input(shape)` object as the first layer in the model instead.\n",
      "  super().__init__(**kwargs)\n"
     ]
    },
    {
     "data": {
      "text/plain": [
       "\u001B[1mModel: \"sequential_2\"\u001B[0m\n"
      ],
      "text/html": [
       "<pre style=\"white-space:pre;overflow-x:auto;line-height:normal;font-family:Menlo,'DejaVu Sans Mono',consolas,'Courier New',monospace\"><span style=\"font-weight: bold\">Model: \"sequential_2\"</span>\n",
       "</pre>\n"
      ]
     },
     "metadata": {},
     "output_type": "display_data"
    },
    {
     "data": {
      "text/plain": [
       "┏━━━━━━━━━━━━━━━━━━━━━━━━━━━━━━━━━┳━━━━━━━━━━━━━━━━━━━━━━━━┳━━━━━━━━━━━━━━━┓\n",
       "┃\u001B[1m \u001B[0m\u001B[1mLayer (type)                   \u001B[0m\u001B[1m \u001B[0m┃\u001B[1m \u001B[0m\u001B[1mOutput Shape          \u001B[0m\u001B[1m \u001B[0m┃\u001B[1m \u001B[0m\u001B[1m      Param #\u001B[0m\u001B[1m \u001B[0m┃\n",
       "┡━━━━━━━━━━━━━━━━━━━━━━━━━━━━━━━━━╇━━━━━━━━━━━━━━━━━━━━━━━━╇━━━━━━━━━━━━━━━┩\n",
       "│ lstm_8 (\u001B[38;5;33mLSTM\u001B[0m)                   │ (\u001B[38;5;45mNone\u001B[0m, \u001B[38;5;34m50\u001B[0m, \u001B[38;5;34m64\u001B[0m)         │        \u001B[38;5;34m16,896\u001B[0m │\n",
       "├─────────────────────────────────┼────────────────────────┼───────────────┤\n",
       "│ dropout_4 (\u001B[38;5;33mDropout\u001B[0m)             │ (\u001B[38;5;45mNone\u001B[0m, \u001B[38;5;34m50\u001B[0m, \u001B[38;5;34m64\u001B[0m)         │             \u001B[38;5;34m0\u001B[0m │\n",
       "├─────────────────────────────────┼────────────────────────┼───────────────┤\n",
       "│ lstm_9 (\u001B[38;5;33mLSTM\u001B[0m)                   │ (\u001B[38;5;45mNone\u001B[0m, \u001B[38;5;34m50\u001B[0m, \u001B[38;5;34m32\u001B[0m)         │        \u001B[38;5;34m12,416\u001B[0m │\n",
       "├─────────────────────────────────┼────────────────────────┼───────────────┤\n",
       "│ lstm_10 (\u001B[38;5;33mLSTM\u001B[0m)                  │ (\u001B[38;5;45mNone\u001B[0m, \u001B[38;5;34m50\u001B[0m, \u001B[38;5;34m28\u001B[0m)         │         \u001B[38;5;34m6,832\u001B[0m │\n",
       "├─────────────────────────────────┼────────────────────────┼───────────────┤\n",
       "│ dropout_5 (\u001B[38;5;33mDropout\u001B[0m)             │ (\u001B[38;5;45mNone\u001B[0m, \u001B[38;5;34m50\u001B[0m, \u001B[38;5;34m28\u001B[0m)         │             \u001B[38;5;34m0\u001B[0m │\n",
       "├─────────────────────────────────┼────────────────────────┼───────────────┤\n",
       "│ lstm_11 (\u001B[38;5;33mLSTM\u001B[0m)                  │ (\u001B[38;5;45mNone\u001B[0m, \u001B[38;5;34m25\u001B[0m)             │         \u001B[38;5;34m5,400\u001B[0m │\n",
       "├─────────────────────────────────┼────────────────────────┼───────────────┤\n",
       "│ dense_2 (\u001B[38;5;33mDense\u001B[0m)                 │ (\u001B[38;5;45mNone\u001B[0m, \u001B[38;5;34m6\u001B[0m)              │           \u001B[38;5;34m156\u001B[0m │\n",
       "└─────────────────────────────────┴────────────────────────┴───────────────┘\n"
      ],
      "text/html": [
       "<pre style=\"white-space:pre;overflow-x:auto;line-height:normal;font-family:Menlo,'DejaVu Sans Mono',consolas,'Courier New',monospace\">┏━━━━━━━━━━━━━━━━━━━━━━━━━━━━━━━━━┳━━━━━━━━━━━━━━━━━━━━━━━━┳━━━━━━━━━━━━━━━┓\n",
       "┃<span style=\"font-weight: bold\"> Layer (type)                    </span>┃<span style=\"font-weight: bold\"> Output Shape           </span>┃<span style=\"font-weight: bold\">       Param # </span>┃\n",
       "┡━━━━━━━━━━━━━━━━━━━━━━━━━━━━━━━━━╇━━━━━━━━━━━━━━━━━━━━━━━━╇━━━━━━━━━━━━━━━┩\n",
       "│ lstm_8 (<span style=\"color: #0087ff; text-decoration-color: #0087ff\">LSTM</span>)                   │ (<span style=\"color: #00d7ff; text-decoration-color: #00d7ff\">None</span>, <span style=\"color: #00af00; text-decoration-color: #00af00\">50</span>, <span style=\"color: #00af00; text-decoration-color: #00af00\">64</span>)         │        <span style=\"color: #00af00; text-decoration-color: #00af00\">16,896</span> │\n",
       "├─────────────────────────────────┼────────────────────────┼───────────────┤\n",
       "│ dropout_4 (<span style=\"color: #0087ff; text-decoration-color: #0087ff\">Dropout</span>)             │ (<span style=\"color: #00d7ff; text-decoration-color: #00d7ff\">None</span>, <span style=\"color: #00af00; text-decoration-color: #00af00\">50</span>, <span style=\"color: #00af00; text-decoration-color: #00af00\">64</span>)         │             <span style=\"color: #00af00; text-decoration-color: #00af00\">0</span> │\n",
       "├─────────────────────────────────┼────────────────────────┼───────────────┤\n",
       "│ lstm_9 (<span style=\"color: #0087ff; text-decoration-color: #0087ff\">LSTM</span>)                   │ (<span style=\"color: #00d7ff; text-decoration-color: #00d7ff\">None</span>, <span style=\"color: #00af00; text-decoration-color: #00af00\">50</span>, <span style=\"color: #00af00; text-decoration-color: #00af00\">32</span>)         │        <span style=\"color: #00af00; text-decoration-color: #00af00\">12,416</span> │\n",
       "├─────────────────────────────────┼────────────────────────┼───────────────┤\n",
       "│ lstm_10 (<span style=\"color: #0087ff; text-decoration-color: #0087ff\">LSTM</span>)                  │ (<span style=\"color: #00d7ff; text-decoration-color: #00d7ff\">None</span>, <span style=\"color: #00af00; text-decoration-color: #00af00\">50</span>, <span style=\"color: #00af00; text-decoration-color: #00af00\">28</span>)         │         <span style=\"color: #00af00; text-decoration-color: #00af00\">6,832</span> │\n",
       "├─────────────────────────────────┼────────────────────────┼───────────────┤\n",
       "│ dropout_5 (<span style=\"color: #0087ff; text-decoration-color: #0087ff\">Dropout</span>)             │ (<span style=\"color: #00d7ff; text-decoration-color: #00d7ff\">None</span>, <span style=\"color: #00af00; text-decoration-color: #00af00\">50</span>, <span style=\"color: #00af00; text-decoration-color: #00af00\">28</span>)         │             <span style=\"color: #00af00; text-decoration-color: #00af00\">0</span> │\n",
       "├─────────────────────────────────┼────────────────────────┼───────────────┤\n",
       "│ lstm_11 (<span style=\"color: #0087ff; text-decoration-color: #0087ff\">LSTM</span>)                  │ (<span style=\"color: #00d7ff; text-decoration-color: #00d7ff\">None</span>, <span style=\"color: #00af00; text-decoration-color: #00af00\">25</span>)             │         <span style=\"color: #00af00; text-decoration-color: #00af00\">5,400</span> │\n",
       "├─────────────────────────────────┼────────────────────────┼───────────────┤\n",
       "│ dense_2 (<span style=\"color: #0087ff; text-decoration-color: #0087ff\">Dense</span>)                 │ (<span style=\"color: #00d7ff; text-decoration-color: #00d7ff\">None</span>, <span style=\"color: #00af00; text-decoration-color: #00af00\">6</span>)              │           <span style=\"color: #00af00; text-decoration-color: #00af00\">156</span> │\n",
       "└─────────────────────────────────┴────────────────────────┴───────────────┘\n",
       "</pre>\n"
      ]
     },
     "metadata": {},
     "output_type": "display_data"
    },
    {
     "data": {
      "text/plain": [
       "\u001B[1m Total params: \u001B[0m\u001B[38;5;34m41,700\u001B[0m (162.89 KB)\n"
      ],
      "text/html": [
       "<pre style=\"white-space:pre;overflow-x:auto;line-height:normal;font-family:Menlo,'DejaVu Sans Mono',consolas,'Courier New',monospace\"><span style=\"font-weight: bold\"> Total params: </span><span style=\"color: #00af00; text-decoration-color: #00af00\">41,700</span> (162.89 KB)\n",
       "</pre>\n"
      ]
     },
     "metadata": {},
     "output_type": "display_data"
    },
    {
     "data": {
      "text/plain": [
       "\u001B[1m Trainable params: \u001B[0m\u001B[38;5;34m41,700\u001B[0m (162.89 KB)\n"
      ],
      "text/html": [
       "<pre style=\"white-space:pre;overflow-x:auto;line-height:normal;font-family:Menlo,'DejaVu Sans Mono',consolas,'Courier New',monospace\"><span style=\"font-weight: bold\"> Trainable params: </span><span style=\"color: #00af00; text-decoration-color: #00af00\">41,700</span> (162.89 KB)\n",
       "</pre>\n"
      ]
     },
     "metadata": {},
     "output_type": "display_data"
    },
    {
     "data": {
      "text/plain": [
       "\u001B[1m Non-trainable params: \u001B[0m\u001B[38;5;34m0\u001B[0m (0.00 B)\n"
      ],
      "text/html": [
       "<pre style=\"white-space:pre;overflow-x:auto;line-height:normal;font-family:Menlo,'DejaVu Sans Mono',consolas,'Courier New',monospace\"><span style=\"font-weight: bold\"> Non-trainable params: </span><span style=\"color: #00af00; text-decoration-color: #00af00\">0</span> (0.00 B)\n",
       "</pre>\n"
      ]
     },
     "metadata": {},
     "output_type": "display_data"
    }
   ],
   "execution_count": 38
  },
  {
   "cell_type": "code",
   "metadata": {
    "execution": {
     "iopub.execute_input": "2020-10-24T19:01:03.238086Z",
     "iopub.status.busy": "2020-10-24T19:01:03.236848Z",
     "iopub.status.idle": "2020-10-24T19:03:40.618806Z",
     "shell.execute_reply": "2020-10-24T19:03:40.619409Z"
    },
    "papermill": {
     "duration": 157.419156,
     "end_time": "2020-10-24T19:03:40.619650",
     "exception": false,
     "start_time": "2020-10-24T19:01:03.200494",
     "status": "completed"
    },
    "tags": [],
    "ExecuteTime": {
     "end_time": "2025-02-28T11:51:20.094433Z",
     "start_time": "2025-02-28T11:49:10.877793Z"
    }
   },
   "source": [
    "history = model.fit(X_train, y_train, epochs=100,\n",
    "                    validation_data=(X_valid, y_valid),\n",
    "                    batch_size=128, verbose=1)"
   ],
   "outputs": [
    {
     "name": "stdout",
     "output_type": "stream",
     "text": [
      "Epoch 1/100\n",
      "\u001B[1m41/41\u001B[0m \u001B[32m━━━━━━━━━━━━━━━━━━━━\u001B[0m\u001B[37m\u001B[0m \u001B[1m3s\u001B[0m 42ms/step - accuracy: 0.3522 - loss: 53.8050 - val_accuracy: 0.3545 - val_loss: 24.6796\n",
      "Epoch 2/100\n",
      "\u001B[1m41/41\u001B[0m \u001B[32m━━━━━━━━━━━━━━━━━━━━\u001B[0m\u001B[37m\u001B[0m \u001B[1m1s\u001B[0m 30ms/step - accuracy: 0.4012 - loss: 19.4286 - val_accuracy: 0.5458 - val_loss: 8.2454\n",
      "Epoch 3/100\n",
      "\u001B[1m41/41\u001B[0m \u001B[32m━━━━━━━━━━━━━━━━━━━━\u001B[0m\u001B[37m\u001B[0m \u001B[1m1s\u001B[0m 33ms/step - accuracy: 0.5877 - loss: 6.4323 - val_accuracy: 0.6596 - val_loss: 2.8407\n",
      "Epoch 4/100\n",
      "\u001B[1m41/41\u001B[0m \u001B[32m━━━━━━━━━━━━━━━━━━━━\u001B[0m\u001B[37m\u001B[0m \u001B[1m1s\u001B[0m 30ms/step - accuracy: 0.6431 - loss: 2.3401 - val_accuracy: 0.6646 - val_loss: 1.3285\n",
      "Epoch 5/100\n",
      "\u001B[1m41/41\u001B[0m \u001B[32m━━━━━━━━━━━━━━━━━━━━\u001B[0m\u001B[37m\u001B[0m \u001B[1m1s\u001B[0m 34ms/step - accuracy: 0.6690 - loss: 1.2138 - val_accuracy: 0.6877 - val_loss: 0.9323\n",
      "Epoch 6/100\n",
      "\u001B[1m41/41\u001B[0m \u001B[32m━━━━━━━━━━━━━━━━━━━━\u001B[0m\u001B[37m\u001B[0m \u001B[1m1s\u001B[0m 33ms/step - accuracy: 0.6840 - loss: 0.8946 - val_accuracy: 0.6859 - val_loss: 0.7932\n",
      "Epoch 7/100\n",
      "\u001B[1m41/41\u001B[0m \u001B[32m━━━━━━━━━━━━━━━━━━━━\u001B[0m\u001B[37m\u001B[0m \u001B[1m1s\u001B[0m 31ms/step - accuracy: 0.6927 - loss: 0.7751 - val_accuracy: 0.6963 - val_loss: 0.7250\n",
      "Epoch 8/100\n",
      "\u001B[1m41/41\u001B[0m \u001B[32m━━━━━━━━━━━━━━━━━━━━\u001B[0m\u001B[37m\u001B[0m \u001B[1m1s\u001B[0m 31ms/step - accuracy: 0.6945 - loss: 0.7215 - val_accuracy: 0.6890 - val_loss: 0.6960\n",
      "Epoch 9/100\n",
      "\u001B[1m41/41\u001B[0m \u001B[32m━━━━━━━━━━━━━━━━━━━━\u001B[0m\u001B[37m\u001B[0m \u001B[1m1s\u001B[0m 31ms/step - accuracy: 0.6986 - loss: 0.6957 - val_accuracy: 0.6954 - val_loss: 0.6723\n",
      "Epoch 10/100\n",
      "\u001B[1m41/41\u001B[0m \u001B[32m━━━━━━━━━━━━━━━━━━━━\u001B[0m\u001B[37m\u001B[0m \u001B[1m1s\u001B[0m 30ms/step - accuracy: 0.7013 - loss: 0.6786 - val_accuracy: 0.6927 - val_loss: 0.6737\n",
      "Epoch 11/100\n",
      "\u001B[1m41/41\u001B[0m \u001B[32m━━━━━━━━━━━━━━━━━━━━\u001B[0m\u001B[37m\u001B[0m \u001B[1m1s\u001B[0m 29ms/step - accuracy: 0.7036 - loss: 0.6512 - val_accuracy: 0.7022 - val_loss: 0.6482\n",
      "Epoch 12/100\n",
      "\u001B[1m41/41\u001B[0m \u001B[32m━━━━━━━━━━━━━━━━━━━━\u001B[0m\u001B[37m\u001B[0m \u001B[1m1s\u001B[0m 29ms/step - accuracy: 0.7171 - loss: 0.6498 - val_accuracy: 0.7167 - val_loss: 0.6327\n",
      "Epoch 13/100\n",
      "\u001B[1m41/41\u001B[0m \u001B[32m━━━━━━━━━━━━━━━━━━━━\u001B[0m\u001B[37m\u001B[0m \u001B[1m1s\u001B[0m 31ms/step - accuracy: 0.7106 - loss: 0.6393 - val_accuracy: 0.7321 - val_loss: 0.6249\n",
      "Epoch 14/100\n",
      "\u001B[1m41/41\u001B[0m \u001B[32m━━━━━━━━━━━━━━━━━━━━\u001B[0m\u001B[37m\u001B[0m \u001B[1m1s\u001B[0m 32ms/step - accuracy: 0.7164 - loss: 0.6456 - val_accuracy: 0.7285 - val_loss: 0.6219\n",
      "Epoch 15/100\n",
      "\u001B[1m41/41\u001B[0m \u001B[32m━━━━━━━━━━━━━━━━━━━━\u001B[0m\u001B[37m\u001B[0m \u001B[1m1s\u001B[0m 36ms/step - accuracy: 0.7379 - loss: 0.6191 - val_accuracy: 0.7412 - val_loss: 0.6134\n",
      "Epoch 16/100\n",
      "\u001B[1m41/41\u001B[0m \u001B[32m━━━━━━━━━━━━━━━━━━━━\u001B[0m\u001B[37m\u001B[0m \u001B[1m1s\u001B[0m 35ms/step - accuracy: 0.7363 - loss: 0.6136 - val_accuracy: 0.7384 - val_loss: 0.6166\n",
      "Epoch 17/100\n",
      "\u001B[1m41/41\u001B[0m \u001B[32m━━━━━━━━━━━━━━━━━━━━\u001B[0m\u001B[37m\u001B[0m \u001B[1m1s\u001B[0m 36ms/step - accuracy: 0.7278 - loss: 0.6212 - val_accuracy: 0.7557 - val_loss: 0.5936\n",
      "Epoch 18/100\n",
      "\u001B[1m41/41\u001B[0m \u001B[32m━━━━━━━━━━━━━━━━━━━━\u001B[0m\u001B[37m\u001B[0m \u001B[1m2s\u001B[0m 37ms/step - accuracy: 0.7355 - loss: 0.6008 - val_accuracy: 0.7534 - val_loss: 0.5891\n",
      "Epoch 19/100\n",
      "\u001B[1m41/41\u001B[0m \u001B[32m━━━━━━━━━━━━━━━━━━━━\u001B[0m\u001B[37m\u001B[0m \u001B[1m1s\u001B[0m 35ms/step - accuracy: 0.7569 - loss: 0.5864 - val_accuracy: 0.7570 - val_loss: 0.5881\n",
      "Epoch 20/100\n",
      "\u001B[1m41/41\u001B[0m \u001B[32m━━━━━━━━━━━━━━━━━━━━\u001B[0m\u001B[37m\u001B[0m \u001B[1m1s\u001B[0m 33ms/step - accuracy: 0.7525 - loss: 0.5941 - val_accuracy: 0.7520 - val_loss: 0.5845\n",
      "Epoch 21/100\n",
      "\u001B[1m41/41\u001B[0m \u001B[32m━━━━━━━━━━━━━━━━━━━━\u001B[0m\u001B[37m\u001B[0m \u001B[1m1s\u001B[0m 32ms/step - accuracy: 0.7452 - loss: 0.6013 - val_accuracy: 0.7570 - val_loss: 0.5776\n",
      "Epoch 22/100\n",
      "\u001B[1m41/41\u001B[0m \u001B[32m━━━━━━━━━━━━━━━━━━━━\u001B[0m\u001B[37m\u001B[0m \u001B[1m1s\u001B[0m 34ms/step - accuracy: 0.7513 - loss: 0.5843 - val_accuracy: 0.7625 - val_loss: 0.5714\n",
      "Epoch 23/100\n",
      "\u001B[1m41/41\u001B[0m \u001B[32m━━━━━━━━━━━━━━━━━━━━\u001B[0m\u001B[37m\u001B[0m \u001B[1m1s\u001B[0m 34ms/step - accuracy: 0.7532 - loss: 0.5721 - val_accuracy: 0.7584 - val_loss: 0.5708\n",
      "Epoch 24/100\n",
      "\u001B[1m41/41\u001B[0m \u001B[32m━━━━━━━━━━━━━━━━━━━━\u001B[0m\u001B[37m\u001B[0m \u001B[1m1s\u001B[0m 30ms/step - accuracy: 0.7505 - loss: 0.5831 - val_accuracy: 0.7566 - val_loss: 0.5837\n",
      "Epoch 25/100\n",
      "\u001B[1m41/41\u001B[0m \u001B[32m━━━━━━━━━━━━━━━━━━━━\u001B[0m\u001B[37m\u001B[0m \u001B[1m1s\u001B[0m 33ms/step - accuracy: 0.7458 - loss: 0.5908 - val_accuracy: 0.7611 - val_loss: 0.5676\n",
      "Epoch 26/100\n",
      "\u001B[1m41/41\u001B[0m \u001B[32m━━━━━━━━━━━━━━━━━━━━\u001B[0m\u001B[37m\u001B[0m \u001B[1m1s\u001B[0m 31ms/step - accuracy: 0.7352 - loss: 0.5939 - val_accuracy: 0.7693 - val_loss: 0.5603\n",
      "Epoch 27/100\n",
      "\u001B[1m41/41\u001B[0m \u001B[32m━━━━━━━━━━━━━━━━━━━━\u001B[0m\u001B[37m\u001B[0m \u001B[1m1s\u001B[0m 32ms/step - accuracy: 0.7548 - loss: 0.5745 - val_accuracy: 0.7647 - val_loss: 0.5595\n",
      "Epoch 28/100\n",
      "\u001B[1m41/41\u001B[0m \u001B[32m━━━━━━━━━━━━━━━━━━━━\u001B[0m\u001B[37m\u001B[0m \u001B[1m1s\u001B[0m 29ms/step - accuracy: 0.7589 - loss: 0.5648 - val_accuracy: 0.7543 - val_loss: 0.5714\n",
      "Epoch 29/100\n",
      "\u001B[1m41/41\u001B[0m \u001B[32m━━━━━━━━━━━━━━━━━━━━\u001B[0m\u001B[37m\u001B[0m \u001B[1m1s\u001B[0m 31ms/step - accuracy: 0.7601 - loss: 0.5719 - val_accuracy: 0.7629 - val_loss: 0.5535\n",
      "Epoch 30/100\n",
      "\u001B[1m41/41\u001B[0m \u001B[32m━━━━━━━━━━━━━━━━━━━━\u001B[0m\u001B[37m\u001B[0m \u001B[1m1s\u001B[0m 31ms/step - accuracy: 0.7553 - loss: 0.5678 - val_accuracy: 0.7706 - val_loss: 0.5483\n",
      "Epoch 31/100\n",
      "\u001B[1m41/41\u001B[0m \u001B[32m━━━━━━━━━━━━━━━━━━━━\u001B[0m\u001B[37m\u001B[0m \u001B[1m1s\u001B[0m 31ms/step - accuracy: 0.7613 - loss: 0.5578 - val_accuracy: 0.7620 - val_loss: 0.5655\n",
      "Epoch 32/100\n",
      "\u001B[1m41/41\u001B[0m \u001B[32m━━━━━━━━━━━━━━━━━━━━\u001B[0m\u001B[37m\u001B[0m \u001B[1m1s\u001B[0m 33ms/step - accuracy: 0.7523 - loss: 0.5719 - val_accuracy: 0.7702 - val_loss: 0.5450\n",
      "Epoch 33/100\n",
      "\u001B[1m41/41\u001B[0m \u001B[32m━━━━━━━━━━━━━━━━━━━━\u001B[0m\u001B[37m\u001B[0m \u001B[1m1s\u001B[0m 31ms/step - accuracy: 0.7564 - loss: 0.5590 - val_accuracy: 0.7684 - val_loss: 0.5540\n",
      "Epoch 34/100\n",
      "\u001B[1m41/41\u001B[0m \u001B[32m━━━━━━━━━━━━━━━━━━━━\u001B[0m\u001B[37m\u001B[0m \u001B[1m1s\u001B[0m 30ms/step - accuracy: 0.7641 - loss: 0.5486 - val_accuracy: 0.7661 - val_loss: 0.5413\n",
      "Epoch 35/100\n",
      "\u001B[1m41/41\u001B[0m \u001B[32m━━━━━━━━━━━━━━━━━━━━\u001B[0m\u001B[37m\u001B[0m \u001B[1m1s\u001B[0m 29ms/step - accuracy: 0.7690 - loss: 0.5425 - val_accuracy: 0.7620 - val_loss: 0.5409\n",
      "Epoch 36/100\n",
      "\u001B[1m41/41\u001B[0m \u001B[32m━━━━━━━━━━━━━━━━━━━━\u001B[0m\u001B[37m\u001B[0m \u001B[1m1s\u001B[0m 32ms/step - accuracy: 0.7657 - loss: 0.5515 - val_accuracy: 0.7779 - val_loss: 0.5325\n",
      "Epoch 37/100\n",
      "\u001B[1m41/41\u001B[0m \u001B[32m━━━━━━━━━━━━━━━━━━━━\u001B[0m\u001B[37m\u001B[0m \u001B[1m1s\u001B[0m 30ms/step - accuracy: 0.7732 - loss: 0.5393 - val_accuracy: 0.7743 - val_loss: 0.5308\n",
      "Epoch 38/100\n",
      "\u001B[1m41/41\u001B[0m \u001B[32m━━━━━━━━━━━━━━━━━━━━\u001B[0m\u001B[37m\u001B[0m \u001B[1m1s\u001B[0m 36ms/step - accuracy: 0.7608 - loss: 0.5498 - val_accuracy: 0.7679 - val_loss: 0.5467\n",
      "Epoch 39/100\n",
      "\u001B[1m41/41\u001B[0m \u001B[32m━━━━━━━━━━━━━━━━━━━━\u001B[0m\u001B[37m\u001B[0m \u001B[1m1s\u001B[0m 34ms/step - accuracy: 0.7651 - loss: 0.5499 - val_accuracy: 0.7806 - val_loss: 0.5265\n",
      "Epoch 40/100\n",
      "\u001B[1m41/41\u001B[0m \u001B[32m━━━━━━━━━━━━━━━━━━━━\u001B[0m\u001B[37m\u001B[0m \u001B[1m1s\u001B[0m 29ms/step - accuracy: 0.7748 - loss: 0.5466 - val_accuracy: 0.7747 - val_loss: 0.5291\n",
      "Epoch 41/100\n",
      "\u001B[1m41/41\u001B[0m \u001B[32m━━━━━━━━━━━━━━━━━━━━\u001B[0m\u001B[37m\u001B[0m \u001B[1m1s\u001B[0m 29ms/step - accuracy: 0.7614 - loss: 0.5525 - val_accuracy: 0.7679 - val_loss: 0.5374\n",
      "Epoch 42/100\n",
      "\u001B[1m41/41\u001B[0m \u001B[32m━━━━━━━━━━━━━━━━━━━━\u001B[0m\u001B[37m\u001B[0m \u001B[1m1s\u001B[0m 31ms/step - accuracy: 0.7672 - loss: 0.5393 - val_accuracy: 0.7774 - val_loss: 0.5289\n",
      "Epoch 43/100\n",
      "\u001B[1m41/41\u001B[0m \u001B[32m━━━━━━━━━━━━━━━━━━━━\u001B[0m\u001B[37m\u001B[0m \u001B[1m1s\u001B[0m 30ms/step - accuracy: 0.7675 - loss: 0.5405 - val_accuracy: 0.7743 - val_loss: 0.5257\n",
      "Epoch 44/100\n",
      "\u001B[1m41/41\u001B[0m \u001B[32m━━━━━━━━━━━━━━━━━━━━\u001B[0m\u001B[37m\u001B[0m \u001B[1m1s\u001B[0m 30ms/step - accuracy: 0.7631 - loss: 0.5427 - val_accuracy: 0.7575 - val_loss: 0.5485\n",
      "Epoch 45/100\n",
      "\u001B[1m41/41\u001B[0m \u001B[32m━━━━━━━━━━━━━━━━━━━━\u001B[0m\u001B[37m\u001B[0m \u001B[1m1s\u001B[0m 33ms/step - accuracy: 0.7601 - loss: 0.5487 - val_accuracy: 0.7738 - val_loss: 0.5259\n",
      "Epoch 46/100\n",
      "\u001B[1m41/41\u001B[0m \u001B[32m━━━━━━━━━━━━━━━━━━━━\u001B[0m\u001B[37m\u001B[0m \u001B[1m1s\u001B[0m 33ms/step - accuracy: 0.7729 - loss: 0.5263 - val_accuracy: 0.7869 - val_loss: 0.5142\n",
      "Epoch 47/100\n",
      "\u001B[1m41/41\u001B[0m \u001B[32m━━━━━━━━━━━━━━━━━━━━\u001B[0m\u001B[37m\u001B[0m \u001B[1m1s\u001B[0m 31ms/step - accuracy: 0.7838 - loss: 0.5202 - val_accuracy: 0.7765 - val_loss: 0.5222\n",
      "Epoch 48/100\n",
      "\u001B[1m41/41\u001B[0m \u001B[32m━━━━━━━━━━━━━━━━━━━━\u001B[0m\u001B[37m\u001B[0m \u001B[1m1s\u001B[0m 30ms/step - accuracy: 0.7835 - loss: 0.5155 - val_accuracy: 0.7697 - val_loss: 0.5312\n",
      "Epoch 49/100\n",
      "\u001B[1m41/41\u001B[0m \u001B[32m━━━━━━━━━━━━━━━━━━━━\u001B[0m\u001B[37m\u001B[0m \u001B[1m1s\u001B[0m 31ms/step - accuracy: 0.7687 - loss: 0.5299 - val_accuracy: 0.7797 - val_loss: 0.5049\n",
      "Epoch 50/100\n",
      "\u001B[1m41/41\u001B[0m \u001B[32m━━━━━━━━━━━━━━━━━━━━\u001B[0m\u001B[37m\u001B[0m \u001B[1m1s\u001B[0m 31ms/step - accuracy: 0.7755 - loss: 0.5206 - val_accuracy: 0.7779 - val_loss: 0.5078\n",
      "Epoch 51/100\n",
      "\u001B[1m41/41\u001B[0m \u001B[32m━━━━━━━━━━━━━━━━━━━━\u001B[0m\u001B[37m\u001B[0m \u001B[1m1s\u001B[0m 28ms/step - accuracy: 0.7635 - loss: 0.5407 - val_accuracy: 0.7724 - val_loss: 0.5174\n",
      "Epoch 52/100\n",
      "\u001B[1m41/41\u001B[0m \u001B[32m━━━━━━━━━━━━━━━━━━━━\u001B[0m\u001B[37m\u001B[0m \u001B[1m1s\u001B[0m 31ms/step - accuracy: 0.7865 - loss: 0.5082 - val_accuracy: 0.7779 - val_loss: 0.5109\n",
      "Epoch 53/100\n",
      "\u001B[1m41/41\u001B[0m \u001B[32m━━━━━━━━━━━━━━━━━━━━\u001B[0m\u001B[37m\u001B[0m \u001B[1m1s\u001B[0m 31ms/step - accuracy: 0.7720 - loss: 0.5187 - val_accuracy: 0.7693 - val_loss: 0.5085\n",
      "Epoch 54/100\n",
      "\u001B[1m41/41\u001B[0m \u001B[32m━━━━━━━━━━━━━━━━━━━━\u001B[0m\u001B[37m\u001B[0m \u001B[1m1s\u001B[0m 35ms/step - accuracy: 0.7763 - loss: 0.5229 - val_accuracy: 0.7996 - val_loss: 0.4936\n",
      "Epoch 55/100\n",
      "\u001B[1m41/41\u001B[0m \u001B[32m━━━━━━━━━━━━━━━━━━━━\u001B[0m\u001B[37m\u001B[0m \u001B[1m1s\u001B[0m 33ms/step - accuracy: 0.7687 - loss: 0.5333 - val_accuracy: 0.7724 - val_loss: 0.5133\n",
      "Epoch 56/100\n",
      "\u001B[1m41/41\u001B[0m \u001B[32m━━━━━━━━━━━━━━━━━━━━\u001B[0m\u001B[37m\u001B[0m \u001B[1m1s\u001B[0m 31ms/step - accuracy: 0.7748 - loss: 0.5189 - val_accuracy: 0.7856 - val_loss: 0.4986\n",
      "Epoch 57/100\n",
      "\u001B[1m41/41\u001B[0m \u001B[32m━━━━━━━━━━━━━━━━━━━━\u001B[0m\u001B[37m\u001B[0m \u001B[1m1s\u001B[0m 32ms/step - accuracy: 0.7882 - loss: 0.5109 - val_accuracy: 0.7829 - val_loss: 0.5076\n",
      "Epoch 58/100\n",
      "\u001B[1m41/41\u001B[0m \u001B[32m━━━━━━━━━━━━━━━━━━━━\u001B[0m\u001B[37m\u001B[0m \u001B[1m1s\u001B[0m 29ms/step - accuracy: 0.7835 - loss: 0.4960 - val_accuracy: 0.7915 - val_loss: 0.4885\n",
      "Epoch 59/100\n",
      "\u001B[1m41/41\u001B[0m \u001B[32m━━━━━━━━━━━━━━━━━━━━\u001B[0m\u001B[37m\u001B[0m \u001B[1m1s\u001B[0m 28ms/step - accuracy: 0.7804 - loss: 0.5086 - val_accuracy: 0.7752 - val_loss: 0.5106\n",
      "Epoch 60/100\n",
      "\u001B[1m41/41\u001B[0m \u001B[32m━━━━━━━━━━━━━━━━━━━━\u001B[0m\u001B[37m\u001B[0m \u001B[1m1s\u001B[0m 30ms/step - accuracy: 0.7760 - loss: 0.5134 - val_accuracy: 0.7856 - val_loss: 0.4943\n",
      "Epoch 61/100\n",
      "\u001B[1m41/41\u001B[0m \u001B[32m━━━━━━━━━━━━━━━━━━━━\u001B[0m\u001B[37m\u001B[0m \u001B[1m1s\u001B[0m 29ms/step - accuracy: 0.7862 - loss: 0.5045 - val_accuracy: 0.7643 - val_loss: 0.5387\n",
      "Epoch 62/100\n",
      "\u001B[1m41/41\u001B[0m \u001B[32m━━━━━━━━━━━━━━━━━━━━\u001B[0m\u001B[37m\u001B[0m \u001B[1m1s\u001B[0m 30ms/step - accuracy: 0.7781 - loss: 0.5062 - val_accuracy: 0.7752 - val_loss: 0.5110\n",
      "Epoch 63/100\n",
      "\u001B[1m41/41\u001B[0m \u001B[32m━━━━━━━━━━━━━━━━━━━━\u001B[0m\u001B[37m\u001B[0m \u001B[1m1s\u001B[0m 29ms/step - accuracy: 0.7822 - loss: 0.5033 - val_accuracy: 0.7906 - val_loss: 0.4878\n",
      "Epoch 64/100\n",
      "\u001B[1m41/41\u001B[0m \u001B[32m━━━━━━━━━━━━━━━━━━━━\u001B[0m\u001B[37m\u001B[0m \u001B[1m1s\u001B[0m 29ms/step - accuracy: 0.7743 - loss: 0.5080 - val_accuracy: 0.7987 - val_loss: 0.4816\n",
      "Epoch 65/100\n",
      "\u001B[1m41/41\u001B[0m \u001B[32m━━━━━━━━━━━━━━━━━━━━\u001B[0m\u001B[37m\u001B[0m \u001B[1m1s\u001B[0m 30ms/step - accuracy: 0.7811 - loss: 0.5125 - val_accuracy: 0.7797 - val_loss: 0.5106\n",
      "Epoch 66/100\n",
      "\u001B[1m41/41\u001B[0m \u001B[32m━━━━━━━━━━━━━━━━━━━━\u001B[0m\u001B[37m\u001B[0m \u001B[1m1s\u001B[0m 29ms/step - accuracy: 0.7790 - loss: 0.5027 - val_accuracy: 0.7910 - val_loss: 0.4827\n",
      "Epoch 67/100\n",
      "\u001B[1m41/41\u001B[0m \u001B[32m━━━━━━━━━━━━━━━━━━━━\u001B[0m\u001B[37m\u001B[0m \u001B[1m1s\u001B[0m 29ms/step - accuracy: 0.7849 - loss: 0.4897 - val_accuracy: 0.7842 - val_loss: 0.4879\n",
      "Epoch 68/100\n",
      "\u001B[1m41/41\u001B[0m \u001B[32m━━━━━━━━━━━━━━━━━━━━\u001B[0m\u001B[37m\u001B[0m \u001B[1m1s\u001B[0m 30ms/step - accuracy: 0.7782 - loss: 0.5130 - val_accuracy: 0.7815 - val_loss: 0.4975\n",
      "Epoch 69/100\n",
      "\u001B[1m41/41\u001B[0m \u001B[32m━━━━━━━━━━━━━━━━━━━━\u001B[0m\u001B[37m\u001B[0m \u001B[1m1s\u001B[0m 29ms/step - accuracy: 0.7918 - loss: 0.4920 - val_accuracy: 0.7960 - val_loss: 0.4898\n",
      "Epoch 70/100\n",
      "\u001B[1m41/41\u001B[0m \u001B[32m━━━━━━━━━━━━━━━━━━━━\u001B[0m\u001B[37m\u001B[0m \u001B[1m1s\u001B[0m 29ms/step - accuracy: 0.7920 - loss: 0.4927 - val_accuracy: 0.7969 - val_loss: 0.4744\n",
      "Epoch 71/100\n",
      "\u001B[1m41/41\u001B[0m \u001B[32m━━━━━━━━━━━━━━━━━━━━\u001B[0m\u001B[37m\u001B[0m \u001B[1m1s\u001B[0m 31ms/step - accuracy: 0.7859 - loss: 0.5000 - val_accuracy: 0.7833 - val_loss: 0.4945\n",
      "Epoch 72/100\n",
      "\u001B[1m41/41\u001B[0m \u001B[32m━━━━━━━━━━━━━━━━━━━━\u001B[0m\u001B[37m\u001B[0m \u001B[1m1s\u001B[0m 30ms/step - accuracy: 0.7990 - loss: 0.4798 - val_accuracy: 0.7933 - val_loss: 0.4844\n",
      "Epoch 73/100\n",
      "\u001B[1m41/41\u001B[0m \u001B[32m━━━━━━━━━━━━━━━━━━━━\u001B[0m\u001B[37m\u001B[0m \u001B[1m1s\u001B[0m 33ms/step - accuracy: 0.7988 - loss: 0.4771 - val_accuracy: 0.7969 - val_loss: 0.4709\n",
      "Epoch 74/100\n",
      "\u001B[1m41/41\u001B[0m \u001B[32m━━━━━━━━━━━━━━━━━━━━\u001B[0m\u001B[37m\u001B[0m \u001B[1m1s\u001B[0m 30ms/step - accuracy: 0.7897 - loss: 0.4901 - val_accuracy: 0.7960 - val_loss: 0.4784\n",
      "Epoch 75/100\n",
      "\u001B[1m41/41\u001B[0m \u001B[32m━━━━━━━━━━━━━━━━━━━━\u001B[0m\u001B[37m\u001B[0m \u001B[1m1s\u001B[0m 30ms/step - accuracy: 0.8010 - loss: 0.4798 - val_accuracy: 0.8010 - val_loss: 0.4758\n",
      "Epoch 76/100\n",
      "\u001B[1m41/41\u001B[0m \u001B[32m━━━━━━━━━━━━━━━━━━━━\u001B[0m\u001B[37m\u001B[0m \u001B[1m1s\u001B[0m 30ms/step - accuracy: 0.7966 - loss: 0.4867 - val_accuracy: 0.7937 - val_loss: 0.4883\n",
      "Epoch 77/100\n",
      "\u001B[1m41/41\u001B[0m \u001B[32m━━━━━━━━━━━━━━━━━━━━\u001B[0m\u001B[37m\u001B[0m \u001B[1m1s\u001B[0m 29ms/step - accuracy: 0.7890 - loss: 0.4999 - val_accuracy: 0.8028 - val_loss: 0.4695\n",
      "Epoch 78/100\n",
      "\u001B[1m41/41\u001B[0m \u001B[32m━━━━━━━━━━━━━━━━━━━━\u001B[0m\u001B[37m\u001B[0m \u001B[1m1s\u001B[0m 34ms/step - accuracy: 0.7989 - loss: 0.4819 - val_accuracy: 0.7996 - val_loss: 0.4805\n",
      "Epoch 79/100\n",
      "\u001B[1m41/41\u001B[0m \u001B[32m━━━━━━━━━━━━━━━━━━━━\u001B[0m\u001B[37m\u001B[0m \u001B[1m1s\u001B[0m 31ms/step - accuracy: 0.7990 - loss: 0.4711 - val_accuracy: 0.7879 - val_loss: 0.4947\n",
      "Epoch 80/100\n",
      "\u001B[1m41/41\u001B[0m \u001B[32m━━━━━━━━━━━━━━━━━━━━\u001B[0m\u001B[37m\u001B[0m \u001B[1m1s\u001B[0m 29ms/step - accuracy: 0.7978 - loss: 0.4776 - val_accuracy: 0.8087 - val_loss: 0.4599\n",
      "Epoch 81/100\n",
      "\u001B[1m41/41\u001B[0m \u001B[32m━━━━━━━━━━━━━━━━━━━━\u001B[0m\u001B[37m\u001B[0m \u001B[1m1s\u001B[0m 29ms/step - accuracy: 0.8069 - loss: 0.4716 - val_accuracy: 0.8037 - val_loss: 0.4781\n",
      "Epoch 82/100\n",
      "\u001B[1m41/41\u001B[0m \u001B[32m━━━━━━━━━━━━━━━━━━━━\u001B[0m\u001B[37m\u001B[0m \u001B[1m1s\u001B[0m 29ms/step - accuracy: 0.7894 - loss: 0.4912 - val_accuracy: 0.8087 - val_loss: 0.4580\n",
      "Epoch 83/100\n",
      "\u001B[1m41/41\u001B[0m \u001B[32m━━━━━━━━━━━━━━━━━━━━\u001B[0m\u001B[37m\u001B[0m \u001B[1m1s\u001B[0m 29ms/step - accuracy: 0.8062 - loss: 0.4675 - val_accuracy: 0.7933 - val_loss: 0.4663\n",
      "Epoch 84/100\n",
      "\u001B[1m41/41\u001B[0m \u001B[32m━━━━━━━━━━━━━━━━━━━━\u001B[0m\u001B[37m\u001B[0m \u001B[1m1s\u001B[0m 31ms/step - accuracy: 0.7994 - loss: 0.4705 - val_accuracy: 0.8119 - val_loss: 0.4509\n",
      "Epoch 85/100\n",
      "\u001B[1m41/41\u001B[0m \u001B[32m━━━━━━━━━━━━━━━━━━━━\u001B[0m\u001B[37m\u001B[0m \u001B[1m1s\u001B[0m 30ms/step - accuracy: 0.7954 - loss: 0.4813 - val_accuracy: 0.8005 - val_loss: 0.4665\n",
      "Epoch 86/100\n",
      "\u001B[1m41/41\u001B[0m \u001B[32m━━━━━━━━━━━━━━━━━━━━\u001B[0m\u001B[37m\u001B[0m \u001B[1m1s\u001B[0m 31ms/step - accuracy: 0.7961 - loss: 0.4830 - val_accuracy: 0.8033 - val_loss: 0.4668\n",
      "Epoch 87/100\n",
      "\u001B[1m41/41\u001B[0m \u001B[32m━━━━━━━━━━━━━━━━━━━━\u001B[0m\u001B[37m\u001B[0m \u001B[1m1s\u001B[0m 29ms/step - accuracy: 0.8069 - loss: 0.4696 - val_accuracy: 0.7965 - val_loss: 0.4838\n",
      "Epoch 88/100\n",
      "\u001B[1m41/41\u001B[0m \u001B[32m━━━━━━━━━━━━━━━━━━━━\u001B[0m\u001B[37m\u001B[0m \u001B[1m1s\u001B[0m 29ms/step - accuracy: 0.7942 - loss: 0.4837 - val_accuracy: 0.7956 - val_loss: 0.4742\n",
      "Epoch 89/100\n",
      "\u001B[1m41/41\u001B[0m \u001B[32m━━━━━━━━━━━━━━━━━━━━\u001B[0m\u001B[37m\u001B[0m \u001B[1m1s\u001B[0m 29ms/step - accuracy: 0.8100 - loss: 0.4620 - val_accuracy: 0.7928 - val_loss: 0.4604\n",
      "Epoch 90/100\n",
      "\u001B[1m41/41\u001B[0m \u001B[32m━━━━━━━━━━━━━━━━━━━━\u001B[0m\u001B[37m\u001B[0m \u001B[1m1s\u001B[0m 29ms/step - accuracy: 0.7978 - loss: 0.4683 - val_accuracy: 0.8155 - val_loss: 0.4487\n",
      "Epoch 91/100\n",
      "\u001B[1m41/41\u001B[0m \u001B[32m━━━━━━━━━━━━━━━━━━━━\u001B[0m\u001B[37m\u001B[0m \u001B[1m1s\u001B[0m 30ms/step - accuracy: 0.8114 - loss: 0.4519 - val_accuracy: 0.8092 - val_loss: 0.4696\n",
      "Epoch 92/100\n",
      "\u001B[1m41/41\u001B[0m \u001B[32m━━━━━━━━━━━━━━━━━━━━\u001B[0m\u001B[37m\u001B[0m \u001B[1m1s\u001B[0m 29ms/step - accuracy: 0.7988 - loss: 0.4710 - val_accuracy: 0.7947 - val_loss: 0.4790\n",
      "Epoch 93/100\n",
      "\u001B[1m41/41\u001B[0m \u001B[32m━━━━━━━━━━━━━━━━━━━━\u001B[0m\u001B[37m\u001B[0m \u001B[1m1s\u001B[0m 31ms/step - accuracy: 0.8005 - loss: 0.4702 - val_accuracy: 0.8037 - val_loss: 0.4710\n",
      "Epoch 94/100\n",
      "\u001B[1m41/41\u001B[0m \u001B[32m━━━━━━━━━━━━━━━━━━━━\u001B[0m\u001B[37m\u001B[0m \u001B[1m1s\u001B[0m 29ms/step - accuracy: 0.8120 - loss: 0.4451 - val_accuracy: 0.8078 - val_loss: 0.4526\n",
      "Epoch 95/100\n",
      "\u001B[1m41/41\u001B[0m \u001B[32m━━━━━━━━━━━━━━━━━━━━\u001B[0m\u001B[37m\u001B[0m \u001B[1m1s\u001B[0m 29ms/step - accuracy: 0.8045 - loss: 0.4732 - val_accuracy: 0.8024 - val_loss: 0.4787\n",
      "Epoch 96/100\n",
      "\u001B[1m41/41\u001B[0m \u001B[32m━━━━━━━━━━━━━━━━━━━━\u001B[0m\u001B[37m\u001B[0m \u001B[1m1s\u001B[0m 30ms/step - accuracy: 0.8051 - loss: 0.4598 - val_accuracy: 0.8042 - val_loss: 0.4650\n",
      "Epoch 97/100\n",
      "\u001B[1m41/41\u001B[0m \u001B[32m━━━━━━━━━━━━━━━━━━━━\u001B[0m\u001B[37m\u001B[0m \u001B[1m1s\u001B[0m 30ms/step - accuracy: 0.7946 - loss: 0.4736 - val_accuracy: 0.8123 - val_loss: 0.4454\n",
      "Epoch 98/100\n",
      "\u001B[1m41/41\u001B[0m \u001B[32m━━━━━━━━━━━━━━━━━━━━\u001B[0m\u001B[37m\u001B[0m \u001B[1m1s\u001B[0m 29ms/step - accuracy: 0.8106 - loss: 0.4614 - val_accuracy: 0.8015 - val_loss: 0.4650\n",
      "Epoch 99/100\n",
      "\u001B[1m41/41\u001B[0m \u001B[32m━━━━━━━━━━━━━━━━━━━━\u001B[0m\u001B[37m\u001B[0m \u001B[1m1s\u001B[0m 30ms/step - accuracy: 0.8214 - loss: 0.4424 - val_accuracy: 0.8132 - val_loss: 0.4465\n",
      "Epoch 100/100\n",
      "\u001B[1m41/41\u001B[0m \u001B[32m━━━━━━━━━━━━━━━━━━━━\u001B[0m\u001B[37m\u001B[0m \u001B[1m1s\u001B[0m 31ms/step - accuracy: 0.8024 - loss: 0.4715 - val_accuracy: 0.7951 - val_loss: 0.4841\n"
     ]
    }
   ],
   "execution_count": 39
  },
  {
   "cell_type": "code",
   "metadata": {
    "execution": {
     "iopub.execute_input": "2020-10-24T19:03:41.462389Z",
     "iopub.status.busy": "2020-10-24T19:03:41.461627Z",
     "iopub.status.idle": "2020-10-24T19:03:45.386578Z",
     "shell.execute_reply": "2020-10-24T19:03:45.385926Z"
    },
    "papermill": {
     "duration": 4.350217,
     "end_time": "2020-10-24T19:03:45.386712",
     "exception": false,
     "start_time": "2020-10-24T19:03:41.036495",
     "status": "completed"
    },
    "tags": [],
    "ExecuteTime": {
     "end_time": "2025-02-28T11:51:21.357748Z",
     "start_time": "2025-02-28T11:51:20.183374Z"
    }
   },
   "source": [
    "y_pred_test = model.predict(test_pca_new)\n",
    "print(y_pred_test)"
   ],
   "outputs": [
    {
     "name": "stdout",
     "output_type": "stream",
     "text": [
      "\u001B[1m93/93\u001B[0m \u001B[32m━━━━━━━━━━━━━━━━━━━━\u001B[0m\u001B[37m\u001B[0m \u001B[1m1s\u001B[0m 10ms/step\n",
      "[[7.0396363e-04 2.0763143e-04 1.3603187e-04 1.9010839e-01 8.0882198e-01\n",
      "  2.2055307e-05]\n",
      " [6.9190521e-04 2.0885210e-04 1.4740633e-04 1.8838494e-01 8.1054360e-01\n",
      "  2.3254017e-05]\n",
      " [6.9511647e-04 2.1161277e-04 1.5127449e-04 1.8813996e-01 8.1077814e-01\n",
      "  2.3879857e-05]\n",
      " ...\n",
      " [5.4766506e-01 4.3562156e-01 1.4396993e-02 7.0735236e-04 1.5354132e-03\n",
      "  7.3614618e-05]\n",
      " [7.0439076e-01 2.7903986e-01 1.2501804e-02 1.2651880e-03 2.7250443e-03\n",
      "  7.7263605e-05]\n",
      " [6.9193387e-01 2.9023162e-01 1.2830998e-02 1.5515175e-03 3.3609697e-03\n",
      "  9.0963229e-05]]\n"
     ]
    }
   ],
   "execution_count": 40
  },
  {
   "metadata": {},
   "cell_type": "code",
   "outputs": [],
   "execution_count": null,
   "source": ""
  }
 ],
 "metadata": {
  "kernelspec": {
   "display_name": "Python 3",
   "language": "python",
   "name": "python3"
  },
  "language_info": {
   "codemirror_mode": {
    "name": "ipython",
    "version": 3
   },
   "file_extension": ".py",
   "mimetype": "text/x-python",
   "name": "python",
   "nbconvert_exporter": "python",
   "pygments_lexer": "ipython3",
   "version": "3.7.6"
  },
  "papermill": {
   "duration": 187.689724,
   "end_time": "2020-10-24T19:03:50.724854",
   "environment_variables": {},
   "exception": null,
   "input_path": "__notebook__.ipynb",
   "output_path": "__notebook__.ipynb",
   "parameters": {},
   "start_time": "2020-10-24T19:00:43.035130",
   "version": "2.1.0"
  }
 },
 "nbformat": 4,
 "nbformat_minor": 4
}
