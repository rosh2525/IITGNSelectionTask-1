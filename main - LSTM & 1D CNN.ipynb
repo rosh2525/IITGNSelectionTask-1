{
 "cells": [
  {
   "metadata": {
    "ExecuteTime": {
     "end_time": "2025-03-01T13:34:41.405224Z",
     "start_time": "2025-03-01T13:34:38.935765Z"
    }
   },
   "cell_type": "code",
   "source": [
    "import tensorflow as tf\n",
    "print(\"TensorFlow version:\", tf.__version__)\n",
    "print(\"GPU Available:\", tf.config.list_physical_devices('GPU'))\n"
   ],
   "outputs": [
    {
     "name": "stdout",
     "output_type": "stream",
     "text": [
      "TensorFlow version: 2.16.2\n",
      "GPU Available: [PhysicalDevice(name='/physical_device:GPU:0', device_type='GPU')]\n"
     ]
    }
   ],
   "execution_count": 1
  },
  {
   "cell_type": "code",
   "metadata": {
    "_cell_guid": "b1076dfc-b9ad-4769-8c92-a6c4dae69d19",
    "_uuid": "8f2839f25d086af736a60e9eeb907d3b93b6e0e5",
    "execution": {
     "iopub.execute_input": "2020-10-24T19:00:48.091304Z",
     "iopub.status.busy": "2020-10-24T19:00:48.090175Z",
     "iopub.status.idle": "2020-10-24T19:00:48.105334Z",
     "shell.execute_reply": "2020-10-24T19:00:48.106400Z"
    },
    "papermill": {
     "duration": 0.044978,
     "end_time": "2020-10-24T19:00:48.106705",
     "exception": false,
     "start_time": "2020-10-24T19:00:48.061727",
     "status": "completed"
    },
    "tags": [],
    "ExecuteTime": {
     "end_time": "2025-03-01T13:34:42.018128Z",
     "start_time": "2025-03-01T13:34:42.013715Z"
    }
   },
   "source": [
    "import numpy as np\n",
    "import pandas as pd\n",
    "\n",
    "import os\n",
    "for dirname, _, filenames in os.walk('UCI-HAR Dataset'):\n",
    "    for filename in filenames:\n",
    "        print(os.path.join(dirname, filename))"
   ],
   "outputs": [
    {
     "name": "stdout",
     "output_type": "stream",
     "text": [
      "UCI-HAR Dataset/.DS_Store\n",
      "UCI-HAR Dataset/features.txt\n",
      "UCI-HAR Dataset/activity_labels.txt\n",
      "UCI-HAR Dataset/features_info.txt\n",
      "UCI-HAR Dataset/README.txt\n",
      "UCI-HAR Dataset/test/subject_test.txt\n",
      "UCI-HAR Dataset/test/X_test.txt\n",
      "UCI-HAR Dataset/test/y_test.txt\n",
      "UCI-HAR Dataset/test/Inertial Signals/total_acc_y_test.txt\n",
      "UCI-HAR Dataset/test/Inertial Signals/total_acc_x_test.txt\n",
      "UCI-HAR Dataset/test/Inertial Signals/body_acc_x_test.txt\n",
      "UCI-HAR Dataset/test/Inertial Signals/body_acc_y_test.txt\n",
      "UCI-HAR Dataset/test/Inertial Signals/body_gyro_y_test.txt\n",
      "UCI-HAR Dataset/test/Inertial Signals/body_gyro_x_test.txt\n",
      "UCI-HAR Dataset/test/Inertial Signals/total_acc_z_test.txt\n",
      "UCI-HAR Dataset/test/Inertial Signals/body_gyro_z_test.txt\n",
      "UCI-HAR Dataset/test/Inertial Signals/body_acc_z_test.txt\n",
      "UCI-HAR Dataset/train/X_train.txt\n",
      "UCI-HAR Dataset/train/y_train.txt\n",
      "UCI-HAR Dataset/train/subject_train.txt\n",
      "UCI-HAR Dataset/train/Inertial Signals/body_gyro_z_train.txt\n",
      "UCI-HAR Dataset/train/Inertial Signals/body_acc_y_train.txt\n",
      "UCI-HAR Dataset/train/Inertial Signals/total_acc_z_train.txt\n",
      "UCI-HAR Dataset/train/Inertial Signals/body_acc_x_train.txt\n",
      "UCI-HAR Dataset/train/Inertial Signals/body_gyro_x_train.txt\n",
      "UCI-HAR Dataset/train/Inertial Signals/total_acc_y_train.txt\n",
      "UCI-HAR Dataset/train/Inertial Signals/body_gyro_y_train.txt\n",
      "UCI-HAR Dataset/train/Inertial Signals/total_acc_x_train.txt\n",
      "UCI-HAR Dataset/train/Inertial Signals/body_acc_z_train.txt\n"
     ]
    }
   ],
   "execution_count": 2
  },
  {
   "cell_type": "code",
   "metadata": {
    "_cell_guid": "79c7e3d0-c299-4dcb-8224-4455121ee9b0",
    "_uuid": "d629ff2d2480ee46fbb7e2d37f6b5fab8052498a",
    "execution": {
     "iopub.execute_input": "2020-10-24T19:00:48.163645Z",
     "iopub.status.busy": "2020-10-24T19:00:48.162324Z",
     "iopub.status.idle": "2020-10-24T19:00:51.232554Z",
     "shell.execute_reply": "2020-10-24T19:00:51.231706Z"
    },
    "papermill": {
     "duration": 3.104748,
     "end_time": "2020-10-24T19:00:51.232692",
     "exception": false,
     "start_time": "2020-10-24T19:00:48.127944",
     "status": "completed"
    },
    "tags": [],
    "ExecuteTime": {
     "end_time": "2025-03-01T13:34:44.730205Z",
     "start_time": "2025-03-01T13:34:43.712532Z"
    }
   },
   "source": [
    "# Train data\n",
    "body_acc_x_train = pd.read_csv('UCI-HAR Dataset/train/Inertial Signals/body_acc_x_train.txt', delim_whitespace=True, header=None)\n",
    "body_acc_y_train = pd.read_csv('UCI-HAR Dataset/train/Inertial Signals/body_acc_y_train.txt', delim_whitespace=True, header=None)\n",
    "body_acc_z_train = pd.read_csv('UCI-HAR Dataset/train/Inertial Signals/body_acc_z_train.txt', delim_whitespace=True, header=None)\n",
    "body_gyro_x_train = pd.read_csv('UCI-HAR Dataset/train/Inertial Signals/body_gyro_x_train.txt', delim_whitespace=True, header=None)\n",
    "body_gyro_y_train = pd.read_csv('UCI-HAR Dataset/train/Inertial Signals/body_gyro_y_train.txt', delim_whitespace=True, header=None)\n",
    "body_gyro_z_train = pd.read_csv('UCI-HAR Dataset/train/Inertial Signals/body_gyro_z_train.txt', delim_whitespace=True, header=None)\n",
    "total_acc_x_train = pd.read_csv('UCI-HAR Dataset/train/Inertial Signals/total_acc_x_train.txt', delim_whitespace=True, header=None)\n",
    "total_acc_y_train = pd.read_csv('UCI-HAR Dataset/train/Inertial Signals/total_acc_y_train.txt', delim_whitespace=True, header=None)\n",
    "total_acc_z_train = pd.read_csv('UCI-HAR Dataset/train/Inertial Signals/total_acc_z_train.txt', delim_whitespace=True, header=None)\n",
    "\n",
    "# Test data\n",
    "body_acc_x_test = pd.read_csv('UCI-HAR Dataset/test/Inertial Signals/body_acc_x_test.txt', delim_whitespace=True, header=None)\n",
    "body_acc_y_test = pd.read_csv('UCI-HAR Dataset/test/Inertial Signals/body_acc_y_test.txt', delim_whitespace=True, header=None)\n",
    "body_acc_z_test = pd.read_csv('UCI-HAR Dataset/test/Inertial Signals/body_acc_z_test.txt', delim_whitespace=True, header=None)\n",
    "body_gyro_x_test = pd.read_csv('UCI-HAR Dataset/test/Inertial Signals/body_gyro_x_test.txt', delim_whitespace=True, header=None)\n",
    "body_gyro_y_test = pd.read_csv('UCI-HAR Dataset/test/Inertial Signals/body_gyro_y_test.txt', delim_whitespace=True, header=None)\n",
    "body_gyro_z_test = pd.read_csv('UCI-HAR Dataset/test/Inertial Signals/body_gyro_z_test.txt', delim_whitespace=True, header=None)\n",
    "total_acc_x_test = pd.read_csv('UCI-HAR Dataset/test/Inertial Signals/total_acc_x_test.txt', delim_whitespace=True, header=None)\n",
    "total_acc_y_test = pd.read_csv('UCI-HAR Dataset/test/Inertial Signals/total_acc_y_test.txt', delim_whitespace=True, header=None)\n",
    "total_acc_z_test = pd.read_csv('UCI-HAR Dataset/test/Inertial Signals/total_acc_z_test.txt', delim_whitespace=True, header=None)"
   ],
   "outputs": [
    {
     "name": "stderr",
     "output_type": "stream",
     "text": [
      "/var/folders/p3/nztkj0p504z32rp7hy7rn3900000gn/T/ipykernel_14267/2055133109.py:2: FutureWarning: The 'delim_whitespace' keyword in pd.read_csv is deprecated and will be removed in a future version. Use ``sep='\\s+'`` instead\n",
      "  body_acc_x_train = pd.read_csv('UCI-HAR Dataset/train/Inertial Signals/body_acc_x_train.txt', delim_whitespace=True, header=None)\n",
      "/var/folders/p3/nztkj0p504z32rp7hy7rn3900000gn/T/ipykernel_14267/2055133109.py:3: FutureWarning: The 'delim_whitespace' keyword in pd.read_csv is deprecated and will be removed in a future version. Use ``sep='\\s+'`` instead\n",
      "  body_acc_y_train = pd.read_csv('UCI-HAR Dataset/train/Inertial Signals/body_acc_y_train.txt', delim_whitespace=True, header=None)\n",
      "/var/folders/p3/nztkj0p504z32rp7hy7rn3900000gn/T/ipykernel_14267/2055133109.py:4: FutureWarning: The 'delim_whitespace' keyword in pd.read_csv is deprecated and will be removed in a future version. Use ``sep='\\s+'`` instead\n",
      "  body_acc_z_train = pd.read_csv('UCI-HAR Dataset/train/Inertial Signals/body_acc_z_train.txt', delim_whitespace=True, header=None)\n",
      "/var/folders/p3/nztkj0p504z32rp7hy7rn3900000gn/T/ipykernel_14267/2055133109.py:5: FutureWarning: The 'delim_whitespace' keyword in pd.read_csv is deprecated and will be removed in a future version. Use ``sep='\\s+'`` instead\n",
      "  body_gyro_x_train = pd.read_csv('UCI-HAR Dataset/train/Inertial Signals/body_gyro_x_train.txt', delim_whitespace=True, header=None)\n",
      "/var/folders/p3/nztkj0p504z32rp7hy7rn3900000gn/T/ipykernel_14267/2055133109.py:6: FutureWarning: The 'delim_whitespace' keyword in pd.read_csv is deprecated and will be removed in a future version. Use ``sep='\\s+'`` instead\n",
      "  body_gyro_y_train = pd.read_csv('UCI-HAR Dataset/train/Inertial Signals/body_gyro_y_train.txt', delim_whitespace=True, header=None)\n",
      "/var/folders/p3/nztkj0p504z32rp7hy7rn3900000gn/T/ipykernel_14267/2055133109.py:7: FutureWarning: The 'delim_whitespace' keyword in pd.read_csv is deprecated and will be removed in a future version. Use ``sep='\\s+'`` instead\n",
      "  body_gyro_z_train = pd.read_csv('UCI-HAR Dataset/train/Inertial Signals/body_gyro_z_train.txt', delim_whitespace=True, header=None)\n",
      "/var/folders/p3/nztkj0p504z32rp7hy7rn3900000gn/T/ipykernel_14267/2055133109.py:8: FutureWarning: The 'delim_whitespace' keyword in pd.read_csv is deprecated and will be removed in a future version. Use ``sep='\\s+'`` instead\n",
      "  total_acc_x_train = pd.read_csv('UCI-HAR Dataset/train/Inertial Signals/total_acc_x_train.txt', delim_whitespace=True, header=None)\n",
      "/var/folders/p3/nztkj0p504z32rp7hy7rn3900000gn/T/ipykernel_14267/2055133109.py:9: FutureWarning: The 'delim_whitespace' keyword in pd.read_csv is deprecated and will be removed in a future version. Use ``sep='\\s+'`` instead\n",
      "  total_acc_y_train = pd.read_csv('UCI-HAR Dataset/train/Inertial Signals/total_acc_y_train.txt', delim_whitespace=True, header=None)\n",
      "/var/folders/p3/nztkj0p504z32rp7hy7rn3900000gn/T/ipykernel_14267/2055133109.py:10: FutureWarning: The 'delim_whitespace' keyword in pd.read_csv is deprecated and will be removed in a future version. Use ``sep='\\s+'`` instead\n",
      "  total_acc_z_train = pd.read_csv('UCI-HAR Dataset/train/Inertial Signals/total_acc_z_train.txt', delim_whitespace=True, header=None)\n",
      "/var/folders/p3/nztkj0p504z32rp7hy7rn3900000gn/T/ipykernel_14267/2055133109.py:13: FutureWarning: The 'delim_whitespace' keyword in pd.read_csv is deprecated and will be removed in a future version. Use ``sep='\\s+'`` instead\n",
      "  body_acc_x_test = pd.read_csv('UCI-HAR Dataset/test/Inertial Signals/body_acc_x_test.txt', delim_whitespace=True, header=None)\n",
      "/var/folders/p3/nztkj0p504z32rp7hy7rn3900000gn/T/ipykernel_14267/2055133109.py:14: FutureWarning: The 'delim_whitespace' keyword in pd.read_csv is deprecated and will be removed in a future version. Use ``sep='\\s+'`` instead\n",
      "  body_acc_y_test = pd.read_csv('UCI-HAR Dataset/test/Inertial Signals/body_acc_y_test.txt', delim_whitespace=True, header=None)\n",
      "/var/folders/p3/nztkj0p504z32rp7hy7rn3900000gn/T/ipykernel_14267/2055133109.py:15: FutureWarning: The 'delim_whitespace' keyword in pd.read_csv is deprecated and will be removed in a future version. Use ``sep='\\s+'`` instead\n",
      "  body_acc_z_test = pd.read_csv('UCI-HAR Dataset/test/Inertial Signals/body_acc_z_test.txt', delim_whitespace=True, header=None)\n",
      "/var/folders/p3/nztkj0p504z32rp7hy7rn3900000gn/T/ipykernel_14267/2055133109.py:16: FutureWarning: The 'delim_whitespace' keyword in pd.read_csv is deprecated and will be removed in a future version. Use ``sep='\\s+'`` instead\n",
      "  body_gyro_x_test = pd.read_csv('UCI-HAR Dataset/test/Inertial Signals/body_gyro_x_test.txt', delim_whitespace=True, header=None)\n",
      "/var/folders/p3/nztkj0p504z32rp7hy7rn3900000gn/T/ipykernel_14267/2055133109.py:17: FutureWarning: The 'delim_whitespace' keyword in pd.read_csv is deprecated and will be removed in a future version. Use ``sep='\\s+'`` instead\n",
      "  body_gyro_y_test = pd.read_csv('UCI-HAR Dataset/test/Inertial Signals/body_gyro_y_test.txt', delim_whitespace=True, header=None)\n",
      "/var/folders/p3/nztkj0p504z32rp7hy7rn3900000gn/T/ipykernel_14267/2055133109.py:18: FutureWarning: The 'delim_whitespace' keyword in pd.read_csv is deprecated and will be removed in a future version. Use ``sep='\\s+'`` instead\n",
      "  body_gyro_z_test = pd.read_csv('UCI-HAR Dataset/test/Inertial Signals/body_gyro_z_test.txt', delim_whitespace=True, header=None)\n",
      "/var/folders/p3/nztkj0p504z32rp7hy7rn3900000gn/T/ipykernel_14267/2055133109.py:19: FutureWarning: The 'delim_whitespace' keyword in pd.read_csv is deprecated and will be removed in a future version. Use ``sep='\\s+'`` instead\n",
      "  total_acc_x_test = pd.read_csv('UCI-HAR Dataset/test/Inertial Signals/total_acc_x_test.txt', delim_whitespace=True, header=None)\n",
      "/var/folders/p3/nztkj0p504z32rp7hy7rn3900000gn/T/ipykernel_14267/2055133109.py:20: FutureWarning: The 'delim_whitespace' keyword in pd.read_csv is deprecated and will be removed in a future version. Use ``sep='\\s+'`` instead\n",
      "  total_acc_y_test = pd.read_csv('UCI-HAR Dataset/test/Inertial Signals/total_acc_y_test.txt', delim_whitespace=True, header=None)\n",
      "/var/folders/p3/nztkj0p504z32rp7hy7rn3900000gn/T/ipykernel_14267/2055133109.py:21: FutureWarning: The 'delim_whitespace' keyword in pd.read_csv is deprecated and will be removed in a future version. Use ``sep='\\s+'`` instead\n",
      "  total_acc_z_test = pd.read_csv('UCI-HAR Dataset/test/Inertial Signals/total_acc_z_test.txt', delim_whitespace=True, header=None)\n"
     ]
    }
   ],
   "execution_count": 3
  },
  {
   "cell_type": "code",
   "metadata": {
    "execution": {
     "iopub.execute_input": "2020-10-24T19:00:52.681673Z",
     "iopub.status.busy": "2020-10-24T19:00:52.677462Z",
     "iopub.status.idle": "2020-10-24T19:00:52.699766Z",
     "shell.execute_reply": "2020-10-24T19:00:52.700379Z"
    },
    "papermill": {
     "duration": 0.066432,
     "end_time": "2020-10-24T19:00:52.700567",
     "exception": false,
     "start_time": "2020-10-24T19:00:52.634135",
     "status": "completed"
    },
    "tags": [],
    "ExecuteTime": {
     "end_time": "2025-03-01T13:34:45.579928Z",
     "start_time": "2025-03-01T13:34:45.565874Z"
    }
   },
   "source": "body_gyro_x_train.sample()",
   "outputs": [
    {
     "data": {
      "text/plain": [
       "           0         1         2         3         4         5         6    \\\n",
       "1558  0.423949  0.045786  0.071127  0.200703  0.386638  0.451508  0.284456   \n",
       "\n",
       "           7         8         9    ...       118       119       120  \\\n",
       "1558  0.304805  0.412029  0.422956  ... -1.315113 -0.740153  0.114608   \n",
       "\n",
       "           121       122       123       124       125       126    127  \n",
       "1558  0.572634  0.846498  0.821574  0.295917 -0.303032 -0.634281 -0.626  \n",
       "\n",
       "[1 rows x 128 columns]"
      ],
      "text/html": [
       "<div>\n",
       "<style scoped>\n",
       "    .dataframe tbody tr th:only-of-type {\n",
       "        vertical-align: middle;\n",
       "    }\n",
       "\n",
       "    .dataframe tbody tr th {\n",
       "        vertical-align: top;\n",
       "    }\n",
       "\n",
       "    .dataframe thead th {\n",
       "        text-align: right;\n",
       "    }\n",
       "</style>\n",
       "<table border=\"1\" class=\"dataframe\">\n",
       "  <thead>\n",
       "    <tr style=\"text-align: right;\">\n",
       "      <th></th>\n",
       "      <th>0</th>\n",
       "      <th>1</th>\n",
       "      <th>2</th>\n",
       "      <th>3</th>\n",
       "      <th>4</th>\n",
       "      <th>5</th>\n",
       "      <th>6</th>\n",
       "      <th>7</th>\n",
       "      <th>8</th>\n",
       "      <th>9</th>\n",
       "      <th>...</th>\n",
       "      <th>118</th>\n",
       "      <th>119</th>\n",
       "      <th>120</th>\n",
       "      <th>121</th>\n",
       "      <th>122</th>\n",
       "      <th>123</th>\n",
       "      <th>124</th>\n",
       "      <th>125</th>\n",
       "      <th>126</th>\n",
       "      <th>127</th>\n",
       "    </tr>\n",
       "  </thead>\n",
       "  <tbody>\n",
       "    <tr>\n",
       "      <th>1558</th>\n",
       "      <td>0.423949</td>\n",
       "      <td>0.045786</td>\n",
       "      <td>0.071127</td>\n",
       "      <td>0.200703</td>\n",
       "      <td>0.386638</td>\n",
       "      <td>0.451508</td>\n",
       "      <td>0.284456</td>\n",
       "      <td>0.304805</td>\n",
       "      <td>0.412029</td>\n",
       "      <td>0.422956</td>\n",
       "      <td>...</td>\n",
       "      <td>-1.315113</td>\n",
       "      <td>-0.740153</td>\n",
       "      <td>0.114608</td>\n",
       "      <td>0.572634</td>\n",
       "      <td>0.846498</td>\n",
       "      <td>0.821574</td>\n",
       "      <td>0.295917</td>\n",
       "      <td>-0.303032</td>\n",
       "      <td>-0.634281</td>\n",
       "      <td>-0.626</td>\n",
       "    </tr>\n",
       "  </tbody>\n",
       "</table>\n",
       "<p>1 rows × 128 columns</p>\n",
       "</div>"
      ]
     },
     "execution_count": 4,
     "metadata": {},
     "output_type": "execute_result"
    }
   ],
   "execution_count": 4
  },
  {
   "cell_type": "code",
   "metadata": {
    "execution": {
     "iopub.execute_input": "2020-10-24T19:00:52.767544Z",
     "iopub.status.busy": "2020-10-24T19:00:52.766635Z",
     "iopub.status.idle": "2020-10-24T19:00:52.771471Z",
     "shell.execute_reply": "2020-10-24T19:00:52.772099Z"
    },
    "papermill": {
     "duration": 0.050983,
     "end_time": "2020-10-24T19:00:52.772271",
     "exception": false,
     "start_time": "2020-10-24T19:00:52.721288",
     "status": "completed"
    },
    "tags": [],
    "ExecuteTime": {
     "end_time": "2025-03-01T13:34:46.620424Z",
     "start_time": "2025-03-01T13:34:46.610576Z"
    }
   },
   "source": "total_acc_z_test.sample()",
   "outputs": [
    {
     "data": {
      "text/plain": [
       "           0         1         2         3         4         5         6    \\\n",
       "2901  0.033502  0.055051 -0.041082 -0.259586 -0.430842 -0.414816 -0.247222   \n",
       "\n",
       "           7         8         9    ...       118       119       120  \\\n",
       "2901 -0.136401 -0.332969 -0.599216  ...  0.001636 -0.016346 -0.027005   \n",
       "\n",
       "           121       122       123       124       125       126       127  \n",
       "2901 -0.082551 -0.077577 -0.055674 -0.067647 -0.063225 -0.054774 -0.051674  \n",
       "\n",
       "[1 rows x 128 columns]"
      ],
      "text/html": [
       "<div>\n",
       "<style scoped>\n",
       "    .dataframe tbody tr th:only-of-type {\n",
       "        vertical-align: middle;\n",
       "    }\n",
       "\n",
       "    .dataframe tbody tr th {\n",
       "        vertical-align: top;\n",
       "    }\n",
       "\n",
       "    .dataframe thead th {\n",
       "        text-align: right;\n",
       "    }\n",
       "</style>\n",
       "<table border=\"1\" class=\"dataframe\">\n",
       "  <thead>\n",
       "    <tr style=\"text-align: right;\">\n",
       "      <th></th>\n",
       "      <th>0</th>\n",
       "      <th>1</th>\n",
       "      <th>2</th>\n",
       "      <th>3</th>\n",
       "      <th>4</th>\n",
       "      <th>5</th>\n",
       "      <th>6</th>\n",
       "      <th>7</th>\n",
       "      <th>8</th>\n",
       "      <th>9</th>\n",
       "      <th>...</th>\n",
       "      <th>118</th>\n",
       "      <th>119</th>\n",
       "      <th>120</th>\n",
       "      <th>121</th>\n",
       "      <th>122</th>\n",
       "      <th>123</th>\n",
       "      <th>124</th>\n",
       "      <th>125</th>\n",
       "      <th>126</th>\n",
       "      <th>127</th>\n",
       "    </tr>\n",
       "  </thead>\n",
       "  <tbody>\n",
       "    <tr>\n",
       "      <th>2901</th>\n",
       "      <td>0.033502</td>\n",
       "      <td>0.055051</td>\n",
       "      <td>-0.041082</td>\n",
       "      <td>-0.259586</td>\n",
       "      <td>-0.430842</td>\n",
       "      <td>-0.414816</td>\n",
       "      <td>-0.247222</td>\n",
       "      <td>-0.136401</td>\n",
       "      <td>-0.332969</td>\n",
       "      <td>-0.599216</td>\n",
       "      <td>...</td>\n",
       "      <td>0.001636</td>\n",
       "      <td>-0.016346</td>\n",
       "      <td>-0.027005</td>\n",
       "      <td>-0.082551</td>\n",
       "      <td>-0.077577</td>\n",
       "      <td>-0.055674</td>\n",
       "      <td>-0.067647</td>\n",
       "      <td>-0.063225</td>\n",
       "      <td>-0.054774</td>\n",
       "      <td>-0.051674</td>\n",
       "    </tr>\n",
       "  </tbody>\n",
       "</table>\n",
       "<p>1 rows × 128 columns</p>\n",
       "</div>"
      ]
     },
     "execution_count": 5,
     "metadata": {},
     "output_type": "execute_result"
    }
   ],
   "execution_count": 5
  },
  {
   "cell_type": "code",
   "metadata": {
    "execution": {
     "iopub.execute_input": "2020-10-24T19:00:52.831273Z",
     "iopub.status.busy": "2020-10-24T19:00:52.830497Z",
     "iopub.status.idle": "2020-10-24T19:00:54.772255Z",
     "shell.execute_reply": "2020-10-24T19:00:54.771409Z"
    },
    "papermill": {
     "duration": 1.978489,
     "end_time": "2020-10-24T19:00:54.772398",
     "exception": false,
     "start_time": "2020-10-24T19:00:52.793909",
     "status": "completed"
    },
    "tags": [],
    "ExecuteTime": {
     "end_time": "2025-03-01T13:34:49.620467Z",
     "start_time": "2025-03-01T13:34:49.345990Z"
    }
   },
   "source": [
    "from sklearn.decomposition import PCA\n",
    "\n",
    "pca = PCA(n_components=0.9)\n",
    "body_acc_x_train_reduce = pd.DataFrame(pca.fit_transform(body_acc_x_train))\n",
    "body_acc_x_test_reduce = pd.DataFrame(pca.transform(body_acc_x_test))\n",
    "\n",
    "body_acc_y_train_reduce = pd.DataFrame(pca.fit_transform(body_acc_y_train))\n",
    "body_acc_y_test_reduce = pd.DataFrame(pca.transform(body_acc_y_test))\n",
    "\n",
    "body_acc_z_train_reduce = pd.DataFrame(pca.fit_transform(body_acc_z_train))\n",
    "body_acc_z_test_reduce = pd.DataFrame(pca.transform(body_acc_z_test))\n",
    "\n",
    "body_gyro_x_train_reduce = pd.DataFrame(pca.fit_transform(body_gyro_x_train))\n",
    "body_gyro_x_test_reduce = pd.DataFrame(pca.transform(body_gyro_x_test))\n",
    "\n",
    "body_gyro_y_train_reduce = pd.DataFrame(pca.fit_transform(body_gyro_y_train))\n",
    "body_gyro_y_test_reduce = pd.DataFrame(pca.transform(body_gyro_y_test))\n",
    "\n",
    "body_gyro_z_train_reduce = pd.DataFrame(pca.fit_transform(body_gyro_z_train))\n",
    "body_gyro_z_test_reduce = pd.DataFrame(pca.transform(body_gyro_z_test))\n",
    "\n",
    "total_acc_x_train_reduce = pd.DataFrame(pca.fit_transform(total_acc_x_train))\n",
    "total_acc_x_test_reduce = pd.DataFrame(pca.transform(total_acc_x_test))\n",
    "\n",
    "total_acc_y_train_reduce = pd.DataFrame(pca.fit_transform(total_acc_y_train))\n",
    "total_acc_y_test_reduce = pd.DataFrame(pca.transform(total_acc_y_test))\n",
    "\n",
    "total_acc_z_train_reduce = pd.DataFrame(pca.fit_transform(total_acc_z_train))\n",
    "total_acc_z_test_reduce = pd.DataFrame(pca.transform(total_acc_z_test))\n",
    "\n",
    "body_acc_x_train_reduce.shape"
   ],
   "outputs": [
    {
     "data": {
      "text/plain": [
       "(7352, 27)"
      ]
     },
     "execution_count": 6,
     "metadata": {},
     "output_type": "execute_result"
    }
   ],
   "execution_count": 6
  },
  {
   "cell_type": "code",
   "metadata": {
    "execution": {
     "iopub.execute_input": "2020-10-24T19:00:54.851567Z",
     "iopub.status.busy": "2020-10-24T19:00:54.847941Z",
     "iopub.status.idle": "2020-10-24T19:00:54.997522Z",
     "shell.execute_reply": "2020-10-24T19:00:54.998166Z"
    },
    "papermill": {
     "duration": 0.203179,
     "end_time": "2020-10-24T19:00:54.998330",
     "exception": false,
     "start_time": "2020-10-24T19:00:54.795151",
     "status": "completed"
    },
    "tags": [],
    "ExecuteTime": {
     "end_time": "2025-03-01T13:34:56.019357Z",
     "start_time": "2025-03-01T13:34:53.433504Z"
    }
   },
   "source": [
    "import numpy as np\n",
    "\n",
    "def mad(data):\n",
    "    return np.mean(np.abs(data - np.mean(data)))\n",
    "\n",
    "pca_new = pd.DataFrame(body_acc_x_train_reduce.mean(axis=1))\n",
    "pca_new.columns = ['tBodyAcc-mean()-x']\n",
    "pca_new['tBodyAcc-mean()-y'] = body_acc_y_train_reduce.mean(axis=1)\n",
    "pca_new['tBodyAcc-mean()-z'] = body_acc_z_train_reduce.mean(axis=1)\n",
    "pca_new['tBodyGyro-mean()-x'] = body_gyro_x_train_reduce.mean(axis=1)\n",
    "pca_new['tBodyGyro-mean()-y'] = body_gyro_y_train_reduce.mean(axis=1)\n",
    "pca_new['tBodyGyro-mean()-z'] = body_gyro_z_train_reduce.mean(axis=1)\n",
    "pca_new['tTotalAcc-mean()-x'] = total_acc_x_train_reduce.mean(axis=1)\n",
    "pca_new['tTotalAcc-mean()-y'] = total_acc_y_train_reduce.mean(axis=1)\n",
    "pca_new['tTotalAcc-mean()-z'] = total_acc_z_train_reduce.mean(axis=1)\n",
    "\n",
    "pca_new['tBodyAcc-std()-x'] = body_acc_x_train_reduce.std(axis=1)\n",
    "pca_new['tBodyAcc-std()-y'] = body_acc_y_train_reduce.std(axis=1)\n",
    "pca_new['tBodyAcc-std()-z'] = body_acc_z_train_reduce.std(axis=1)\n",
    "pca_new['tBodyGyro-std()-x'] = body_gyro_x_train_reduce.std(axis=1)\n",
    "pca_new['tBodyGyro-std()-y'] = body_gyro_y_train_reduce.std(axis=1)\n",
    "pca_new['tBodyGyro-std()-z'] = body_gyro_z_train_reduce.std(axis=1)\n",
    "pca_new['tTotalAcc-std()-x'] = total_acc_x_train_reduce.std(axis=1)\n",
    "# Removed tTotalAcc-std()-y and tTotalAcc-std()-z as they were resulting in NaN values\n",
    "\n",
    "pca_new['tBodyAcc-mad()-x'] = body_acc_x_train_reduce.apply(mad, axis=1)\n",
    "pca_new['tBodyAcc-mad()-y'] = body_acc_y_train_reduce.apply(mad, axis=1)\n",
    "pca_new['tBodyAcc-mad()-z'] = body_acc_z_train_reduce.apply(mad, axis=1)\n",
    "pca_new['tBodyGyro-mad()-x'] = body_gyro_x_train_reduce.apply(mad, axis=1)\n",
    "pca_new['tBodyGyro-mad()-y'] = body_gyro_y_train_reduce.apply(mad, axis=1)\n",
    "pca_new['tBodyGyro-mad()-z'] = body_gyro_z_train_reduce.apply(mad, axis=1)\n",
    "pca_new['tTotalAcc-mad()-x'] = total_acc_x_train_reduce.apply(mad, axis=1)\n",
    "# Removed tTotalAcc-mad()-y and tTotalAcc-mad()-z as they were resulting in all zeros\n",
    "\n",
    "pca_new['tBodyAcc-max()-x'] = body_acc_x_train_reduce.max(axis=1)\n",
    "pca_new['tBodyAcc-max()-y'] = body_acc_y_train_reduce.max(axis=1)\n",
    "pca_new['tBodyAcc-max()-z'] = body_acc_z_train_reduce.max(axis=1)\n",
    "pca_new['tBodyGyro-max()-x'] = body_gyro_x_train_reduce.max(axis=1)\n",
    "pca_new['tBodyGyro-max()-y'] = body_gyro_y_train_reduce.max(axis=1)\n",
    "pca_new['tBodyGyro-max()-z'] = body_gyro_z_train_reduce.max(axis=1)\n",
    "pca_new['tTotalAcc-max()-x'] = total_acc_x_train_reduce.max(axis=1)\n",
    "pca_new['tTotalAcc-max()-y'] = total_acc_y_train_reduce.max(axis=1)\n",
    "pca_new['tTotalAcc-max()-z'] = total_acc_z_train_reduce.max(axis=1)\n",
    "\n",
    "pca_new['tBodyAcc-min()-x'] = body_acc_x_train_reduce.min(axis=1)\n",
    "pca_new['tBodyAcc-min()-y'] = body_acc_y_train_reduce.min(axis=1)\n",
    "pca_new['tBodyAcc-min()-z'] = body_acc_z_train_reduce.min(axis=1)\n",
    "pca_new['tBodyGyro-min()-x'] = body_gyro_x_train_reduce.min(axis=1)\n",
    "pca_new['tBodyGyro-min()-y'] = body_gyro_y_train_reduce.min(axis=1)\n",
    "pca_new['tBodyGyro-min()-z'] = body_gyro_z_train_reduce.min(axis=1)\n",
    "pca_new['tTotalAcc-min()-x'] = total_acc_x_train_reduce.min(axis=1)\n",
    "pca_new['tTotalAcc-min()-y'] = total_acc_y_train_reduce.min(axis=1)\n",
    "pca_new['tTotalAcc-min()-z'] = total_acc_z_train_reduce.min(axis=1)\n",
    "\n",
    "pca_new['tBodyAcc-median()-x'] = body_acc_x_train_reduce.median(axis=1)\n",
    "pca_new['tBodyAcc-median()-y'] = body_acc_y_train_reduce.median(axis=1)\n",
    "pca_new['tBodyAcc-median()-z'] = body_acc_z_train_reduce.median(axis=1)\n",
    "pca_new['tBodyGyro-median()-x'] = body_gyro_x_train_reduce.median(axis=1)\n",
    "pca_new['tBodyGyro-median()-y'] = body_gyro_y_train_reduce.median(axis=1)\n",
    "pca_new['tBodyGyro-median()-z'] = body_gyro_z_train_reduce.median(axis=1)\n",
    "pca_new['tTotalAcc-median()-x'] = total_acc_x_train_reduce.median(axis=1)\n",
    "pca_new['tTotalAcc-median()-y'] = total_acc_y_train_reduce.median(axis=1)\n",
    "pca_new['tTotalAcc-median()-z'] = total_acc_z_train_reduce.median(axis=1)"
   ],
   "outputs": [],
   "execution_count": 7
  },
  {
   "cell_type": "code",
   "metadata": {
    "execution": {
     "iopub.execute_input": "2020-10-24T19:00:55.078159Z",
     "iopub.status.busy": "2020-10-24T19:00:55.075442Z",
     "iopub.status.idle": "2020-10-24T19:00:55.163317Z",
     "shell.execute_reply": "2020-10-24T19:00:55.162600Z"
    },
    "papermill": {
     "duration": 0.142262,
     "end_time": "2020-10-24T19:00:55.163494",
     "exception": false,
     "start_time": "2020-10-24T19:00:55.021232",
     "status": "completed"
    },
    "tags": [],
    "ExecuteTime": {
     "end_time": "2025-03-01T13:34:57.825854Z",
     "start_time": "2025-03-01T13:34:56.742311Z"
    }
   },
   "source": [
    "def mad(data):\n",
    "    return np.mean(np.abs(data - np.mean(data)))\n",
    "\n",
    "test_pca_new = pd.DataFrame(body_acc_x_test_reduce.mean(axis=1))\n",
    "test_pca_new.columns = ['tBodyAcc-mean()-x']\n",
    "test_pca_new['tBodyAcc-mean()-y'] = body_acc_y_test_reduce.mean(axis=1)\n",
    "test_pca_new['tBodyAcc-mean()-z'] = body_acc_z_test_reduce.mean(axis=1)\n",
    "test_pca_new['tBodyGyro-mean()-x'] = body_gyro_x_test_reduce.mean(axis=1)\n",
    "test_pca_new['tBodyGyro-mean()-y'] = body_gyro_y_test_reduce.mean(axis=1)\n",
    "test_pca_new['tBodyGyro-mean()-z'] = body_gyro_z_test_reduce.mean(axis=1)\n",
    "test_pca_new['tTotalAcc-mean()-x'] = total_acc_x_test_reduce.mean(axis=1)\n",
    "test_pca_new['tTotalAcc-mean()-y'] = total_acc_y_test_reduce.mean(axis=1)\n",
    "test_pca_new['tTotalAcc-mean()-z'] = total_acc_z_test_reduce.mean(axis=1)\n",
    "\n",
    "test_pca_new['tBodyAcc-std()-x'] = body_acc_x_test_reduce.std(axis=1)\n",
    "test_pca_new['tBodyAcc-std()-y'] = body_acc_y_test_reduce.std(axis=1)\n",
    "test_pca_new['tBodyAcc-std()-z'] = body_acc_z_test_reduce.std(axis=1)\n",
    "test_pca_new['tBodyGyro-std()-x'] = body_gyro_x_test_reduce.std(axis=1)\n",
    "test_pca_new['tBodyGyro-std()-y'] = body_gyro_y_test_reduce.std(axis=1)\n",
    "test_pca_new['tBodyGyro-std()-z'] = body_gyro_z_test_reduce.std(axis=1)\n",
    "test_pca_new['tTotalAcc-std()-x'] = total_acc_x_test_reduce.std(axis=1)\n",
    "\n",
    "test_pca_new['tBodyAcc-mad()-x'] = body_acc_x_test_reduce.apply(mad, axis=1)\n",
    "test_pca_new['tBodyAcc-mad()-y'] = body_acc_y_test_reduce.apply(mad, axis=1)\n",
    "test_pca_new['tBodyAcc-mad()-z'] = body_acc_z_test_reduce.apply(mad, axis=1)\n",
    "test_pca_new['tBodyGyro-mad()-x'] = body_gyro_x_test_reduce.apply(mad, axis=1)\n",
    "test_pca_new['tBodyGyro-mad()-y'] = body_gyro_y_test_reduce.apply(mad, axis=1)\n",
    "test_pca_new['tBodyGyro-mad()-z'] = body_gyro_z_test_reduce.apply(mad, axis=1)\n",
    "test_pca_new['tTotalAcc-mad()-x'] = total_acc_x_test_reduce.apply(mad, axis=1)\n",
    "\n",
    "test_pca_new['tBodyAcc-max()-x'] = body_acc_x_test_reduce.max(axis=1)\n",
    "test_pca_new['tBodyAcc-max()-y'] = body_acc_y_test_reduce.max(axis=1)\n",
    "test_pca_new['tBodyAcc-max()-z'] = body_acc_z_test_reduce.max(axis=1)\n",
    "test_pca_new['tBodyGyro-max()-x'] = body_gyro_x_test_reduce.max(axis=1)\n",
    "test_pca_new['tBodyGyro-max()-y'] = body_gyro_y_test_reduce.max(axis=1)\n",
    "test_pca_new['tBodyGyro-max()-z'] = body_gyro_z_test_reduce.max(axis=1)\n",
    "test_pca_new['tTotalAcc-max()-x'] = total_acc_x_test_reduce.max(axis=1)\n",
    "test_pca_new['tTotalAcc-max()-y'] = total_acc_y_test_reduce.max(axis=1)\n",
    "test_pca_new['tTotalAcc-max()-z'] = total_acc_z_test_reduce.max(axis=1)\n",
    "\n",
    "test_pca_new['tBodyAcc-min()-x'] = body_acc_x_test_reduce.min(axis=1)\n",
    "test_pca_new['tBodyAcc-min()-y'] = body_acc_y_test_reduce.min(axis=1)\n",
    "test_pca_new['tBodyAcc-min()-z'] = body_acc_z_test_reduce.min(axis=1)\n",
    "test_pca_new['tBodyGyro-min()-x'] = body_gyro_x_test_reduce.min(axis=1)\n",
    "test_pca_new['tBodyGyro-min()-y'] = body_gyro_y_test_reduce.min(axis=1)\n",
    "test_pca_new['tBodyGyro-min()-z'] = body_gyro_z_test_reduce.min(axis=1)\n",
    "test_pca_new['tTotalAcc-min()-x'] = total_acc_x_test_reduce.min(axis=1)\n",
    "test_pca_new['tTotalAcc-min()-y'] = total_acc_y_test_reduce.min(axis=1)\n",
    "test_pca_new['tTotalAcc-min()-z'] = total_acc_z_test_reduce.min(axis=1)\n",
    "\n",
    "test_pca_new['tBodyAcc-median()-x'] = body_acc_x_test_reduce.median(axis=1)\n",
    "test_pca_new['tBodyAcc-median()-y'] = body_acc_y_test_reduce.median(axis=1)\n",
    "test_pca_new['tBodyAcc-median()-z'] = body_acc_z_test_reduce.median(axis=1)\n",
    "test_pca_new['tBodyGyro-median()-x'] = body_gyro_x_test_reduce.median(axis=1)\n",
    "test_pca_new['tBodyGyro-median()-y'] = body_gyro_y_test_reduce.median(axis=1)\n",
    "test_pca_new['tBodyGyro-median()-z'] = body_gyro_z_test_reduce.median(axis=1)\n",
    "test_pca_new['tTotalAcc-median()-x'] = total_acc_x_test_reduce.median(axis=1)\n",
    "test_pca_new['tTotalAcc-median()-y'] = total_acc_y_test_reduce.median(axis=1)\n",
    "test_pca_new['tTotalAcc-median()-z'] = total_acc_z_test_reduce.median(axis=1)\n"
   ],
   "outputs": [],
   "execution_count": 8
  },
  {
   "cell_type": "code",
   "metadata": {
    "execution": {
     "iopub.execute_input": "2020-10-24T19:00:55.216261Z",
     "iopub.status.busy": "2020-10-24T19:00:55.215368Z",
     "iopub.status.idle": "2020-10-24T19:00:55.220538Z",
     "shell.execute_reply": "2020-10-24T19:00:55.219783Z"
    },
    "papermill": {
     "duration": 0.033873,
     "end_time": "2020-10-24T19:00:55.220687",
     "exception": false,
     "start_time": "2020-10-24T19:00:55.186814",
     "status": "completed"
    },
    "tags": [],
    "ExecuteTime": {
     "end_time": "2025-03-01T09:42:02.326455Z",
     "start_time": "2025-03-01T09:42:02.323461Z"
    }
   },
   "source": [
    "print(pca_new.shape)\n",
    "print(test_pca_new.shape)"
   ],
   "outputs": [
    {
     "name": "stdout",
     "output_type": "stream",
     "text": [
      "(7352, 50)\n",
      "(2947, 50)\n"
     ]
    }
   ],
   "execution_count": 69
  },
  {
   "cell_type": "code",
   "metadata": {
    "execution": {
     "iopub.execute_input": "2020-10-24T19:00:55.274440Z",
     "iopub.status.busy": "2020-10-24T19:00:55.273620Z",
     "iopub.status.idle": "2020-10-24T19:00:55.289473Z",
     "shell.execute_reply": "2020-10-24T19:00:55.288656Z"
    },
    "papermill": {
     "duration": 0.045639,
     "end_time": "2020-10-24T19:00:55.289615",
     "exception": false,
     "start_time": "2020-10-24T19:00:55.243976",
     "status": "completed"
    },
    "tags": [],
    "ExecuteTime": {
     "end_time": "2025-03-01T09:42:03.756892Z",
     "start_time": "2025-03-01T09:42:03.750772Z"
    }
   },
   "source": "pd.isna(pca_new).sum()",
   "outputs": [
    {
     "data": {
      "text/plain": [
       "tBodyAcc-mean()-x       0\n",
       "tBodyAcc-mean()-y       0\n",
       "tBodyAcc-mean()-z       0\n",
       "tBodyGyro-mean()-x      0\n",
       "tBodyGyro-mean()-y      0\n",
       "tBodyGyro-mean()-z      0\n",
       "tTotalAcc-mean()-x      0\n",
       "tTotalAcc-mean()-y      0\n",
       "tTotalAcc-mean()-z      0\n",
       "tBodyAcc-std()-x        0\n",
       "tBodyAcc-std()-y        0\n",
       "tBodyAcc-std()-z        0\n",
       "tBodyGyro-std()-x       0\n",
       "tBodyGyro-std()-y       0\n",
       "tBodyGyro-std()-z       0\n",
       "tTotalAcc-std()-x       0\n",
       "tBodyAcc-mad()-x        0\n",
       "tBodyAcc-mad()-y        0\n",
       "tBodyAcc-mad()-z        0\n",
       "tBodyGyro-mad()-x       0\n",
       "tBodyGyro-mad()-y       0\n",
       "tBodyGyro-mad()-z       0\n",
       "tTotalAcc-mad()-x       0\n",
       "tBodyAcc-max()-x        0\n",
       "tBodyAcc-max()-y        0\n",
       "tBodyAcc-max()-z        0\n",
       "tBodyGyro-max()-x       0\n",
       "tBodyGyro-max()-y       0\n",
       "tBodyGyro-max()-z       0\n",
       "tTotalAcc-max()-x       0\n",
       "tTotalAcc-max()-y       0\n",
       "tTotalAcc-max()-z       0\n",
       "tBodyAcc-min()-x        0\n",
       "tBodyAcc-min()-y        0\n",
       "tBodyAcc-min()-z        0\n",
       "tBodyGyro-min()-x       0\n",
       "tBodyGyro-min()-y       0\n",
       "tBodyGyro-min()-z       0\n",
       "tTotalAcc-min()-x       0\n",
       "tTotalAcc-min()-y       0\n",
       "tTotalAcc-min()-z       0\n",
       "tBodyAcc-median()-x     0\n",
       "tBodyAcc-median()-y     0\n",
       "tBodyAcc-median()-z     0\n",
       "tBodyGyro-median()-x    0\n",
       "tBodyGyro-median()-y    0\n",
       "tBodyGyro-median()-z    0\n",
       "tTotalAcc-median()-x    0\n",
       "tTotalAcc-median()-y    0\n",
       "tTotalAcc-median()-z    0\n",
       "dtype: int64"
      ]
     },
     "execution_count": 70,
     "metadata": {},
     "output_type": "execute_result"
    }
   ],
   "execution_count": 70
  },
  {
   "cell_type": "code",
   "metadata": {
    "execution": {
     "iopub.execute_input": "2020-10-24T19:00:55.344019Z",
     "iopub.status.busy": "2020-10-24T19:00:55.343146Z",
     "iopub.status.idle": "2020-10-24T19:00:55.357133Z",
     "shell.execute_reply": "2020-10-24T19:00:55.356396Z"
    },
    "papermill": {
     "duration": 0.044005,
     "end_time": "2020-10-24T19:00:55.357269",
     "exception": false,
     "start_time": "2020-10-24T19:00:55.313264",
     "status": "completed"
    },
    "tags": [],
    "ExecuteTime": {
     "end_time": "2025-03-01T09:42:04.930685Z",
     "start_time": "2025-03-01T09:42:04.925883Z"
    }
   },
   "source": [
    "y_train = pd.read_csv('UCI-HAR Dataset/train/y_train.txt', header=None)\n",
    "y_train = pd.DataFrame(y_train)"
   ],
   "outputs": [],
   "execution_count": 71
  },
  {
   "cell_type": "code",
   "metadata": {
    "execution": {
     "iopub.execute_input": "2020-10-24T19:00:55.413705Z",
     "iopub.status.busy": "2020-10-24T19:00:55.412899Z",
     "iopub.status.idle": "2020-10-24T19:00:55.425719Z",
     "shell.execute_reply": "2020-10-24T19:00:55.425006Z"
    },
    "papermill": {
     "duration": 0.043978,
     "end_time": "2020-10-24T19:00:55.425870",
     "exception": false,
     "start_time": "2020-10-24T19:00:55.381892",
     "status": "completed"
    },
    "tags": [],
    "ExecuteTime": {
     "end_time": "2025-03-01T09:42:09.516198Z",
     "start_time": "2025-03-01T09:42:09.509396Z"
    }
   },
   "source": [
    "y_train.columns = ['label']\n",
    "y_train = pd.get_dummies(y_train['label'])\n",
    "y_train.head()"
   ],
   "outputs": [
    {
     "data": {
      "text/plain": [
       "       1      2      3      4     5      6\n",
       "0  False  False  False  False  True  False\n",
       "1  False  False  False  False  True  False\n",
       "2  False  False  False  False  True  False\n",
       "3  False  False  False  False  True  False\n",
       "4  False  False  False  False  True  False"
      ],
      "text/html": [
       "<div>\n",
       "<style scoped>\n",
       "    .dataframe tbody tr th:only-of-type {\n",
       "        vertical-align: middle;\n",
       "    }\n",
       "\n",
       "    .dataframe tbody tr th {\n",
       "        vertical-align: top;\n",
       "    }\n",
       "\n",
       "    .dataframe thead th {\n",
       "        text-align: right;\n",
       "    }\n",
       "</style>\n",
       "<table border=\"1\" class=\"dataframe\">\n",
       "  <thead>\n",
       "    <tr style=\"text-align: right;\">\n",
       "      <th></th>\n",
       "      <th>1</th>\n",
       "      <th>2</th>\n",
       "      <th>3</th>\n",
       "      <th>4</th>\n",
       "      <th>5</th>\n",
       "      <th>6</th>\n",
       "    </tr>\n",
       "  </thead>\n",
       "  <tbody>\n",
       "    <tr>\n",
       "      <th>0</th>\n",
       "      <td>False</td>\n",
       "      <td>False</td>\n",
       "      <td>False</td>\n",
       "      <td>False</td>\n",
       "      <td>True</td>\n",
       "      <td>False</td>\n",
       "    </tr>\n",
       "    <tr>\n",
       "      <th>1</th>\n",
       "      <td>False</td>\n",
       "      <td>False</td>\n",
       "      <td>False</td>\n",
       "      <td>False</td>\n",
       "      <td>True</td>\n",
       "      <td>False</td>\n",
       "    </tr>\n",
       "    <tr>\n",
       "      <th>2</th>\n",
       "      <td>False</td>\n",
       "      <td>False</td>\n",
       "      <td>False</td>\n",
       "      <td>False</td>\n",
       "      <td>True</td>\n",
       "      <td>False</td>\n",
       "    </tr>\n",
       "    <tr>\n",
       "      <th>3</th>\n",
       "      <td>False</td>\n",
       "      <td>False</td>\n",
       "      <td>False</td>\n",
       "      <td>False</td>\n",
       "      <td>True</td>\n",
       "      <td>False</td>\n",
       "    </tr>\n",
       "    <tr>\n",
       "      <th>4</th>\n",
       "      <td>False</td>\n",
       "      <td>False</td>\n",
       "      <td>False</td>\n",
       "      <td>False</td>\n",
       "      <td>True</td>\n",
       "      <td>False</td>\n",
       "    </tr>\n",
       "  </tbody>\n",
       "</table>\n",
       "</div>"
      ]
     },
     "execution_count": 72,
     "metadata": {},
     "output_type": "execute_result"
    }
   ],
   "execution_count": 72
  },
  {
   "cell_type": "code",
   "metadata": {
    "execution": {
     "iopub.execute_input": "2020-10-24T19:00:55.486408Z",
     "iopub.status.busy": "2020-10-24T19:00:55.485551Z",
     "iopub.status.idle": "2020-10-24T19:00:55.494394Z",
     "shell.execute_reply": "2020-10-24T19:00:55.493645Z"
    },
    "papermill": {
     "duration": 0.043451,
     "end_time": "2020-10-24T19:00:55.494578",
     "exception": false,
     "start_time": "2020-10-24T19:00:55.451127",
     "status": "completed"
    },
    "tags": [],
    "ExecuteTime": {
     "end_time": "2025-03-01T09:42:10.608684Z",
     "start_time": "2025-03-01T09:42:10.594312Z"
    }
   },
   "source": [
    "from sklearn.model_selection import train_test_split\n",
    "X_train,X_valid,y_train,y_valid=train_test_split(pca_new,y_train,test_size=0.3,random_state=42)"
   ],
   "outputs": [],
   "execution_count": 73
  },
  {
   "cell_type": "code",
   "metadata": {
    "execution": {
     "iopub.execute_input": "2020-10-24T19:00:55.554951Z",
     "iopub.status.busy": "2020-10-24T19:00:55.554074Z",
     "iopub.status.idle": "2020-10-24T19:00:55.560694Z",
     "shell.execute_reply": "2020-10-24T19:00:55.559898Z"
    },
    "papermill": {
     "duration": 0.040762,
     "end_time": "2020-10-24T19:00:55.560833",
     "exception": false,
     "start_time": "2020-10-24T19:00:55.520071",
     "status": "completed"
    },
    "tags": [],
    "ExecuteTime": {
     "end_time": "2025-03-01T09:42:11.372945Z",
     "start_time": "2025-03-01T09:42:11.362636Z"
    }
   },
   "source": [
    "X_train = X_train.values.reshape(5146, 50, 1)\n",
    "X_valid = X_valid.values.reshape(2206, 50, 1)\n",
    "test_pca_new = test_pca_new.values.reshape(2947, 50, 1)\n",
    "print(X_train.shape)\n",
    "print(y_train.shape)"
   ],
   "outputs": [
    {
     "name": "stdout",
     "output_type": "stream",
     "text": [
      "(5146, 50, 1)\n",
      "(5146, 6)\n"
     ]
    }
   ],
   "execution_count": 74
  },
  {
   "cell_type": "markdown",
   "metadata": {
    "papermill": {
     "duration": 0.025626,
     "end_time": "2020-10-24T19:00:55.612193",
     "exception": false,
     "start_time": "2020-10-24T19:00:55.586567",
     "status": "completed"
    },
    "tags": []
   },
   "source": [
    "loss:nan이 나올때 참고: https://datascience.stackexchange.com/questions/68331/keras-sequential-model-returns-loss-nan"
   ]
  },
  {
   "cell_type": "code",
   "metadata": {
    "execution": {
     "iopub.execute_input": "2020-10-24T19:00:55.679296Z",
     "iopub.status.busy": "2020-10-24T19:00:55.678399Z",
     "iopub.status.idle": "2020-10-24T19:01:03.164821Z",
     "shell.execute_reply": "2020-10-24T19:01:03.163570Z"
    },
    "papermill": {
     "duration": 7.527053,
     "end_time": "2020-10-24T19:01:03.165031",
     "exception": false,
     "start_time": "2020-10-24T19:00:55.637978",
     "status": "completed"
    },
    "tags": [],
    "ExecuteTime": {
     "end_time": "2025-03-01T09:42:13.645965Z",
     "start_time": "2025-03-01T09:42:13.499437Z"
    }
   },
   "source": [
    "from keras.layers import LSTM\n",
    "from keras.models import Sequential\n",
    "from keras.layers import Dense, Dropout\n",
    "from keras import optimizers\n",
    "from keras.callbacks import EarlyStopping\n",
    "from keras.regularizers import l2\n",
    "from keras import initializers\n",
    "\n",
    "model = Sequential()\n",
    "model.add(LSTM(64, recurrent_regularizer=l2(0.8), \n",
    "                bias_initializer='zeros',\n",
    "               input_shape=(50, 1), return_sequences=True))\n",
    "model.add(Dropout(0.5))\n",
    "model.add(LSTM(32,input_shape=(50, 1), return_sequences=True))\n",
    "\n",
    "model.add(LSTM(28,input_shape=(50, 1), recurrent_regularizer=l2(0.5), return_sequences=True))\n",
    "model.add(Dropout(0.5))\n",
    "\n",
    "model.add(LSTM(25,input_shape=(50, 1)))\n",
    "model.add(Dense(6, activation='softmax')) # output = 6\n",
    "\n",
    "adamax = optimizers.Adamax(learning_rate=0.001, clipnorm=1.0)\n",
    "model.compile(loss='categorical_crossentropy', optimizer=adamax, metrics=['accuracy'])\n",
    "model.summary()"
   ],
   "outputs": [
    {
     "name": "stderr",
     "output_type": "stream",
     "text": [
      "/Users/roshank/PycharmProjects/IITGNSelectionTask-1/.venv/lib/python3.10/site-packages/keras/src/layers/rnn/rnn.py:200: UserWarning: Do not pass an `input_shape`/`input_dim` argument to a layer. When using Sequential models, prefer using an `Input(shape)` object as the first layer in the model instead.\n",
      "  super().__init__(**kwargs)\n"
     ]
    },
    {
     "data": {
      "text/plain": [
       "\u001B[1mModel: \"sequential_4\"\u001B[0m\n"
      ],
      "text/html": [
       "<pre style=\"white-space:pre;overflow-x:auto;line-height:normal;font-family:Menlo,'DejaVu Sans Mono',consolas,'Courier New',monospace\"><span style=\"font-weight: bold\">Model: \"sequential_4\"</span>\n",
       "</pre>\n"
      ]
     },
     "metadata": {},
     "output_type": "display_data"
    },
    {
     "data": {
      "text/plain": [
       "┏━━━━━━━━━━━━━━━━━━━━━━━━━━━━━━━━━┳━━━━━━━━━━━━━━━━━━━━━━━━┳━━━━━━━━━━━━━━━┓\n",
       "┃\u001B[1m \u001B[0m\u001B[1mLayer (type)                   \u001B[0m\u001B[1m \u001B[0m┃\u001B[1m \u001B[0m\u001B[1mOutput Shape          \u001B[0m\u001B[1m \u001B[0m┃\u001B[1m \u001B[0m\u001B[1m      Param #\u001B[0m\u001B[1m \u001B[0m┃\n",
       "┡━━━━━━━━━━━━━━━━━━━━━━━━━━━━━━━━━╇━━━━━━━━━━━━━━━━━━━━━━━━╇━━━━━━━━━━━━━━━┩\n",
       "│ lstm_16 (\u001B[38;5;33mLSTM\u001B[0m)                  │ (\u001B[38;5;45mNone\u001B[0m, \u001B[38;5;34m50\u001B[0m, \u001B[38;5;34m64\u001B[0m)         │        \u001B[38;5;34m16,896\u001B[0m │\n",
       "├─────────────────────────────────┼────────────────────────┼───────────────┤\n",
       "│ dropout_8 (\u001B[38;5;33mDropout\u001B[0m)             │ (\u001B[38;5;45mNone\u001B[0m, \u001B[38;5;34m50\u001B[0m, \u001B[38;5;34m64\u001B[0m)         │             \u001B[38;5;34m0\u001B[0m │\n",
       "├─────────────────────────────────┼────────────────────────┼───────────────┤\n",
       "│ lstm_17 (\u001B[38;5;33mLSTM\u001B[0m)                  │ (\u001B[38;5;45mNone\u001B[0m, \u001B[38;5;34m50\u001B[0m, \u001B[38;5;34m32\u001B[0m)         │        \u001B[38;5;34m12,416\u001B[0m │\n",
       "├─────────────────────────────────┼────────────────────────┼───────────────┤\n",
       "│ lstm_18 (\u001B[38;5;33mLSTM\u001B[0m)                  │ (\u001B[38;5;45mNone\u001B[0m, \u001B[38;5;34m50\u001B[0m, \u001B[38;5;34m28\u001B[0m)         │         \u001B[38;5;34m6,832\u001B[0m │\n",
       "├─────────────────────────────────┼────────────────────────┼───────────────┤\n",
       "│ dropout_9 (\u001B[38;5;33mDropout\u001B[0m)             │ (\u001B[38;5;45mNone\u001B[0m, \u001B[38;5;34m50\u001B[0m, \u001B[38;5;34m28\u001B[0m)         │             \u001B[38;5;34m0\u001B[0m │\n",
       "├─────────────────────────────────┼────────────────────────┼───────────────┤\n",
       "│ lstm_19 (\u001B[38;5;33mLSTM\u001B[0m)                  │ (\u001B[38;5;45mNone\u001B[0m, \u001B[38;5;34m25\u001B[0m)             │         \u001B[38;5;34m5,400\u001B[0m │\n",
       "├─────────────────────────────────┼────────────────────────┼───────────────┤\n",
       "│ dense_4 (\u001B[38;5;33mDense\u001B[0m)                 │ (\u001B[38;5;45mNone\u001B[0m, \u001B[38;5;34m6\u001B[0m)              │           \u001B[38;5;34m156\u001B[0m │\n",
       "└─────────────────────────────────┴────────────────────────┴───────────────┘\n"
      ],
      "text/html": [
       "<pre style=\"white-space:pre;overflow-x:auto;line-height:normal;font-family:Menlo,'DejaVu Sans Mono',consolas,'Courier New',monospace\">┏━━━━━━━━━━━━━━━━━━━━━━━━━━━━━━━━━┳━━━━━━━━━━━━━━━━━━━━━━━━┳━━━━━━━━━━━━━━━┓\n",
       "┃<span style=\"font-weight: bold\"> Layer (type)                    </span>┃<span style=\"font-weight: bold\"> Output Shape           </span>┃<span style=\"font-weight: bold\">       Param # </span>┃\n",
       "┡━━━━━━━━━━━━━━━━━━━━━━━━━━━━━━━━━╇━━━━━━━━━━━━━━━━━━━━━━━━╇━━━━━━━━━━━━━━━┩\n",
       "│ lstm_16 (<span style=\"color: #0087ff; text-decoration-color: #0087ff\">LSTM</span>)                  │ (<span style=\"color: #00d7ff; text-decoration-color: #00d7ff\">None</span>, <span style=\"color: #00af00; text-decoration-color: #00af00\">50</span>, <span style=\"color: #00af00; text-decoration-color: #00af00\">64</span>)         │        <span style=\"color: #00af00; text-decoration-color: #00af00\">16,896</span> │\n",
       "├─────────────────────────────────┼────────────────────────┼───────────────┤\n",
       "│ dropout_8 (<span style=\"color: #0087ff; text-decoration-color: #0087ff\">Dropout</span>)             │ (<span style=\"color: #00d7ff; text-decoration-color: #00d7ff\">None</span>, <span style=\"color: #00af00; text-decoration-color: #00af00\">50</span>, <span style=\"color: #00af00; text-decoration-color: #00af00\">64</span>)         │             <span style=\"color: #00af00; text-decoration-color: #00af00\">0</span> │\n",
       "├─────────────────────────────────┼────────────────────────┼───────────────┤\n",
       "│ lstm_17 (<span style=\"color: #0087ff; text-decoration-color: #0087ff\">LSTM</span>)                  │ (<span style=\"color: #00d7ff; text-decoration-color: #00d7ff\">None</span>, <span style=\"color: #00af00; text-decoration-color: #00af00\">50</span>, <span style=\"color: #00af00; text-decoration-color: #00af00\">32</span>)         │        <span style=\"color: #00af00; text-decoration-color: #00af00\">12,416</span> │\n",
       "├─────────────────────────────────┼────────────────────────┼───────────────┤\n",
       "│ lstm_18 (<span style=\"color: #0087ff; text-decoration-color: #0087ff\">LSTM</span>)                  │ (<span style=\"color: #00d7ff; text-decoration-color: #00d7ff\">None</span>, <span style=\"color: #00af00; text-decoration-color: #00af00\">50</span>, <span style=\"color: #00af00; text-decoration-color: #00af00\">28</span>)         │         <span style=\"color: #00af00; text-decoration-color: #00af00\">6,832</span> │\n",
       "├─────────────────────────────────┼────────────────────────┼───────────────┤\n",
       "│ dropout_9 (<span style=\"color: #0087ff; text-decoration-color: #0087ff\">Dropout</span>)             │ (<span style=\"color: #00d7ff; text-decoration-color: #00d7ff\">None</span>, <span style=\"color: #00af00; text-decoration-color: #00af00\">50</span>, <span style=\"color: #00af00; text-decoration-color: #00af00\">28</span>)         │             <span style=\"color: #00af00; text-decoration-color: #00af00\">0</span> │\n",
       "├─────────────────────────────────┼────────────────────────┼───────────────┤\n",
       "│ lstm_19 (<span style=\"color: #0087ff; text-decoration-color: #0087ff\">LSTM</span>)                  │ (<span style=\"color: #00d7ff; text-decoration-color: #00d7ff\">None</span>, <span style=\"color: #00af00; text-decoration-color: #00af00\">25</span>)             │         <span style=\"color: #00af00; text-decoration-color: #00af00\">5,400</span> │\n",
       "├─────────────────────────────────┼────────────────────────┼───────────────┤\n",
       "│ dense_4 (<span style=\"color: #0087ff; text-decoration-color: #0087ff\">Dense</span>)                 │ (<span style=\"color: #00d7ff; text-decoration-color: #00d7ff\">None</span>, <span style=\"color: #00af00; text-decoration-color: #00af00\">6</span>)              │           <span style=\"color: #00af00; text-decoration-color: #00af00\">156</span> │\n",
       "└─────────────────────────────────┴────────────────────────┴───────────────┘\n",
       "</pre>\n"
      ]
     },
     "metadata": {},
     "output_type": "display_data"
    },
    {
     "data": {
      "text/plain": [
       "\u001B[1m Total params: \u001B[0m\u001B[38;5;34m41,700\u001B[0m (162.89 KB)\n"
      ],
      "text/html": [
       "<pre style=\"white-space:pre;overflow-x:auto;line-height:normal;font-family:Menlo,'DejaVu Sans Mono',consolas,'Courier New',monospace\"><span style=\"font-weight: bold\"> Total params: </span><span style=\"color: #00af00; text-decoration-color: #00af00\">41,700</span> (162.89 KB)\n",
       "</pre>\n"
      ]
     },
     "metadata": {},
     "output_type": "display_data"
    },
    {
     "data": {
      "text/plain": [
       "\u001B[1m Trainable params: \u001B[0m\u001B[38;5;34m41,700\u001B[0m (162.89 KB)\n"
      ],
      "text/html": [
       "<pre style=\"white-space:pre;overflow-x:auto;line-height:normal;font-family:Menlo,'DejaVu Sans Mono',consolas,'Courier New',monospace\"><span style=\"font-weight: bold\"> Trainable params: </span><span style=\"color: #00af00; text-decoration-color: #00af00\">41,700</span> (162.89 KB)\n",
       "</pre>\n"
      ]
     },
     "metadata": {},
     "output_type": "display_data"
    },
    {
     "data": {
      "text/plain": [
       "\u001B[1m Non-trainable params: \u001B[0m\u001B[38;5;34m0\u001B[0m (0.00 B)\n"
      ],
      "text/html": [
       "<pre style=\"white-space:pre;overflow-x:auto;line-height:normal;font-family:Menlo,'DejaVu Sans Mono',consolas,'Courier New',monospace\"><span style=\"font-weight: bold\"> Non-trainable params: </span><span style=\"color: #00af00; text-decoration-color: #00af00\">0</span> (0.00 B)\n",
       "</pre>\n"
      ]
     },
     "metadata": {},
     "output_type": "display_data"
    }
   ],
   "execution_count": 75
  },
  {
   "cell_type": "code",
   "metadata": {
    "execution": {
     "iopub.execute_input": "2020-10-24T19:01:03.238086Z",
     "iopub.status.busy": "2020-10-24T19:01:03.236848Z",
     "iopub.status.idle": "2020-10-24T19:03:40.618806Z",
     "shell.execute_reply": "2020-10-24T19:03:40.619409Z"
    },
    "papermill": {
     "duration": 157.419156,
     "end_time": "2020-10-24T19:03:40.619650",
     "exception": false,
     "start_time": "2020-10-24T19:01:03.200494",
     "status": "completed"
    },
    "tags": [],
    "ExecuteTime": {
     "end_time": "2025-03-01T09:44:27.831374Z",
     "start_time": "2025-03-01T09:42:14.780180Z"
    }
   },
   "source": [
    "import matplotlib.pyplot as plt\n",
    "\n",
    "history = model.fit(X_train, y_train, epochs=100,\n",
    "                    validation_data=(X_valid, y_valid),\n",
    "                    batch_size=128, verbose=1)\n",
    "\n",
    "plt.figure(figsize=(10, 6))\n",
    "plt.plot(history.history['accuracy'], label='Training Accuracy')\n",
    "plt.plot(history.history['val_accuracy'], label='Validation Accuracy')\n",
    "plt.title('Model Accuracy vs Epochs')\n",
    "plt.xlabel('Epoch')\n",
    "plt.ylabel('Accuracy')\n",
    "plt.legend()\n",
    "plt.grid(True)\n",
    "plt.show()"
   ],
   "outputs": [
    {
     "name": "stdout",
     "output_type": "stream",
     "text": [
      "Epoch 1/100\n",
      "\u001B[1m41/41\u001B[0m \u001B[32m━━━━━━━━━━━━━━━━━━━━\u001B[0m\u001B[37m\u001B[0m \u001B[1m3s\u001B[0m 42ms/step - accuracy: 0.3764 - loss: 53.8668 - val_accuracy: 0.4383 - val_loss: 24.7265\n",
      "Epoch 2/100\n",
      "\u001B[1m41/41\u001B[0m \u001B[32m━━━━━━━━━━━━━━━━━━━━\u001B[0m\u001B[37m\u001B[0m \u001B[1m1s\u001B[0m 32ms/step - accuracy: 0.5265 - loss: 19.4374 - val_accuracy: 0.6142 - val_loss: 8.1938\n",
      "Epoch 3/100\n",
      "\u001B[1m41/41\u001B[0m \u001B[32m━━━━━━━━━━━━━━━━━━━━\u001B[0m\u001B[37m\u001B[0m \u001B[1m1s\u001B[0m 32ms/step - accuracy: 0.6407 - loss: 6.3900 - val_accuracy: 0.6546 - val_loss: 2.7654\n",
      "Epoch 4/100\n",
      "\u001B[1m41/41\u001B[0m \u001B[32m━━━━━━━━━━━━━━━━━━━━\u001B[0m\u001B[37m\u001B[0m \u001B[1m1s\u001B[0m 30ms/step - accuracy: 0.6760 - loss: 2.2589 - val_accuracy: 0.7085 - val_loss: 1.2198\n",
      "Epoch 5/100\n",
      "\u001B[1m41/41\u001B[0m \u001B[32m━━━━━━━━━━━━━━━━━━━━\u001B[0m\u001B[37m\u001B[0m \u001B[1m1s\u001B[0m 32ms/step - accuracy: 0.7012 - loss: 1.1125 - val_accuracy: 0.7153 - val_loss: 0.8404\n",
      "Epoch 6/100\n",
      "\u001B[1m41/41\u001B[0m \u001B[32m━━━━━━━━━━━━━━━━━━━━\u001B[0m\u001B[37m\u001B[0m \u001B[1m1s\u001B[0m 32ms/step - accuracy: 0.7139 - loss: 0.8310 - val_accuracy: 0.7189 - val_loss: 0.7210\n",
      "Epoch 7/100\n",
      "\u001B[1m41/41\u001B[0m \u001B[32m━━━━━━━━━━━━━━━━━━━━\u001B[0m\u001B[37m\u001B[0m \u001B[1m1s\u001B[0m 33ms/step - accuracy: 0.7218 - loss: 0.7125 - val_accuracy: 0.7425 - val_loss: 0.6612\n",
      "Epoch 8/100\n",
      "\u001B[1m41/41\u001B[0m \u001B[32m━━━━━━━━━━━━━━━━━━━━\u001B[0m\u001B[37m\u001B[0m \u001B[1m1s\u001B[0m 29ms/step - accuracy: 0.7332 - loss: 0.6666 - val_accuracy: 0.7384 - val_loss: 0.6353\n",
      "Epoch 9/100\n",
      "\u001B[1m41/41\u001B[0m \u001B[32m━━━━━━━━━━━━━━━━━━━━\u001B[0m\u001B[37m\u001B[0m \u001B[1m1s\u001B[0m 31ms/step - accuracy: 0.7209 - loss: 0.6546 - val_accuracy: 0.7457 - val_loss: 0.6145\n",
      "Epoch 10/100\n",
      "\u001B[1m41/41\u001B[0m \u001B[32m━━━━━━━━━━━━━━━━━━━━\u001B[0m\u001B[37m\u001B[0m \u001B[1m1s\u001B[0m 30ms/step - accuracy: 0.7250 - loss: 0.6441 - val_accuracy: 0.7575 - val_loss: 0.5985\n",
      "Epoch 11/100\n",
      "\u001B[1m41/41\u001B[0m \u001B[32m━━━━━━━━━━━━━━━━━━━━\u001B[0m\u001B[37m\u001B[0m \u001B[1m1s\u001B[0m 32ms/step - accuracy: 0.7467 - loss: 0.6208 - val_accuracy: 0.7529 - val_loss: 0.5901\n",
      "Epoch 12/100\n",
      "\u001B[1m41/41\u001B[0m \u001B[32m━━━━━━━━━━━━━━━━━━━━\u001B[0m\u001B[37m\u001B[0m \u001B[1m1s\u001B[0m 30ms/step - accuracy: 0.7415 - loss: 0.6078 - val_accuracy: 0.7588 - val_loss: 0.5808\n",
      "Epoch 13/100\n",
      "\u001B[1m41/41\u001B[0m \u001B[32m━━━━━━━━━━━━━━━━━━━━\u001B[0m\u001B[37m\u001B[0m \u001B[1m1s\u001B[0m 30ms/step - accuracy: 0.7426 - loss: 0.5927 - val_accuracy: 0.7597 - val_loss: 0.5721\n",
      "Epoch 14/100\n",
      "\u001B[1m41/41\u001B[0m \u001B[32m━━━━━━━━━━━━━━━━━━━━\u001B[0m\u001B[37m\u001B[0m \u001B[1m1s\u001B[0m 30ms/step - accuracy: 0.7352 - loss: 0.6120 - val_accuracy: 0.7471 - val_loss: 0.5939\n",
      "Epoch 15/100\n",
      "\u001B[1m41/41\u001B[0m \u001B[32m━━━━━━━━━━━━━━━━━━━━\u001B[0m\u001B[37m\u001B[0m \u001B[1m1s\u001B[0m 32ms/step - accuracy: 0.7433 - loss: 0.6040 - val_accuracy: 0.7647 - val_loss: 0.5687\n",
      "Epoch 16/100\n",
      "\u001B[1m41/41\u001B[0m \u001B[32m━━━━━━━━━━━━━━━━━━━━\u001B[0m\u001B[37m\u001B[0m \u001B[1m1s\u001B[0m 36ms/step - accuracy: 0.7456 - loss: 0.5958 - val_accuracy: 0.7625 - val_loss: 0.5619\n",
      "Epoch 17/100\n",
      "\u001B[1m41/41\u001B[0m \u001B[32m━━━━━━━━━━━━━━━━━━━━\u001B[0m\u001B[37m\u001B[0m \u001B[1m1s\u001B[0m 30ms/step - accuracy: 0.7503 - loss: 0.5789 - val_accuracy: 0.7634 - val_loss: 0.5610\n",
      "Epoch 18/100\n",
      "\u001B[1m41/41\u001B[0m \u001B[32m━━━━━━━━━━━━━━━━━━━━\u001B[0m\u001B[37m\u001B[0m \u001B[1m2s\u001B[0m 55ms/step - accuracy: 0.7542 - loss: 0.5702 - val_accuracy: 0.7652 - val_loss: 0.5533\n",
      "Epoch 19/100\n",
      "\u001B[1m41/41\u001B[0m \u001B[32m━━━━━━━━━━━━━━━━━━━━\u001B[0m\u001B[37m\u001B[0m \u001B[1m1s\u001B[0m 34ms/step - accuracy: 0.7589 - loss: 0.5753 - val_accuracy: 0.7675 - val_loss: 0.5478\n",
      "Epoch 20/100\n",
      "\u001B[1m41/41\u001B[0m \u001B[32m━━━━━━━━━━━━━━━━━━━━\u001B[0m\u001B[37m\u001B[0m \u001B[1m1s\u001B[0m 33ms/step - accuracy: 0.7571 - loss: 0.5609 - val_accuracy: 0.7661 - val_loss: 0.5429\n",
      "Epoch 21/100\n",
      "\u001B[1m41/41\u001B[0m \u001B[32m━━━━━━━━━━━━━━━━━━━━\u001B[0m\u001B[37m\u001B[0m \u001B[1m1s\u001B[0m 32ms/step - accuracy: 0.7603 - loss: 0.5465 - val_accuracy: 0.7652 - val_loss: 0.5432\n",
      "Epoch 22/100\n",
      "\u001B[1m41/41\u001B[0m \u001B[32m━━━━━━━━━━━━━━━━━━━━\u001B[0m\u001B[37m\u001B[0m \u001B[1m1s\u001B[0m 32ms/step - accuracy: 0.7700 - loss: 0.5433 - val_accuracy: 0.7693 - val_loss: 0.5377\n",
      "Epoch 23/100\n",
      "\u001B[1m41/41\u001B[0m \u001B[32m━━━━━━━━━━━━━━━━━━━━\u001B[0m\u001B[37m\u001B[0m \u001B[1m1s\u001B[0m 31ms/step - accuracy: 0.7661 - loss: 0.5359 - val_accuracy: 0.7792 - val_loss: 0.5323\n",
      "Epoch 24/100\n",
      "\u001B[1m41/41\u001B[0m \u001B[32m━━━━━━━━━━━━━━━━━━━━\u001B[0m\u001B[37m\u001B[0m \u001B[1m1s\u001B[0m 31ms/step - accuracy: 0.7623 - loss: 0.5429 - val_accuracy: 0.7638 - val_loss: 0.5472\n",
      "Epoch 25/100\n",
      "\u001B[1m41/41\u001B[0m \u001B[32m━━━━━━━━━━━━━━━━━━━━\u001B[0m\u001B[37m\u001B[0m \u001B[1m1s\u001B[0m 31ms/step - accuracy: 0.7674 - loss: 0.5388 - val_accuracy: 0.7711 - val_loss: 0.5280\n",
      "Epoch 26/100\n",
      "\u001B[1m41/41\u001B[0m \u001B[32m━━━━━━━━━━━━━━━━━━━━\u001B[0m\u001B[37m\u001B[0m \u001B[1m1s\u001B[0m 31ms/step - accuracy: 0.7678 - loss: 0.5350 - val_accuracy: 0.7788 - val_loss: 0.5156\n",
      "Epoch 27/100\n",
      "\u001B[1m41/41\u001B[0m \u001B[32m━━━━━━━━━━━━━━━━━━━━\u001B[0m\u001B[37m\u001B[0m \u001B[1m1s\u001B[0m 32ms/step - accuracy: 0.7766 - loss: 0.5270 - val_accuracy: 0.7869 - val_loss: 0.5137\n",
      "Epoch 28/100\n",
      "\u001B[1m41/41\u001B[0m \u001B[32m━━━━━━━━━━━━━━━━━━━━\u001B[0m\u001B[37m\u001B[0m \u001B[1m1s\u001B[0m 32ms/step - accuracy: 0.7844 - loss: 0.5077 - val_accuracy: 0.7883 - val_loss: 0.5089\n",
      "Epoch 29/100\n",
      "\u001B[1m41/41\u001B[0m \u001B[32m━━━━━━━━━━━━━━━━━━━━\u001B[0m\u001B[37m\u001B[0m \u001B[1m1s\u001B[0m 30ms/step - accuracy: 0.7748 - loss: 0.5322 - val_accuracy: 0.7901 - val_loss: 0.4993\n",
      "Epoch 30/100\n",
      "\u001B[1m41/41\u001B[0m \u001B[32m━━━━━━━━━━━━━━━━━━━━\u001B[0m\u001B[37m\u001B[0m \u001B[1m1s\u001B[0m 34ms/step - accuracy: 0.7723 - loss: 0.5307 - val_accuracy: 0.7901 - val_loss: 0.5053\n",
      "Epoch 31/100\n",
      "\u001B[1m41/41\u001B[0m \u001B[32m━━━━━━━━━━━━━━━━━━━━\u001B[0m\u001B[37m\u001B[0m \u001B[1m1s\u001B[0m 30ms/step - accuracy: 0.7847 - loss: 0.5105 - val_accuracy: 0.7915 - val_loss: 0.4958\n",
      "Epoch 32/100\n",
      "\u001B[1m41/41\u001B[0m \u001B[32m━━━━━━━━━━━━━━━━━━━━\u001B[0m\u001B[37m\u001B[0m \u001B[1m1s\u001B[0m 30ms/step - accuracy: 0.7844 - loss: 0.5039 - val_accuracy: 0.7951 - val_loss: 0.4931\n",
      "Epoch 33/100\n",
      "\u001B[1m41/41\u001B[0m \u001B[32m━━━━━━━━━━━━━━━━━━━━\u001B[0m\u001B[37m\u001B[0m \u001B[1m1s\u001B[0m 31ms/step - accuracy: 0.7708 - loss: 0.5192 - val_accuracy: 0.7915 - val_loss: 0.5000\n",
      "Epoch 34/100\n",
      "\u001B[1m41/41\u001B[0m \u001B[32m━━━━━━━━━━━━━━━━━━━━\u001B[0m\u001B[37m\u001B[0m \u001B[1m1s\u001B[0m 30ms/step - accuracy: 0.7800 - loss: 0.5069 - val_accuracy: 0.7842 - val_loss: 0.4979\n",
      "Epoch 35/100\n",
      "\u001B[1m41/41\u001B[0m \u001B[32m━━━━━━━━━━━━━━━━━━━━\u001B[0m\u001B[37m\u001B[0m \u001B[1m1s\u001B[0m 31ms/step - accuracy: 0.7724 - loss: 0.5192 - val_accuracy: 0.7933 - val_loss: 0.4941\n",
      "Epoch 36/100\n",
      "\u001B[1m41/41\u001B[0m \u001B[32m━━━━━━━━━━━━━━━━━━━━\u001B[0m\u001B[37m\u001B[0m \u001B[1m1s\u001B[0m 34ms/step - accuracy: 0.7857 - loss: 0.4986 - val_accuracy: 0.8033 - val_loss: 0.4795\n",
      "Epoch 37/100\n",
      "\u001B[1m41/41\u001B[0m \u001B[32m━━━━━━━━━━━━━━━━━━━━\u001B[0m\u001B[37m\u001B[0m \u001B[1m1s\u001B[0m 30ms/step - accuracy: 0.7763 - loss: 0.5198 - val_accuracy: 0.7928 - val_loss: 0.4970\n",
      "Epoch 38/100\n",
      "\u001B[1m41/41\u001B[0m \u001B[32m━━━━━━━━━━━━━━━━━━━━\u001B[0m\u001B[37m\u001B[0m \u001B[1m1s\u001B[0m 31ms/step - accuracy: 0.7740 - loss: 0.5297 - val_accuracy: 0.7937 - val_loss: 0.5009\n",
      "Epoch 39/100\n",
      "\u001B[1m41/41\u001B[0m \u001B[32m━━━━━━━━━━━━━━━━━━━━\u001B[0m\u001B[37m\u001B[0m \u001B[1m1s\u001B[0m 30ms/step - accuracy: 0.7932 - loss: 0.4960 - val_accuracy: 0.7924 - val_loss: 0.4869\n",
      "Epoch 40/100\n",
      "\u001B[1m41/41\u001B[0m \u001B[32m━━━━━━━━━━━━━━━━━━━━\u001B[0m\u001B[37m\u001B[0m \u001B[1m1s\u001B[0m 30ms/step - accuracy: 0.7861 - loss: 0.5000 - val_accuracy: 0.8055 - val_loss: 0.4784\n",
      "Epoch 41/100\n",
      "\u001B[1m41/41\u001B[0m \u001B[32m━━━━━━━━━━━━━━━━━━━━\u001B[0m\u001B[37m\u001B[0m \u001B[1m1s\u001B[0m 31ms/step - accuracy: 0.7902 - loss: 0.5025 - val_accuracy: 0.7860 - val_loss: 0.4888\n",
      "Epoch 42/100\n",
      "\u001B[1m41/41\u001B[0m \u001B[32m━━━━━━━━━━━━━━━━━━━━\u001B[0m\u001B[37m\u001B[0m \u001B[1m1s\u001B[0m 32ms/step - accuracy: 0.7945 - loss: 0.4862 - val_accuracy: 0.7987 - val_loss: 0.4842\n",
      "Epoch 43/100\n",
      "\u001B[1m41/41\u001B[0m \u001B[32m━━━━━━━━━━━━━━━━━━━━\u001B[0m\u001B[37m\u001B[0m \u001B[1m1s\u001B[0m 30ms/step - accuracy: 0.7892 - loss: 0.5008 - val_accuracy: 0.7942 - val_loss: 0.4859\n",
      "Epoch 44/100\n",
      "\u001B[1m41/41\u001B[0m \u001B[32m━━━━━━━━━━━━━━━━━━━━\u001B[0m\u001B[37m\u001B[0m \u001B[1m1s\u001B[0m 30ms/step - accuracy: 0.7888 - loss: 0.4982 - val_accuracy: 0.8092 - val_loss: 0.4688\n",
      "Epoch 45/100\n",
      "\u001B[1m41/41\u001B[0m \u001B[32m━━━━━━━━━━━━━━━━━━━━\u001B[0m\u001B[37m\u001B[0m \u001B[1m1s\u001B[0m 30ms/step - accuracy: 0.7982 - loss: 0.4858 - val_accuracy: 0.8069 - val_loss: 0.4690\n",
      "Epoch 46/100\n",
      "\u001B[1m41/41\u001B[0m \u001B[32m━━━━━━━━━━━━━━━━━━━━\u001B[0m\u001B[37m\u001B[0m \u001B[1m1s\u001B[0m 32ms/step - accuracy: 0.7972 - loss: 0.4879 - val_accuracy: 0.8087 - val_loss: 0.4661\n",
      "Epoch 47/100\n",
      "\u001B[1m41/41\u001B[0m \u001B[32m━━━━━━━━━━━━━━━━━━━━\u001B[0m\u001B[37m\u001B[0m \u001B[1m1s\u001B[0m 30ms/step - accuracy: 0.7828 - loss: 0.5026 - val_accuracy: 0.8064 - val_loss: 0.4701\n",
      "Epoch 48/100\n",
      "\u001B[1m41/41\u001B[0m \u001B[32m━━━━━━━━━━━━━━━━━━━━\u001B[0m\u001B[37m\u001B[0m \u001B[1m1s\u001B[0m 30ms/step - accuracy: 0.7983 - loss: 0.4732 - val_accuracy: 0.8078 - val_loss: 0.4675\n",
      "Epoch 49/100\n",
      "\u001B[1m41/41\u001B[0m \u001B[32m━━━━━━━━━━━━━━━━━━━━\u001B[0m\u001B[37m\u001B[0m \u001B[1m1s\u001B[0m 32ms/step - accuracy: 0.7917 - loss: 0.4860 - val_accuracy: 0.7978 - val_loss: 0.4772\n",
      "Epoch 50/100\n",
      "\u001B[1m41/41\u001B[0m \u001B[32m━━━━━━━━━━━━━━━━━━━━\u001B[0m\u001B[37m\u001B[0m \u001B[1m1s\u001B[0m 30ms/step - accuracy: 0.7902 - loss: 0.4994 - val_accuracy: 0.8078 - val_loss: 0.4645\n",
      "Epoch 51/100\n",
      "\u001B[1m41/41\u001B[0m \u001B[32m━━━━━━━━━━━━━━━━━━━━\u001B[0m\u001B[37m\u001B[0m \u001B[1m1s\u001B[0m 31ms/step - accuracy: 0.8070 - loss: 0.4735 - val_accuracy: 0.8114 - val_loss: 0.4624\n",
      "Epoch 52/100\n",
      "\u001B[1m41/41\u001B[0m \u001B[32m━━━━━━━━━━━━━━━━━━━━\u001B[0m\u001B[37m\u001B[0m \u001B[1m1s\u001B[0m 31ms/step - accuracy: 0.7988 - loss: 0.4870 - val_accuracy: 0.8015 - val_loss: 0.4757\n",
      "Epoch 53/100\n",
      "\u001B[1m41/41\u001B[0m \u001B[32m━━━━━━━━━━━━━━━━━━━━\u001B[0m\u001B[37m\u001B[0m \u001B[1m1s\u001B[0m 34ms/step - accuracy: 0.7969 - loss: 0.4793 - val_accuracy: 0.7992 - val_loss: 0.4738\n",
      "Epoch 54/100\n",
      "\u001B[1m41/41\u001B[0m \u001B[32m━━━━━━━━━━━━━━━━━━━━\u001B[0m\u001B[37m\u001B[0m \u001B[1m1s\u001B[0m 30ms/step - accuracy: 0.7989 - loss: 0.4749 - val_accuracy: 0.8119 - val_loss: 0.4614\n",
      "Epoch 55/100\n",
      "\u001B[1m41/41\u001B[0m \u001B[32m━━━━━━━━━━━━━━━━━━━━\u001B[0m\u001B[37m\u001B[0m \u001B[1m1s\u001B[0m 31ms/step - accuracy: 0.7936 - loss: 0.4923 - val_accuracy: 0.7928 - val_loss: 0.4882\n",
      "Epoch 56/100\n",
      "\u001B[1m41/41\u001B[0m \u001B[32m━━━━━━━━━━━━━━━━━━━━\u001B[0m\u001B[37m\u001B[0m \u001B[1m1s\u001B[0m 33ms/step - accuracy: 0.7964 - loss: 0.4806 - val_accuracy: 0.8055 - val_loss: 0.4618\n",
      "Epoch 57/100\n",
      "\u001B[1m41/41\u001B[0m \u001B[32m━━━━━━━━━━━━━━━━━━━━\u001B[0m\u001B[37m\u001B[0m \u001B[1m1s\u001B[0m 31ms/step - accuracy: 0.8030 - loss: 0.4652 - val_accuracy: 0.8101 - val_loss: 0.4610\n",
      "Epoch 58/100\n",
      "\u001B[1m41/41\u001B[0m \u001B[32m━━━━━━━━━━━━━━━━━━━━\u001B[0m\u001B[37m\u001B[0m \u001B[1m1s\u001B[0m 30ms/step - accuracy: 0.8047 - loss: 0.4778 - val_accuracy: 0.8051 - val_loss: 0.4700\n",
      "Epoch 59/100\n",
      "\u001B[1m41/41\u001B[0m \u001B[32m━━━━━━━━━━━━━━━━━━━━\u001B[0m\u001B[37m\u001B[0m \u001B[1m1s\u001B[0m 32ms/step - accuracy: 0.8031 - loss: 0.4799 - val_accuracy: 0.8060 - val_loss: 0.4568\n",
      "Epoch 60/100\n",
      "\u001B[1m41/41\u001B[0m \u001B[32m━━━━━━━━━━━━━━━━━━━━\u001B[0m\u001B[37m\u001B[0m \u001B[1m1s\u001B[0m 31ms/step - accuracy: 0.7899 - loss: 0.4880 - val_accuracy: 0.8123 - val_loss: 0.4577\n",
      "Epoch 61/100\n",
      "\u001B[1m41/41\u001B[0m \u001B[32m━━━━━━━━━━━━━━━━━━━━\u001B[0m\u001B[37m\u001B[0m \u001B[1m1s\u001B[0m 30ms/step - accuracy: 0.8159 - loss: 0.4515 - val_accuracy: 0.8033 - val_loss: 0.4603\n",
      "Epoch 62/100\n",
      "\u001B[1m41/41\u001B[0m \u001B[32m━━━━━━━━━━━━━━━━━━━━\u001B[0m\u001B[37m\u001B[0m \u001B[1m1s\u001B[0m 31ms/step - accuracy: 0.8130 - loss: 0.4597 - val_accuracy: 0.8028 - val_loss: 0.4726\n",
      "Epoch 63/100\n",
      "\u001B[1m41/41\u001B[0m \u001B[32m━━━━━━━━━━━━━━━━━━━━\u001B[0m\u001B[37m\u001B[0m \u001B[1m1s\u001B[0m 31ms/step - accuracy: 0.8026 - loss: 0.4692 - val_accuracy: 0.8164 - val_loss: 0.4498\n",
      "Epoch 64/100\n",
      "\u001B[1m41/41\u001B[0m \u001B[32m━━━━━━━━━━━━━━━━━━━━\u001B[0m\u001B[37m\u001B[0m \u001B[1m1s\u001B[0m 31ms/step - accuracy: 0.8099 - loss: 0.4738 - val_accuracy: 0.8132 - val_loss: 0.4492\n",
      "Epoch 65/100\n",
      "\u001B[1m41/41\u001B[0m \u001B[32m━━━━━━━━━━━━━━━━━━━━\u001B[0m\u001B[37m\u001B[0m \u001B[1m1s\u001B[0m 34ms/step - accuracy: 0.8059 - loss: 0.4660 - val_accuracy: 0.8114 - val_loss: 0.4492\n",
      "Epoch 66/100\n",
      "\u001B[1m41/41\u001B[0m \u001B[32m━━━━━━━━━━━━━━━━━━━━\u001B[0m\u001B[37m\u001B[0m \u001B[1m1s\u001B[0m 32ms/step - accuracy: 0.8109 - loss: 0.4659 - val_accuracy: 0.8105 - val_loss: 0.4549\n",
      "Epoch 67/100\n",
      "\u001B[1m41/41\u001B[0m \u001B[32m━━━━━━━━━━━━━━━━━━━━\u001B[0m\u001B[37m\u001B[0m \u001B[1m1s\u001B[0m 31ms/step - accuracy: 0.8012 - loss: 0.4658 - val_accuracy: 0.8096 - val_loss: 0.4584\n",
      "Epoch 68/100\n",
      "\u001B[1m41/41\u001B[0m \u001B[32m━━━━━━━━━━━━━━━━━━━━\u001B[0m\u001B[37m\u001B[0m \u001B[1m1s\u001B[0m 31ms/step - accuracy: 0.7969 - loss: 0.4694 - val_accuracy: 0.8182 - val_loss: 0.4445\n",
      "Epoch 69/100\n",
      "\u001B[1m41/41\u001B[0m \u001B[32m━━━━━━━━━━━━━━━━━━━━\u001B[0m\u001B[37m\u001B[0m \u001B[1m1s\u001B[0m 30ms/step - accuracy: 0.8137 - loss: 0.4593 - val_accuracy: 0.8137 - val_loss: 0.4526\n",
      "Epoch 70/100\n",
      "\u001B[1m41/41\u001B[0m \u001B[32m━━━━━━━━━━━━━━━━━━━━\u001B[0m\u001B[37m\u001B[0m \u001B[1m1s\u001B[0m 31ms/step - accuracy: 0.8160 - loss: 0.4514 - val_accuracy: 0.8105 - val_loss: 0.4550\n",
      "Epoch 71/100\n",
      "\u001B[1m41/41\u001B[0m \u001B[32m━━━━━━━━━━━━━━━━━━━━\u001B[0m\u001B[37m\u001B[0m \u001B[1m1s\u001B[0m 31ms/step - accuracy: 0.7995 - loss: 0.4694 - val_accuracy: 0.8132 - val_loss: 0.4412\n",
      "Epoch 72/100\n",
      "\u001B[1m41/41\u001B[0m \u001B[32m━━━━━━━━━━━━━━━━━━━━\u001B[0m\u001B[37m\u001B[0m \u001B[1m1s\u001B[0m 33ms/step - accuracy: 0.8062 - loss: 0.4601 - val_accuracy: 0.8205 - val_loss: 0.4405\n",
      "Epoch 73/100\n",
      "\u001B[1m41/41\u001B[0m \u001B[32m━━━━━━━━━━━━━━━━━━━━\u001B[0m\u001B[37m\u001B[0m \u001B[1m1s\u001B[0m 32ms/step - accuracy: 0.8095 - loss: 0.4546 - val_accuracy: 0.8178 - val_loss: 0.4385\n",
      "Epoch 74/100\n",
      "\u001B[1m41/41\u001B[0m \u001B[32m━━━━━━━━━━━━━━━━━━━━\u001B[0m\u001B[37m\u001B[0m \u001B[1m1s\u001B[0m 32ms/step - accuracy: 0.8131 - loss: 0.4501 - val_accuracy: 0.8110 - val_loss: 0.4515\n",
      "Epoch 75/100\n",
      "\u001B[1m41/41\u001B[0m \u001B[32m━━━━━━━━━━━━━━━━━━━━\u001B[0m\u001B[37m\u001B[0m \u001B[1m1s\u001B[0m 33ms/step - accuracy: 0.8021 - loss: 0.4647 - val_accuracy: 0.8187 - val_loss: 0.4378\n",
      "Epoch 76/100\n",
      "\u001B[1m41/41\u001B[0m \u001B[32m━━━━━━━━━━━━━━━━━━━━\u001B[0m\u001B[37m\u001B[0m \u001B[1m1s\u001B[0m 30ms/step - accuracy: 0.8184 - loss: 0.4406 - val_accuracy: 0.8169 - val_loss: 0.4351\n",
      "Epoch 77/100\n",
      "\u001B[1m41/41\u001B[0m \u001B[32m━━━━━━━━━━━━━━━━━━━━\u001B[0m\u001B[37m\u001B[0m \u001B[1m1s\u001B[0m 31ms/step - accuracy: 0.8096 - loss: 0.4544 - val_accuracy: 0.8209 - val_loss: 0.4357\n",
      "Epoch 78/100\n",
      "\u001B[1m41/41\u001B[0m \u001B[32m━━━━━━━━━━━━━━━━━━━━\u001B[0m\u001B[37m\u001B[0m \u001B[1m1s\u001B[0m 29ms/step - accuracy: 0.8222 - loss: 0.4366 - val_accuracy: 0.8182 - val_loss: 0.4341\n",
      "Epoch 79/100\n",
      "\u001B[1m41/41\u001B[0m \u001B[32m━━━━━━━━━━━━━━━━━━━━\u001B[0m\u001B[37m\u001B[0m \u001B[1m2s\u001B[0m 37ms/step - accuracy: 0.8115 - loss: 0.4473 - val_accuracy: 0.8191 - val_loss: 0.4335\n",
      "Epoch 80/100\n",
      "\u001B[1m41/41\u001B[0m \u001B[32m━━━━━━━━━━━━━━━━━━━━\u001B[0m\u001B[37m\u001B[0m \u001B[1m1s\u001B[0m 31ms/step - accuracy: 0.8191 - loss: 0.4364 - val_accuracy: 0.7919 - val_loss: 0.4933\n",
      "Epoch 81/100\n",
      "\u001B[1m41/41\u001B[0m \u001B[32m━━━━━━━━━━━━━━━━━━━━\u001B[0m\u001B[37m\u001B[0m \u001B[1m1s\u001B[0m 30ms/step - accuracy: 0.8041 - loss: 0.4736 - val_accuracy: 0.8178 - val_loss: 0.4313\n",
      "Epoch 82/100\n",
      "\u001B[1m41/41\u001B[0m \u001B[32m━━━━━━━━━━━━━━━━━━━━\u001B[0m\u001B[37m\u001B[0m \u001B[1m1s\u001B[0m 32ms/step - accuracy: 0.8047 - loss: 0.4550 - val_accuracy: 0.8255 - val_loss: 0.4293\n",
      "Epoch 83/100\n",
      "\u001B[1m41/41\u001B[0m \u001B[32m━━━━━━━━━━━━━━━━━━━━\u001B[0m\u001B[37m\u001B[0m \u001B[1m1s\u001B[0m 32ms/step - accuracy: 0.8208 - loss: 0.4439 - val_accuracy: 0.8228 - val_loss: 0.4289\n",
      "Epoch 84/100\n",
      "\u001B[1m41/41\u001B[0m \u001B[32m━━━━━━━━━━━━━━━━━━━━\u001B[0m\u001B[37m\u001B[0m \u001B[1m1s\u001B[0m 35ms/step - accuracy: 0.8096 - loss: 0.4532 - val_accuracy: 0.8182 - val_loss: 0.4308\n",
      "Epoch 85/100\n",
      "\u001B[1m41/41\u001B[0m \u001B[32m━━━━━━━━━━━━━━━━━━━━\u001B[0m\u001B[37m\u001B[0m \u001B[1m1s\u001B[0m 34ms/step - accuracy: 0.8163 - loss: 0.4406 - val_accuracy: 0.8237 - val_loss: 0.4248\n",
      "Epoch 86/100\n",
      "\u001B[1m41/41\u001B[0m \u001B[32m━━━━━━━━━━━━━━━━━━━━\u001B[0m\u001B[37m\u001B[0m \u001B[1m1s\u001B[0m 35ms/step - accuracy: 0.8096 - loss: 0.4421 - val_accuracy: 0.8250 - val_loss: 0.4259\n",
      "Epoch 87/100\n",
      "\u001B[1m41/41\u001B[0m \u001B[32m━━━━━━━━━━━━━━━━━━━━\u001B[0m\u001B[37m\u001B[0m \u001B[1m1s\u001B[0m 31ms/step - accuracy: 0.8136 - loss: 0.4514 - val_accuracy: 0.8160 - val_loss: 0.4201\n",
      "Epoch 88/100\n",
      "\u001B[1m41/41\u001B[0m \u001B[32m━━━━━━━━━━━━━━━━━━━━\u001B[0m\u001B[37m\u001B[0m \u001B[1m1s\u001B[0m 32ms/step - accuracy: 0.8190 - loss: 0.4337 - val_accuracy: 0.8146 - val_loss: 0.4287\n",
      "Epoch 89/100\n",
      "\u001B[1m41/41\u001B[0m \u001B[32m━━━━━━━━━━━━━━━━━━━━\u001B[0m\u001B[37m\u001B[0m \u001B[1m2s\u001B[0m 38ms/step - accuracy: 0.8164 - loss: 0.4421 - val_accuracy: 0.8246 - val_loss: 0.4214\n",
      "Epoch 90/100\n",
      "\u001B[1m41/41\u001B[0m \u001B[32m━━━━━━━━━━━━━━━━━━━━\u001B[0m\u001B[37m\u001B[0m \u001B[1m1s\u001B[0m 32ms/step - accuracy: 0.8139 - loss: 0.4409 - val_accuracy: 0.8196 - val_loss: 0.4300\n",
      "Epoch 91/100\n",
      "\u001B[1m41/41\u001B[0m \u001B[32m━━━━━━━━━━━━━━━━━━━━\u001B[0m\u001B[37m\u001B[0m \u001B[1m1s\u001B[0m 31ms/step - accuracy: 0.8213 - loss: 0.4285 - val_accuracy: 0.8223 - val_loss: 0.4327\n",
      "Epoch 92/100\n",
      "\u001B[1m41/41\u001B[0m \u001B[32m━━━━━━━━━━━━━━━━━━━━\u001B[0m\u001B[37m\u001B[0m \u001B[1m1s\u001B[0m 30ms/step - accuracy: 0.8127 - loss: 0.4502 - val_accuracy: 0.8296 - val_loss: 0.4191\n",
      "Epoch 93/100\n",
      "\u001B[1m41/41\u001B[0m \u001B[32m━━━━━━━━━━━━━━━━━━━━\u001B[0m\u001B[37m\u001B[0m \u001B[1m1s\u001B[0m 31ms/step - accuracy: 0.8204 - loss: 0.4406 - val_accuracy: 0.8264 - val_loss: 0.4159\n",
      "Epoch 94/100\n",
      "\u001B[1m41/41\u001B[0m \u001B[32m━━━━━━━━━━━━━━━━━━━━\u001B[0m\u001B[37m\u001B[0m \u001B[1m1s\u001B[0m 32ms/step - accuracy: 0.8201 - loss: 0.4350 - val_accuracy: 0.8196 - val_loss: 0.4335\n",
      "Epoch 95/100\n",
      "\u001B[1m41/41\u001B[0m \u001B[32m━━━━━━━━━━━━━━━━━━━━\u001B[0m\u001B[37m\u001B[0m \u001B[1m1s\u001B[0m 31ms/step - accuracy: 0.8196 - loss: 0.4419 - val_accuracy: 0.8200 - val_loss: 0.4197\n",
      "Epoch 96/100\n",
      "\u001B[1m41/41\u001B[0m \u001B[32m━━━━━━━━━━━━━━━━━━━━\u001B[0m\u001B[37m\u001B[0m \u001B[1m1s\u001B[0m 32ms/step - accuracy: 0.8115 - loss: 0.4375 - val_accuracy: 0.8264 - val_loss: 0.4172\n",
      "Epoch 97/100\n",
      "\u001B[1m41/41\u001B[0m \u001B[32m━━━━━━━━━━━━━━━━━━━━\u001B[0m\u001B[37m\u001B[0m \u001B[1m1s\u001B[0m 31ms/step - accuracy: 0.8342 - loss: 0.4218 - val_accuracy: 0.8277 - val_loss: 0.4214\n",
      "Epoch 98/100\n",
      "\u001B[1m41/41\u001B[0m \u001B[32m━━━━━━━━━━━━━━━━━━━━\u001B[0m\u001B[37m\u001B[0m \u001B[1m1s\u001B[0m 31ms/step - accuracy: 0.8236 - loss: 0.4204 - val_accuracy: 0.8314 - val_loss: 0.4144\n",
      "Epoch 99/100\n",
      "\u001B[1m41/41\u001B[0m \u001B[32m━━━━━━━━━━━━━━━━━━━━\u001B[0m\u001B[37m\u001B[0m \u001B[1m1s\u001B[0m 34ms/step - accuracy: 0.8234 - loss: 0.4218 - val_accuracy: 0.8273 - val_loss: 0.4186\n",
      "Epoch 100/100\n",
      "\u001B[1m41/41\u001B[0m \u001B[32m━━━━━━━━━━━━━━━━━━━━\u001B[0m\u001B[37m\u001B[0m \u001B[1m1s\u001B[0m 30ms/step - accuracy: 0.8197 - loss: 0.4316 - val_accuracy: 0.8268 - val_loss: 0.4096\n"
     ]
    },
    {
     "data": {
      "text/plain": [
       "<Figure size 1000x600 with 1 Axes>"
      ],
      "image/png": "[encoded data removed]"
     },
     "metadata": {},
     "output_type": "display_data"
    }
   ],
   "execution_count": 76
  },
  {
   "cell_type": "code",
   "metadata": {
    "execution": {
     "iopub.execute_input": "2020-10-24T19:03:41.462389Z",
     "iopub.status.busy": "2020-10-24T19:03:41.461627Z",
     "iopub.status.idle": "2020-10-24T19:03:45.386578Z",
     "shell.execute_reply": "2020-10-24T19:03:45.385926Z"
    },
    "papermill": {
     "duration": 4.350217,
     "end_time": "2020-10-24T19:03:45.386712",
     "exception": false,
     "start_time": "2020-10-24T19:03:41.036495",
     "status": "completed"
    },
    "tags": [],
    "ExecuteTime": {
     "end_time": "2025-03-01T09:44:50.160368Z",
     "start_time": "2025-03-01T09:44:49.106096Z"
    }
   },
   "source": [
    "y_pred_test = model.predict(test_pca_new)\n",
    "print(y_pred_test)"
   ],
   "outputs": [
    {
     "name": "stdout",
     "output_type": "stream",
     "text": [
      "\u001B[1m93/93\u001B[0m \u001B[32m━━━━━━━━━━━━━━━━━━━━\u001B[0m\u001B[37m\u001B[0m \u001B[1m1s\u001B[0m 8ms/step\n",
      "[[2.6927009e-04 2.3172412e-04 3.6472743e-04 1.8981405e-01 8.0881637e-01\n",
      "  5.0386658e-04]\n",
      " [2.6721024e-04 2.2971958e-04 3.6377655e-04 1.8886249e-01 8.0977625e-01\n",
      "  5.0064328e-04]\n",
      " [2.6671815e-04 2.2917846e-04 3.6295256e-04 1.8864992e-01 8.0999190e-01\n",
      "  4.9929309e-04]\n",
      " ...\n",
      " [5.0182134e-01 4.6294805e-01 3.2410737e-02 3.3675059e-04 2.3898412e-03\n",
      "  9.3326154e-05]\n",
      " [7.1206975e-01 2.6174656e-01 2.2508999e-02 5.3617085e-04 3.0814160e-03\n",
      "  5.7158159e-05]\n",
      " [7.2001725e-01 2.5571114e-01 2.0449985e-02 5.7289848e-04 3.1898192e-03\n",
      "  5.8937214e-05]]\n"
     ]
    }
   ],
   "execution_count": 77
  },
  {
   "metadata": {
    "ExecuteTime": {
     "end_time": "2025-03-01T09:51:47.010108Z",
     "start_time": "2025-03-01T09:51:46.183785Z"
    }
   },
   "cell_type": "code",
   "source": [
    "from sklearn.metrics import confusion_matrix\n",
    "import seaborn as sns\n",
    "import matplotlib.pyplot as plt\n",
    "import numpy as np\n",
    "\n",
    "y_pred = model.predict(X_valid)\n",
    "y_pred_classes = np.argmax(y_pred, axis=1)\n",
    "y_true = np.argmax(y_valid, axis=1)\n",
    "cm = confusion_matrix(y_true, y_pred_classes)\n",
    "\n",
    "\n",
    "plt.figure(figsize=(8, 6))\n",
    "sns.heatmap(cm, annot=True, fmt='d', cmap='Blues')\n",
    "plt.xlabel('Predicted Labels')\n",
    "plt.ylabel('True Labels')\n",
    "plt.title('Confusion Matrix')\n",
    "plt.show()\n"
   ],
   "outputs": [
    {
     "name": "stdout",
     "output_type": "stream",
     "text": [
      "\u001B[1m69/69\u001B[0m \u001B[32m━━━━━━━━━━━━━━━━━━━━\u001B[0m\u001B[37m\u001B[0m \u001B[1m1s\u001B[0m 9ms/step\n"
     ]
    },
    {
     "data": {
      "text/plain": [
       "<Figure size 800x600 with 2 Axes>"
      ],
      "image/png": "[encoded data removed]"
     },
     "metadata": {},
     "output_type": "display_data"
    }
   ],
   "execution_count": 80
  },
  {
   "metadata": {
    "ExecuteTime": {
     "end_time": "2025-03-01T10:25:27.317545Z",
     "start_time": "2025-03-01T10:23:56.139453Z"
    }
   },
   "cell_type": "code",
   "source": [
    "from tensorflow.keras.models import Sequential\n",
    "from tensorflow.keras.layers import Conv1D, MaxPooling1D, Dense, Flatten, Dropout\n",
    "from tensorflow.keras.optimizers import Adamax\n",
    "\n",
    "seg_len = 50\n",
    "num_channels = 1\n",
    "num_labels = 6\n",
    "\n",
    "model = Sequential([\n",
    "    Conv1D(32, kernel_size=2, activation='relu', input_shape=(seg_len, num_channels), padding='same'),\n",
    "    MaxPooling1D(pool_size=4, strides=2, padding='same'),\n",
    "\n",
    "    Conv1D(64, kernel_size=2, activation='relu', padding='same'),\n",
    "    MaxPooling1D(pool_size=4, strides=2, padding='same'),\n",
    "\n",
    "    Conv1D(128, kernel_size=2, activation='relu', padding='same'),\n",
    "    MaxPooling1D(pool_size=4, strides=2, padding='same'),\n",
    "\n",
    "    Flatten(),\n",
    "\n",
    "    Dense(100, activation='tanh'),\n",
    "    Dropout(0.5),\n",
    "\n",
    "    Dense(100, activation='tanh'),\n",
    "    Dropout(0.5),\n",
    "\n",
    "    Dense(num_labels, activation='softmax')\n",
    "])\n",
    "\n",
    "adamax = Adamax(learning_rate=0.001, clipnorm=1.0)\n",
    "model.compile(optimizer=adamax, loss='categorical_crossentropy', metrics=['accuracy'])\n",
    "\n",
    "model.summary()\n",
    "\n",
    "history = model.fit(X_train, y_train, epochs=100,\n",
    "                    validation_data=(X_valid, y_valid),\n",
    "                    batch_size=128, verbose=1)\n",
    "\n",
    "import matplotlib.pyplot as plt\n",
    "\n",
    "plt.figure(figsize=(10, 6))\n",
    "plt.plot(history.history['accuracy'], label='Training Accuracy')\n",
    "plt.plot(history.history['val_accuracy'], label='Validation Accuracy')\n",
    "plt.title('Model Accuracy vs Epochs')\n",
    "plt.xlabel('Epoch')\n",
    "plt.ylabel('Accuracy')\n",
    "plt.legend()\n",
    "plt.grid(True)\n",
    "plt.show()\n"
   ],
   "outputs": [
    {
     "name": "stderr",
     "output_type": "stream",
     "text": [
      "/Users/roshank/PycharmProjects/IITGNSelectionTask-1/.venv/lib/python3.10/site-packages/keras/src/layers/convolutional/base_conv.py:107: UserWarning: Do not pass an `input_shape`/`input_dim` argument to a layer. When using Sequential models, prefer using an `Input(shape)` object as the first layer in the model instead.\n",
      "  super().__init__(activity_regularizer=activity_regularizer, **kwargs)\n"
     ]
    },
    {
     "data": {
      "text/plain": [
       "\u001B[1mModel: \"sequential_6\"\u001B[0m\n"
      ],
      "text/html": [
       "<pre style=\"white-space:pre;overflow-x:auto;line-height:normal;font-family:Menlo,'DejaVu Sans Mono',consolas,'Courier New',monospace\"><span style=\"font-weight: bold\">Model: \"sequential_6\"</span>\n",
       "</pre>\n"
      ]
     },
     "metadata": {},
     "output_type": "display_data"
    },
    {
     "data": {
      "text/plain": [
       "┏━━━━━━━━━━━━━━━━━━━━━━━━━━━━━━━━━┳━━━━━━━━━━━━━━━━━━━━━━━━┳━━━━━━━━━━━━━━━┓\n",
       "┃\u001B[1m \u001B[0m\u001B[1mLayer (type)                   \u001B[0m\u001B[1m \u001B[0m┃\u001B[1m \u001B[0m\u001B[1mOutput Shape          \u001B[0m\u001B[1m \u001B[0m┃\u001B[1m \u001B[0m\u001B[1m      Param #\u001B[0m\u001B[1m \u001B[0m┃\n",
       "┡━━━━━━━━━━━━━━━━━━━━━━━━━━━━━━━━━╇━━━━━━━━━━━━━━━━━━━━━━━━╇━━━━━━━━━━━━━━━┩\n",
       "│ conv1d (\u001B[38;5;33mConv1D\u001B[0m)                 │ (\u001B[38;5;45mNone\u001B[0m, \u001B[38;5;34m50\u001B[0m, \u001B[38;5;34m32\u001B[0m)         │            \u001B[38;5;34m96\u001B[0m │\n",
       "├─────────────────────────────────┼────────────────────────┼───────────────┤\n",
       "│ max_pooling1d (\u001B[38;5;33mMaxPooling1D\u001B[0m)    │ (\u001B[38;5;45mNone\u001B[0m, \u001B[38;5;34m25\u001B[0m, \u001B[38;5;34m32\u001B[0m)         │             \u001B[38;5;34m0\u001B[0m │\n",
       "├─────────────────────────────────┼────────────────────────┼───────────────┤\n",
       "│ conv1d_1 (\u001B[38;5;33mConv1D\u001B[0m)               │ (\u001B[38;5;45mNone\u001B[0m, \u001B[38;5;34m25\u001B[0m, \u001B[38;5;34m64\u001B[0m)         │         \u001B[38;5;34m4,160\u001B[0m │\n",
       "├─────────────────────────────────┼────────────────────────┼───────────────┤\n",
       "│ max_pooling1d_1 (\u001B[38;5;33mMaxPooling1D\u001B[0m)  │ (\u001B[38;5;45mNone\u001B[0m, \u001B[38;5;34m13\u001B[0m, \u001B[38;5;34m64\u001B[0m)         │             \u001B[38;5;34m0\u001B[0m │\n",
       "├─────────────────────────────────┼────────────────────────┼───────────────┤\n",
       "│ conv1d_2 (\u001B[38;5;33mConv1D\u001B[0m)               │ (\u001B[38;5;45mNone\u001B[0m, \u001B[38;5;34m13\u001B[0m, \u001B[38;5;34m128\u001B[0m)        │        \u001B[38;5;34m16,512\u001B[0m │\n",
       "├─────────────────────────────────┼────────────────────────┼───────────────┤\n",
       "│ max_pooling1d_2 (\u001B[38;5;33mMaxPooling1D\u001B[0m)  │ (\u001B[38;5;45mNone\u001B[0m, \u001B[38;5;34m7\u001B[0m, \u001B[38;5;34m128\u001B[0m)         │             \u001B[38;5;34m0\u001B[0m │\n",
       "├─────────────────────────────────┼────────────────────────┼───────────────┤\n",
       "│ flatten (\u001B[38;5;33mFlatten\u001B[0m)               │ (\u001B[38;5;45mNone\u001B[0m, \u001B[38;5;34m896\u001B[0m)            │             \u001B[38;5;34m0\u001B[0m │\n",
       "├─────────────────────────────────┼────────────────────────┼───────────────┤\n",
       "│ dense_5 (\u001B[38;5;33mDense\u001B[0m)                 │ (\u001B[38;5;45mNone\u001B[0m, \u001B[38;5;34m100\u001B[0m)            │        \u001B[38;5;34m89,700\u001B[0m │\n",
       "├─────────────────────────────────┼────────────────────────┼───────────────┤\n",
       "│ dropout_10 (\u001B[38;5;33mDropout\u001B[0m)            │ (\u001B[38;5;45mNone\u001B[0m, \u001B[38;5;34m100\u001B[0m)            │             \u001B[38;5;34m0\u001B[0m │\n",
       "├─────────────────────────────────┼────────────────────────┼───────────────┤\n",
       "│ dense_6 (\u001B[38;5;33mDense\u001B[0m)                 │ (\u001B[38;5;45mNone\u001B[0m, \u001B[38;5;34m100\u001B[0m)            │        \u001B[38;5;34m10,100\u001B[0m │\n",
       "├─────────────────────────────────┼────────────────────────┼───────────────┤\n",
       "│ dropout_11 (\u001B[38;5;33mDropout\u001B[0m)            │ (\u001B[38;5;45mNone\u001B[0m, \u001B[38;5;34m100\u001B[0m)            │             \u001B[38;5;34m0\u001B[0m │\n",
       "├─────────────────────────────────┼────────────────────────┼───────────────┤\n",
       "│ dense_7 (\u001B[38;5;33mDense\u001B[0m)                 │ (\u001B[38;5;45mNone\u001B[0m, \u001B[38;5;34m6\u001B[0m)              │           \u001B[38;5;34m606\u001B[0m │\n",
       "└─────────────────────────────────┴────────────────────────┴───────────────┘\n"
      ],
      "text/html": [
       "<pre style=\"white-space:pre;overflow-x:auto;line-height:normal;font-family:Menlo,'DejaVu Sans Mono',consolas,'Courier New',monospace\">┏━━━━━━━━━━━━━━━━━━━━━━━━━━━━━━━━━┳━━━━━━━━━━━━━━━━━━━━━━━━┳━━━━━━━━━━━━━━━┓\n",
       "┃<span style=\"font-weight: bold\"> Layer (type)                    </span>┃<span style=\"font-weight: bold\"> Output Shape           </span>┃<span style=\"font-weight: bold\">       Param # </span>┃\n",
       "┡━━━━━━━━━━━━━━━━━━━━━━━━━━━━━━━━━╇━━━━━━━━━━━━━━━━━━━━━━━━╇━━━━━━━━━━━━━━━┩\n",
       "│ conv1d (<span style=\"color: #0087ff; text-decoration-color: #0087ff\">Conv1D</span>)                 │ (<span style=\"color: #00d7ff; text-decoration-color: #00d7ff\">None</span>, <span style=\"color: #00af00; text-decoration-color: #00af00\">50</span>, <span style=\"color: #00af00; text-decoration-color: #00af00\">32</span>)         │            <span style=\"color: #00af00; text-decoration-color: #00af00\">96</span> │\n",
       "├─────────────────────────────────┼────────────────────────┼───────────────┤\n",
       "│ max_pooling1d (<span style=\"color: #0087ff; text-decoration-color: #0087ff\">MaxPooling1D</span>)    │ (<span style=\"color: #00d7ff; text-decoration-color: #00d7ff\">None</span>, <span style=\"color: #00af00; text-decoration-color: #00af00\">25</span>, <span style=\"color: #00af00; text-decoration-color: #00af00\">32</span>)         │             <span style=\"color: #00af00; text-decoration-color: #00af00\">0</span> │\n",
       "├─────────────────────────────────┼────────────────────────┼───────────────┤\n",
       "│ conv1d_1 (<span style=\"color: #0087ff; text-decoration-color: #0087ff\">Conv1D</span>)               │ (<span style=\"color: #00d7ff; text-decoration-color: #00d7ff\">None</span>, <span style=\"color: #00af00; text-decoration-color: #00af00\">25</span>, <span style=\"color: #00af00; text-decoration-color: #00af00\">64</span>)         │         <span style=\"color: #00af00; text-decoration-color: #00af00\">4,160</span> │\n",
       "├─────────────────────────────────┼────────────────────────┼───────────────┤\n",
       "│ max_pooling1d_1 (<span style=\"color: #0087ff; text-decoration-color: #0087ff\">MaxPooling1D</span>)  │ (<span style=\"color: #00d7ff; text-decoration-color: #00d7ff\">None</span>, <span style=\"color: #00af00; text-decoration-color: #00af00\">13</span>, <span style=\"color: #00af00; text-decoration-color: #00af00\">64</span>)         │             <span style=\"color: #00af00; text-decoration-color: #00af00\">0</span> │\n",
       "├─────────────────────────────────┼────────────────────────┼───────────────┤\n",
       "│ conv1d_2 (<span style=\"color: #0087ff; text-decoration-color: #0087ff\">Conv1D</span>)               │ (<span style=\"color: #00d7ff; text-decoration-color: #00d7ff\">None</span>, <span style=\"color: #00af00; text-decoration-color: #00af00\">13</span>, <span style=\"color: #00af00; text-decoration-color: #00af00\">128</span>)        │        <span style=\"color: #00af00; text-decoration-color: #00af00\">16,512</span> │\n",
       "├─────────────────────────────────┼────────────────────────┼───────────────┤\n",
       "│ max_pooling1d_2 (<span style=\"color: #0087ff; text-decoration-color: #0087ff\">MaxPooling1D</span>)  │ (<span style=\"color: #00d7ff; text-decoration-color: #00d7ff\">None</span>, <span style=\"color: #00af00; text-decoration-color: #00af00\">7</span>, <span style=\"color: #00af00; text-decoration-color: #00af00\">128</span>)         │             <span style=\"color: #00af00; text-decoration-color: #00af00\">0</span> │\n",
       "├─────────────────────────────────┼────────────────────────┼───────────────┤\n",
       "│ flatten (<span style=\"color: #0087ff; text-decoration-color: #0087ff\">Flatten</span>)               │ (<span style=\"color: #00d7ff; text-decoration-color: #00d7ff\">None</span>, <span style=\"color: #00af00; text-decoration-color: #00af00\">896</span>)            │             <span style=\"color: #00af00; text-decoration-color: #00af00\">0</span> │\n",
       "├─────────────────────────────────┼────────────────────────┼───────────────┤\n",
       "│ dense_5 (<span style=\"color: #0087ff; text-decoration-color: #0087ff\">Dense</span>)                 │ (<span style=\"color: #00d7ff; text-decoration-color: #00d7ff\">None</span>, <span style=\"color: #00af00; text-decoration-color: #00af00\">100</span>)            │        <span style=\"color: #00af00; text-decoration-color: #00af00\">89,700</span> │\n",
       "├─────────────────────────────────┼────────────────────────┼───────────────┤\n",
       "│ dropout_10 (<span style=\"color: #0087ff; text-decoration-color: #0087ff\">Dropout</span>)            │ (<span style=\"color: #00d7ff; text-decoration-color: #00d7ff\">None</span>, <span style=\"color: #00af00; text-decoration-color: #00af00\">100</span>)            │             <span style=\"color: #00af00; text-decoration-color: #00af00\">0</span> │\n",
       "├─────────────────────────────────┼────────────────────────┼───────────────┤\n",
       "│ dense_6 (<span style=\"color: #0087ff; text-decoration-color: #0087ff\">Dense</span>)                 │ (<span style=\"color: #00d7ff; text-decoration-color: #00d7ff\">None</span>, <span style=\"color: #00af00; text-decoration-color: #00af00\">100</span>)            │        <span style=\"color: #00af00; text-decoration-color: #00af00\">10,100</span> │\n",
       "├─────────────────────────────────┼────────────────────────┼───────────────┤\n",
       "│ dropout_11 (<span style=\"color: #0087ff; text-decoration-color: #0087ff\">Dropout</span>)            │ (<span style=\"color: #00d7ff; text-decoration-color: #00d7ff\">None</span>, <span style=\"color: #00af00; text-decoration-color: #00af00\">100</span>)            │             <span style=\"color: #00af00; text-decoration-color: #00af00\">0</span> │\n",
       "├─────────────────────────────────┼────────────────────────┼───────────────┤\n",
       "│ dense_7 (<span style=\"color: #0087ff; text-decoration-color: #0087ff\">Dense</span>)                 │ (<span style=\"color: #00d7ff; text-decoration-color: #00d7ff\">None</span>, <span style=\"color: #00af00; text-decoration-color: #00af00\">6</span>)              │           <span style=\"color: #00af00; text-decoration-color: #00af00\">606</span> │\n",
       "└─────────────────────────────────┴────────────────────────┴───────────────┘\n",
       "</pre>\n"
      ]
     },
     "metadata": {},
     "output_type": "display_data"
    },
    {
     "data": {
      "text/plain": [
       "\u001B[1m Total params: \u001B[0m\u001B[38;5;34m121,174\u001B[0m (473.34 KB)\n"
      ],
      "text/html": [
       "<pre style=\"white-space:pre;overflow-x:auto;line-height:normal;font-family:Menlo,'DejaVu Sans Mono',consolas,'Courier New',monospace\"><span style=\"font-weight: bold\"> Total params: </span><span style=\"color: #00af00; text-decoration-color: #00af00\">121,174</span> (473.34 KB)\n",
       "</pre>\n"
      ]
     },
     "metadata": {},
     "output_type": "display_data"
    },
    {
     "data": {
      "text/plain": [
       "\u001B[1m Trainable params: \u001B[0m\u001B[38;5;34m121,174\u001B[0m (473.34 KB)\n"
      ],
      "text/html": [
       "<pre style=\"white-space:pre;overflow-x:auto;line-height:normal;font-family:Menlo,'DejaVu Sans Mono',consolas,'Courier New',monospace\"><span style=\"font-weight: bold\"> Trainable params: </span><span style=\"color: #00af00; text-decoration-color: #00af00\">121,174</span> (473.34 KB)\n",
       "</pre>\n"
      ]
     },
     "metadata": {},
     "output_type": "display_data"
    },
    {
     "data": {
      "text/plain": [
       "\u001B[1m Non-trainable params: \u001B[0m\u001B[38;5;34m0\u001B[0m (0.00 B)\n"
      ],
      "text/html": [
       "<pre style=\"white-space:pre;overflow-x:auto;line-height:normal;font-family:Menlo,'DejaVu Sans Mono',consolas,'Courier New',monospace\"><span style=\"font-weight: bold\"> Non-trainable params: </span><span style=\"color: #00af00; text-decoration-color: #00af00\">0</span> (0.00 B)\n",
       "</pre>\n"
      ]
     },
     "metadata": {},
     "output_type": "display_data"
    },
    {
     "name": "stdout",
     "output_type": "stream",
     "text": [
      "Epoch 1/100\n",
      "\u001B[1m41/41\u001B[0m \u001B[32m━━━━━━━━━━━━━━━━━━━━\u001B[0m\u001B[37m\u001B[0m \u001B[1m4s\u001B[0m 33ms/step - accuracy: 0.4177 - loss: 1.4037 - val_accuracy: 0.7067 - val_loss: 0.7926\n",
      "Epoch 2/100\n",
      "\u001B[1m41/41\u001B[0m \u001B[32m━━━━━━━━━━━━━━━━━━━━\u001B[0m\u001B[37m\u001B[0m \u001B[1m1s\u001B[0m 20ms/step - accuracy: 0.6822 - loss: 0.8273 - val_accuracy: 0.7756 - val_loss: 0.5547\n",
      "Epoch 3/100\n",
      "\u001B[1m41/41\u001B[0m \u001B[32m━━━━━━━━━━━━━━━━━━━━\u001B[0m\u001B[37m\u001B[0m \u001B[1m1s\u001B[0m 20ms/step - accuracy: 0.7244 - loss: 0.6357 - val_accuracy: 0.8083 - val_loss: 0.4722\n",
      "Epoch 4/100\n",
      "\u001B[1m41/41\u001B[0m \u001B[32m━━━━━━━━━━━━━━━━━━━━\u001B[0m\u001B[37m\u001B[0m \u001B[1m1s\u001B[0m 19ms/step - accuracy: 0.7690 - loss: 0.5610 - val_accuracy: 0.8441 - val_loss: 0.4199\n",
      "Epoch 5/100\n",
      "\u001B[1m41/41\u001B[0m \u001B[32m━━━━━━━━━━━━━━━━━━━━\u001B[0m\u001B[37m\u001B[0m \u001B[1m1s\u001B[0m 19ms/step - accuracy: 0.7757 - loss: 0.5248 - val_accuracy: 0.8232 - val_loss: 0.3982\n",
      "Epoch 6/100\n",
      "\u001B[1m41/41\u001B[0m \u001B[32m━━━━━━━━━━━━━━━━━━━━\u001B[0m\u001B[37m\u001B[0m \u001B[1m1s\u001B[0m 20ms/step - accuracy: 0.8000 - loss: 0.4959 - val_accuracy: 0.8441 - val_loss: 0.3735\n",
      "Epoch 7/100\n",
      "\u001B[1m41/41\u001B[0m \u001B[32m━━━━━━━━━━━━━━━━━━━━\u001B[0m\u001B[37m\u001B[0m \u001B[1m1s\u001B[0m 20ms/step - accuracy: 0.8180 - loss: 0.4464 - val_accuracy: 0.8540 - val_loss: 0.3517\n",
      "Epoch 8/100\n",
      "\u001B[1m41/41\u001B[0m \u001B[32m━━━━━━━━━━━━━━━━━━━━\u001B[0m\u001B[37m\u001B[0m \u001B[1m1s\u001B[0m 20ms/step - accuracy: 0.8229 - loss: 0.4437 - val_accuracy: 0.8345 - val_loss: 0.3625\n",
      "Epoch 9/100\n",
      "\u001B[1m41/41\u001B[0m \u001B[32m━━━━━━━━━━━━━━━━━━━━\u001B[0m\u001B[37m\u001B[0m \u001B[1m1s\u001B[0m 20ms/step - accuracy: 0.8350 - loss: 0.4065 - val_accuracy: 0.8640 - val_loss: 0.3207\n",
      "Epoch 10/100\n",
      "\u001B[1m41/41\u001B[0m \u001B[32m━━━━━━━━━━━━━━━━━━━━\u001B[0m\u001B[37m\u001B[0m \u001B[1m1s\u001B[0m 20ms/step - accuracy: 0.8415 - loss: 0.4027 - val_accuracy: 0.8694 - val_loss: 0.3212\n",
      "Epoch 11/100\n",
      "\u001B[1m41/41\u001B[0m \u001B[32m━━━━━━━━━━━━━━━━━━━━\u001B[0m\u001B[37m\u001B[0m \u001B[1m1s\u001B[0m 20ms/step - accuracy: 0.8510 - loss: 0.3759 - val_accuracy: 0.8590 - val_loss: 0.3260\n",
      "Epoch 12/100\n",
      "\u001B[1m41/41\u001B[0m \u001B[32m━━━━━━━━━━━━━━━━━━━━\u001B[0m\u001B[37m\u001B[0m \u001B[1m1s\u001B[0m 21ms/step - accuracy: 0.8417 - loss: 0.3939 - val_accuracy: 0.8817 - val_loss: 0.2923\n",
      "Epoch 13/100\n",
      "\u001B[1m41/41\u001B[0m \u001B[32m━━━━━━━━━━━━━━━━━━━━\u001B[0m\u001B[37m\u001B[0m \u001B[1m1s\u001B[0m 20ms/step - accuracy: 0.8468 - loss: 0.3652 - val_accuracy: 0.8767 - val_loss: 0.2948\n",
      "Epoch 14/100\n",
      "\u001B[1m41/41\u001B[0m \u001B[32m━━━━━━━━━━━━━━━━━━━━\u001B[0m\u001B[37m\u001B[0m \u001B[1m1s\u001B[0m 21ms/step - accuracy: 0.8589 - loss: 0.3364 - val_accuracy: 0.8871 - val_loss: 0.2743\n",
      "Epoch 15/100\n",
      "\u001B[1m41/41\u001B[0m \u001B[32m━━━━━━━━━━━━━━━━━━━━\u001B[0m\u001B[37m\u001B[0m \u001B[1m1s\u001B[0m 21ms/step - accuracy: 0.8587 - loss: 0.3367 - val_accuracy: 0.8776 - val_loss: 0.2885\n",
      "Epoch 16/100\n",
      "\u001B[1m41/41\u001B[0m \u001B[32m━━━━━━━━━━━━━━━━━━━━\u001B[0m\u001B[37m\u001B[0m \u001B[1m1s\u001B[0m 21ms/step - accuracy: 0.8710 - loss: 0.3304 - val_accuracy: 0.8781 - val_loss: 0.2833\n",
      "Epoch 17/100\n",
      "\u001B[1m41/41\u001B[0m \u001B[32m━━━━━━━━━━━━━━━━━━━━\u001B[0m\u001B[37m\u001B[0m \u001B[1m1s\u001B[0m 23ms/step - accuracy: 0.8719 - loss: 0.3201 - val_accuracy: 0.8885 - val_loss: 0.2575\n",
      "Epoch 18/100\n",
      "\u001B[1m41/41\u001B[0m \u001B[32m━━━━━━━━━━━━━━━━━━━━\u001B[0m\u001B[37m\u001B[0m \u001B[1m1s\u001B[0m 20ms/step - accuracy: 0.8798 - loss: 0.3086 - val_accuracy: 0.8862 - val_loss: 0.2693\n",
      "Epoch 19/100\n",
      "\u001B[1m41/41\u001B[0m \u001B[32m━━━━━━━━━━━━━━━━━━━━\u001B[0m\u001B[37m\u001B[0m \u001B[1m1s\u001B[0m 21ms/step - accuracy: 0.8811 - loss: 0.3116 - val_accuracy: 0.8944 - val_loss: 0.2475\n",
      "Epoch 20/100\n",
      "\u001B[1m41/41\u001B[0m \u001B[32m━━━━━━━━━━━━━━━━━━━━\u001B[0m\u001B[37m\u001B[0m \u001B[1m1s\u001B[0m 20ms/step - accuracy: 0.8858 - loss: 0.2932 - val_accuracy: 0.8971 - val_loss: 0.2591\n",
      "Epoch 21/100\n",
      "\u001B[1m41/41\u001B[0m \u001B[32m━━━━━━━━━━━━━━━━━━━━\u001B[0m\u001B[37m\u001B[0m \u001B[1m1s\u001B[0m 22ms/step - accuracy: 0.8836 - loss: 0.2884 - val_accuracy: 0.8903 - val_loss: 0.2522\n",
      "Epoch 22/100\n",
      "\u001B[1m41/41\u001B[0m \u001B[32m━━━━━━━━━━━━━━━━━━━━\u001B[0m\u001B[37m\u001B[0m \u001B[1m1s\u001B[0m 20ms/step - accuracy: 0.8810 - loss: 0.2948 - val_accuracy: 0.9007 - val_loss: 0.2317\n",
      "Epoch 23/100\n",
      "\u001B[1m41/41\u001B[0m \u001B[32m━━━━━━━━━━━━━━━━━━━━\u001B[0m\u001B[37m\u001B[0m \u001B[1m1s\u001B[0m 21ms/step - accuracy: 0.8978 - loss: 0.2616 - val_accuracy: 0.9025 - val_loss: 0.2367\n",
      "Epoch 24/100\n",
      "\u001B[1m41/41\u001B[0m \u001B[32m━━━━━━━━━━━━━━━━━━━━\u001B[0m\u001B[37m\u001B[0m \u001B[1m1s\u001B[0m 20ms/step - accuracy: 0.8930 - loss: 0.2665 - val_accuracy: 0.8912 - val_loss: 0.2330\n",
      "Epoch 25/100\n",
      "\u001B[1m41/41\u001B[0m \u001B[32m━━━━━━━━━━━━━━━━━━━━\u001B[0m\u001B[37m\u001B[0m \u001B[1m1s\u001B[0m 20ms/step - accuracy: 0.8978 - loss: 0.2547 - val_accuracy: 0.9048 - val_loss: 0.2250\n",
      "Epoch 26/100\n",
      "\u001B[1m41/41\u001B[0m \u001B[32m━━━━━━━━━━━━━━━━━━━━\u001B[0m\u001B[37m\u001B[0m \u001B[1m1s\u001B[0m 21ms/step - accuracy: 0.8934 - loss: 0.2593 - val_accuracy: 0.9071 - val_loss: 0.2245\n",
      "Epoch 27/100\n",
      "\u001B[1m41/41\u001B[0m \u001B[32m━━━━━━━━━━━━━━━━━━━━\u001B[0m\u001B[37m\u001B[0m \u001B[1m1s\u001B[0m 21ms/step - accuracy: 0.9013 - loss: 0.2553 - val_accuracy: 0.9080 - val_loss: 0.2151\n",
      "Epoch 28/100\n",
      "\u001B[1m41/41\u001B[0m \u001B[32m━━━━━━━━━━━━━━━━━━━━\u001B[0m\u001B[37m\u001B[0m \u001B[1m1s\u001B[0m 20ms/step - accuracy: 0.8979 - loss: 0.2454 - val_accuracy: 0.9030 - val_loss: 0.2192\n",
      "Epoch 29/100\n",
      "\u001B[1m41/41\u001B[0m \u001B[32m━━━━━━━━━━━━━━━━━━━━\u001B[0m\u001B[37m\u001B[0m \u001B[1m1s\u001B[0m 22ms/step - accuracy: 0.9023 - loss: 0.2335 - val_accuracy: 0.8917 - val_loss: 0.2624\n",
      "Epoch 30/100\n",
      "\u001B[1m41/41\u001B[0m \u001B[32m━━━━━━━━━━━━━━━━━━━━\u001B[0m\u001B[37m\u001B[0m \u001B[1m1s\u001B[0m 21ms/step - accuracy: 0.9016 - loss: 0.2555 - val_accuracy: 0.8971 - val_loss: 0.2376\n",
      "Epoch 31/100\n",
      "\u001B[1m41/41\u001B[0m \u001B[32m━━━━━━━━━━━━━━━━━━━━\u001B[0m\u001B[37m\u001B[0m \u001B[1m1s\u001B[0m 22ms/step - accuracy: 0.9056 - loss: 0.2330 - val_accuracy: 0.9093 - val_loss: 0.2191\n",
      "Epoch 32/100\n",
      "\u001B[1m41/41\u001B[0m \u001B[32m━━━━━━━━━━━━━━━━━━━━\u001B[0m\u001B[37m\u001B[0m \u001B[1m1s\u001B[0m 21ms/step - accuracy: 0.9047 - loss: 0.2377 - val_accuracy: 0.8849 - val_loss: 0.2460\n",
      "Epoch 33/100\n",
      "\u001B[1m41/41\u001B[0m \u001B[32m━━━━━━━━━━━━━━━━━━━━\u001B[0m\u001B[37m\u001B[0m \u001B[1m1s\u001B[0m 24ms/step - accuracy: 0.9045 - loss: 0.2263 - val_accuracy: 0.9166 - val_loss: 0.2011\n",
      "Epoch 34/100\n",
      "\u001B[1m41/41\u001B[0m \u001B[32m━━━━━━━━━━━━━━━━━━━━\u001B[0m\u001B[37m\u001B[0m \u001B[1m1s\u001B[0m 21ms/step - accuracy: 0.9110 - loss: 0.2285 - val_accuracy: 0.9184 - val_loss: 0.1967\n",
      "Epoch 35/100\n",
      "\u001B[1m41/41\u001B[0m \u001B[32m━━━━━━━━━━━━━━━━━━━━\u001B[0m\u001B[37m\u001B[0m \u001B[1m1s\u001B[0m 21ms/step - accuracy: 0.9175 - loss: 0.2079 - val_accuracy: 0.9166 - val_loss: 0.1949\n",
      "Epoch 36/100\n",
      "\u001B[1m41/41\u001B[0m \u001B[32m━━━━━━━━━━━━━━━━━━━━\u001B[0m\u001B[37m\u001B[0m \u001B[1m1s\u001B[0m 21ms/step - accuracy: 0.9165 - loss: 0.2157 - val_accuracy: 0.9134 - val_loss: 0.1958\n",
      "Epoch 37/100\n",
      "\u001B[1m41/41\u001B[0m \u001B[32m━━━━━━━━━━━━━━━━━━━━\u001B[0m\u001B[37m\u001B[0m \u001B[1m1s\u001B[0m 21ms/step - accuracy: 0.9189 - loss: 0.2046 - val_accuracy: 0.9288 - val_loss: 0.1837\n",
      "Epoch 38/100\n",
      "\u001B[1m41/41\u001B[0m \u001B[32m━━━━━━━━━━━━━━━━━━━━\u001B[0m\u001B[37m\u001B[0m \u001B[1m1s\u001B[0m 21ms/step - accuracy: 0.9218 - loss: 0.2026 - val_accuracy: 0.9243 - val_loss: 0.1800\n",
      "Epoch 39/100\n",
      "\u001B[1m41/41\u001B[0m \u001B[32m━━━━━━━━━━━━━━━━━━━━\u001B[0m\u001B[37m\u001B[0m \u001B[1m1s\u001B[0m 21ms/step - accuracy: 0.9273 - loss: 0.1897 - val_accuracy: 0.9211 - val_loss: 0.1865\n",
      "Epoch 40/100\n",
      "\u001B[1m41/41\u001B[0m \u001B[32m━━━━━━━━━━━━━━━━━━━━\u001B[0m\u001B[37m\u001B[0m \u001B[1m1s\u001B[0m 20ms/step - accuracy: 0.9200 - loss: 0.2036 - val_accuracy: 0.9252 - val_loss: 0.1821\n",
      "Epoch 41/100\n",
      "\u001B[1m41/41\u001B[0m \u001B[32m━━━━━━━━━━━━━━━━━━━━\u001B[0m\u001B[37m\u001B[0m \u001B[1m1s\u001B[0m 21ms/step - accuracy: 0.9257 - loss: 0.1873 - val_accuracy: 0.9243 - val_loss: 0.1908\n",
      "Epoch 42/100\n",
      "\u001B[1m41/41\u001B[0m \u001B[32m━━━━━━━━━━━━━━━━━━━━\u001B[0m\u001B[37m\u001B[0m \u001B[1m1s\u001B[0m 20ms/step - accuracy: 0.9182 - loss: 0.2013 - val_accuracy: 0.9275 - val_loss: 0.1704\n",
      "Epoch 43/100\n",
      "\u001B[1m41/41\u001B[0m \u001B[32m━━━━━━━━━━━━━━━━━━━━\u001B[0m\u001B[37m\u001B[0m \u001B[1m1s\u001B[0m 21ms/step - accuracy: 0.9272 - loss: 0.1795 - val_accuracy: 0.9270 - val_loss: 0.1701\n",
      "Epoch 44/100\n",
      "\u001B[1m41/41\u001B[0m \u001B[32m━━━━━━━━━━━━━━━━━━━━\u001B[0m\u001B[37m\u001B[0m \u001B[1m1s\u001B[0m 22ms/step - accuracy: 0.9225 - loss: 0.1978 - val_accuracy: 0.9202 - val_loss: 0.2054\n",
      "Epoch 45/100\n",
      "\u001B[1m41/41\u001B[0m \u001B[32m━━━━━━━━━━━━━━━━━━━━\u001B[0m\u001B[37m\u001B[0m \u001B[1m1s\u001B[0m 21ms/step - accuracy: 0.9277 - loss: 0.1883 - val_accuracy: 0.9089 - val_loss: 0.2077\n",
      "Epoch 46/100\n",
      "\u001B[1m41/41\u001B[0m \u001B[32m━━━━━━━━━━━━━━━━━━━━\u001B[0m\u001B[37m\u001B[0m \u001B[1m1s\u001B[0m 23ms/step - accuracy: 0.9280 - loss: 0.1919 - val_accuracy: 0.9252 - val_loss: 0.1785\n",
      "Epoch 47/100\n",
      "\u001B[1m41/41\u001B[0m \u001B[32m━━━━━━━━━━━━━━━━━━━━\u001B[0m\u001B[37m\u001B[0m \u001B[1m1s\u001B[0m 22ms/step - accuracy: 0.9283 - loss: 0.1783 - val_accuracy: 0.9134 - val_loss: 0.1964\n",
      "Epoch 48/100\n",
      "\u001B[1m41/41\u001B[0m \u001B[32m━━━━━━━━━━━━━━━━━━━━\u001B[0m\u001B[37m\u001B[0m \u001B[1m1s\u001B[0m 21ms/step - accuracy: 0.9279 - loss: 0.1935 - val_accuracy: 0.9325 - val_loss: 0.1677\n",
      "Epoch 49/100\n",
      "\u001B[1m41/41\u001B[0m \u001B[32m━━━━━━━━━━━━━━━━━━━━\u001B[0m\u001B[37m\u001B[0m \u001B[1m1s\u001B[0m 21ms/step - accuracy: 0.9321 - loss: 0.1673 - val_accuracy: 0.9257 - val_loss: 0.1733\n",
      "Epoch 50/100\n",
      "\u001B[1m41/41\u001B[0m \u001B[32m━━━━━━━━━━━━━━━━━━━━\u001B[0m\u001B[37m\u001B[0m \u001B[1m1s\u001B[0m 22ms/step - accuracy: 0.9316 - loss: 0.1698 - val_accuracy: 0.9275 - val_loss: 0.1682\n",
      "Epoch 51/100\n",
      "\u001B[1m41/41\u001B[0m \u001B[32m━━━━━━━━━━━━━━━━━━━━\u001B[0m\u001B[37m\u001B[0m \u001B[1m1s\u001B[0m 21ms/step - accuracy: 0.9344 - loss: 0.1735 - val_accuracy: 0.9320 - val_loss: 0.1616\n",
      "Epoch 52/100\n",
      "\u001B[1m41/41\u001B[0m \u001B[32m━━━━━━━━━━━━━━━━━━━━\u001B[0m\u001B[37m\u001B[0m \u001B[1m1s\u001B[0m 23ms/step - accuracy: 0.9389 - loss: 0.1492 - val_accuracy: 0.9334 - val_loss: 0.1582\n",
      "Epoch 53/100\n",
      "\u001B[1m41/41\u001B[0m \u001B[32m━━━━━━━━━━━━━━━━━━━━\u001B[0m\u001B[37m\u001B[0m \u001B[1m1s\u001B[0m 21ms/step - accuracy: 0.9335 - loss: 0.1598 - val_accuracy: 0.9071 - val_loss: 0.2075\n",
      "Epoch 54/100\n",
      "\u001B[1m41/41\u001B[0m \u001B[32m━━━━━━━━━━━━━━━━━━━━\u001B[0m\u001B[37m\u001B[0m \u001B[1m1s\u001B[0m 22ms/step - accuracy: 0.9335 - loss: 0.1732 - val_accuracy: 0.9379 - val_loss: 0.1554\n",
      "Epoch 55/100\n",
      "\u001B[1m41/41\u001B[0m \u001B[32m━━━━━━━━━━━━━━━━━━━━\u001B[0m\u001B[37m\u001B[0m \u001B[1m1s\u001B[0m 21ms/step - accuracy: 0.9344 - loss: 0.1596 - val_accuracy: 0.9347 - val_loss: 0.1796\n",
      "Epoch 56/100\n",
      "\u001B[1m41/41\u001B[0m \u001B[32m━━━━━━━━━━━━━━━━━━━━\u001B[0m\u001B[37m\u001B[0m \u001B[1m1s\u001B[0m 20ms/step - accuracy: 0.9401 - loss: 0.1483 - val_accuracy: 0.9306 - val_loss: 0.1647\n",
      "Epoch 57/100\n",
      "\u001B[1m41/41\u001B[0m \u001B[32m━━━━━━━━━━━━━━━━━━━━\u001B[0m\u001B[37m\u001B[0m \u001B[1m1s\u001B[0m 20ms/step - accuracy: 0.9294 - loss: 0.1664 - val_accuracy: 0.9193 - val_loss: 0.2085\n",
      "Epoch 58/100\n",
      "\u001B[1m41/41\u001B[0m \u001B[32m━━━━━━━━━━━━━━━━━━━━\u001B[0m\u001B[37m\u001B[0m \u001B[1m1s\u001B[0m 17ms/step - accuracy: 0.9352 - loss: 0.1604 - val_accuracy: 0.9352 - val_loss: 0.1599\n",
      "Epoch 59/100\n",
      "\u001B[1m41/41\u001B[0m \u001B[32m━━━━━━━━━━━━━━━━━━━━\u001B[0m\u001B[37m\u001B[0m \u001B[1m1s\u001B[0m 23ms/step - accuracy: 0.9467 - loss: 0.1391 - val_accuracy: 0.9374 - val_loss: 0.1591\n",
      "Epoch 60/100\n",
      "\u001B[1m41/41\u001B[0m \u001B[32m━━━━━━━━━━━━━━━━━━━━\u001B[0m\u001B[37m\u001B[0m \u001B[1m1s\u001B[0m 21ms/step - accuracy: 0.9364 - loss: 0.1537 - val_accuracy: 0.9424 - val_loss: 0.1452\n",
      "Epoch 61/100\n",
      "\u001B[1m41/41\u001B[0m \u001B[32m━━━━━━━━━━━━━━━━━━━━\u001B[0m\u001B[37m\u001B[0m \u001B[1m1s\u001B[0m 22ms/step - accuracy: 0.9457 - loss: 0.1400 - val_accuracy: 0.9293 - val_loss: 0.1614\n",
      "Epoch 62/100\n",
      "\u001B[1m41/41\u001B[0m \u001B[32m━━━━━━━━━━━━━━━━━━━━\u001B[0m\u001B[37m\u001B[0m \u001B[1m1s\u001B[0m 21ms/step - accuracy: 0.9475 - loss: 0.1320 - val_accuracy: 0.9356 - val_loss: 0.1667\n",
      "Epoch 63/100\n",
      "\u001B[1m41/41\u001B[0m \u001B[32m━━━━━━━━━━━━━━━━━━━━\u001B[0m\u001B[37m\u001B[0m \u001B[1m1s\u001B[0m 23ms/step - accuracy: 0.9463 - loss: 0.1357 - val_accuracy: 0.9343 - val_loss: 0.1773\n",
      "Epoch 64/100\n",
      "\u001B[1m41/41\u001B[0m \u001B[32m━━━━━━━━━━━━━━━━━━━━\u001B[0m\u001B[37m\u001B[0m \u001B[1m1s\u001B[0m 21ms/step - accuracy: 0.9341 - loss: 0.1686 - val_accuracy: 0.9397 - val_loss: 0.1458\n",
      "Epoch 65/100\n",
      "\u001B[1m41/41\u001B[0m \u001B[32m━━━━━━━━━━━━━━━━━━━━\u001B[0m\u001B[37m\u001B[0m \u001B[1m1s\u001B[0m 21ms/step - accuracy: 0.9446 - loss: 0.1373 - val_accuracy: 0.9352 - val_loss: 0.1470\n",
      "Epoch 66/100\n",
      "\u001B[1m41/41\u001B[0m \u001B[32m━━━━━━━━━━━━━━━━━━━━\u001B[0m\u001B[37m\u001B[0m \u001B[1m1s\u001B[0m 20ms/step - accuracy: 0.9518 - loss: 0.1236 - val_accuracy: 0.9397 - val_loss: 0.1505\n",
      "Epoch 67/100\n",
      "\u001B[1m41/41\u001B[0m \u001B[32m━━━━━━━━━━━━━━━━━━━━\u001B[0m\u001B[37m\u001B[0m \u001B[1m1s\u001B[0m 21ms/step - accuracy: 0.9373 - loss: 0.1527 - val_accuracy: 0.9211 - val_loss: 0.2355\n",
      "Epoch 68/100\n",
      "\u001B[1m41/41\u001B[0m \u001B[32m━━━━━━━━━━━━━━━━━━━━\u001B[0m\u001B[37m\u001B[0m \u001B[1m1s\u001B[0m 21ms/step - accuracy: 0.9416 - loss: 0.1540 - val_accuracy: 0.9461 - val_loss: 0.1381\n",
      "Epoch 69/100\n",
      "\u001B[1m41/41\u001B[0m \u001B[32m━━━━━━━━━━━━━━━━━━━━\u001B[0m\u001B[37m\u001B[0m \u001B[1m1s\u001B[0m 21ms/step - accuracy: 0.9515 - loss: 0.1200 - val_accuracy: 0.9547 - val_loss: 0.1325\n",
      "Epoch 70/100\n",
      "\u001B[1m41/41\u001B[0m \u001B[32m━━━━━━━━━━━━━━━━━━━━\u001B[0m\u001B[37m\u001B[0m \u001B[1m1s\u001B[0m 21ms/step - accuracy: 0.9466 - loss: 0.1355 - val_accuracy: 0.9447 - val_loss: 0.1425\n",
      "Epoch 71/100\n",
      "\u001B[1m41/41\u001B[0m \u001B[32m━━━━━━━━━━━━━━━━━━━━\u001B[0m\u001B[37m\u001B[0m \u001B[1m1s\u001B[0m 25ms/step - accuracy: 0.9525 - loss: 0.1216 - val_accuracy: 0.9234 - val_loss: 0.1825\n",
      "Epoch 72/100\n",
      "\u001B[1m41/41\u001B[0m \u001B[32m━━━━━━━━━━━━━━━━━━━━\u001B[0m\u001B[37m\u001B[0m \u001B[1m1s\u001B[0m 24ms/step - accuracy: 0.9456 - loss: 0.1430 - val_accuracy: 0.9334 - val_loss: 0.1718\n",
      "Epoch 73/100\n",
      "\u001B[1m41/41\u001B[0m \u001B[32m━━━━━━━━━━━━━━━━━━━━\u001B[0m\u001B[37m\u001B[0m \u001B[1m1s\u001B[0m 21ms/step - accuracy: 0.9444 - loss: 0.1431 - val_accuracy: 0.9320 - val_loss: 0.1866\n",
      "Epoch 74/100\n",
      "\u001B[1m41/41\u001B[0m \u001B[32m━━━━━━━━━━━━━━━━━━━━\u001B[0m\u001B[37m\u001B[0m \u001B[1m1s\u001B[0m 31ms/step - accuracy: 0.9510 - loss: 0.1125 - val_accuracy: 0.9383 - val_loss: 0.1559\n",
      "Epoch 75/100\n",
      "\u001B[1m41/41\u001B[0m \u001B[32m━━━━━━━━━━━━━━━━━━━━\u001B[0m\u001B[37m\u001B[0m \u001B[1m1s\u001B[0m 25ms/step - accuracy: 0.9537 - loss: 0.1245 - val_accuracy: 0.9397 - val_loss: 0.1555\n",
      "Epoch 76/100\n",
      "\u001B[1m41/41\u001B[0m \u001B[32m━━━━━━━━━━━━━━━━━━━━\u001B[0m\u001B[37m\u001B[0m \u001B[1m1s\u001B[0m 21ms/step - accuracy: 0.9491 - loss: 0.1158 - val_accuracy: 0.9470 - val_loss: 0.1530\n",
      "Epoch 77/100\n",
      "\u001B[1m41/41\u001B[0m \u001B[32m━━━━━━━━━━━━━━━━━━━━\u001B[0m\u001B[37m\u001B[0m \u001B[1m1s\u001B[0m 22ms/step - accuracy: 0.9547 - loss: 0.1178 - val_accuracy: 0.9352 - val_loss: 0.1762\n",
      "Epoch 78/100\n",
      "\u001B[1m41/41\u001B[0m \u001B[32m━━━━━━━━━━━━━━━━━━━━\u001B[0m\u001B[37m\u001B[0m \u001B[1m1s\u001B[0m 19ms/step - accuracy: 0.9538 - loss: 0.1185 - val_accuracy: 0.9415 - val_loss: 0.1460\n",
      "Epoch 79/100\n",
      "\u001B[1m41/41\u001B[0m \u001B[32m━━━━━━━━━━━━━━━━━━━━\u001B[0m\u001B[37m\u001B[0m \u001B[1m1s\u001B[0m 19ms/step - accuracy: 0.9566 - loss: 0.1133 - val_accuracy: 0.9533 - val_loss: 0.1284\n",
      "Epoch 80/100\n",
      "\u001B[1m41/41\u001B[0m \u001B[32m━━━━━━━━━━━━━━━━━━━━\u001B[0m\u001B[37m\u001B[0m \u001B[1m1s\u001B[0m 20ms/step - accuracy: 0.9611 - loss: 0.1048 - val_accuracy: 0.9538 - val_loss: 0.1229\n",
      "Epoch 81/100\n",
      "\u001B[1m41/41\u001B[0m \u001B[32m━━━━━━━━━━━━━━━━━━━━\u001B[0m\u001B[37m\u001B[0m \u001B[1m1s\u001B[0m 20ms/step - accuracy: 0.9562 - loss: 0.1221 - val_accuracy: 0.9542 - val_loss: 0.1259\n",
      "Epoch 82/100\n",
      "\u001B[1m41/41\u001B[0m \u001B[32m━━━━━━━━━━━━━━━━━━━━\u001B[0m\u001B[37m\u001B[0m \u001B[1m1s\u001B[0m 20ms/step - accuracy: 0.9578 - loss: 0.1181 - val_accuracy: 0.9529 - val_loss: 0.1259\n",
      "Epoch 83/100\n",
      "\u001B[1m41/41\u001B[0m \u001B[32m━━━━━━━━━━━━━━━━━━━━\u001B[0m\u001B[37m\u001B[0m \u001B[1m1s\u001B[0m 19ms/step - accuracy: 0.9648 - loss: 0.0964 - val_accuracy: 0.9529 - val_loss: 0.1319\n",
      "Epoch 84/100\n",
      "\u001B[1m41/41\u001B[0m \u001B[32m━━━━━━━━━━━━━━━━━━━━\u001B[0m\u001B[37m\u001B[0m \u001B[1m1s\u001B[0m 19ms/step - accuracy: 0.9616 - loss: 0.1042 - val_accuracy: 0.9538 - val_loss: 0.1219\n",
      "Epoch 85/100\n",
      "\u001B[1m41/41\u001B[0m \u001B[32m━━━━━━━━━━━━━━━━━━━━\u001B[0m\u001B[37m\u001B[0m \u001B[1m1s\u001B[0m 20ms/step - accuracy: 0.9655 - loss: 0.0942 - val_accuracy: 0.9506 - val_loss: 0.1204\n",
      "Epoch 86/100\n",
      "\u001B[1m41/41\u001B[0m \u001B[32m━━━━━━━━━━━━━━━━━━━━\u001B[0m\u001B[37m\u001B[0m \u001B[1m1s\u001B[0m 20ms/step - accuracy: 0.9640 - loss: 0.1016 - val_accuracy: 0.9356 - val_loss: 0.1914\n",
      "Epoch 87/100\n",
      "\u001B[1m41/41\u001B[0m \u001B[32m━━━━━━━━━━━━━━━━━━━━\u001B[0m\u001B[37m\u001B[0m \u001B[1m1s\u001B[0m 20ms/step - accuracy: 0.9619 - loss: 0.0959 - val_accuracy: 0.9470 - val_loss: 0.1474\n",
      "Epoch 88/100\n",
      "\u001B[1m41/41\u001B[0m \u001B[32m━━━━━━━━━━━━━━━━━━━━\u001B[0m\u001B[37m\u001B[0m \u001B[1m1s\u001B[0m 24ms/step - accuracy: 0.9603 - loss: 0.1076 - val_accuracy: 0.9483 - val_loss: 0.1354\n",
      "Epoch 89/100\n",
      "\u001B[1m41/41\u001B[0m \u001B[32m━━━━━━━━━━━━━━━━━━━━\u001B[0m\u001B[37m\u001B[0m \u001B[1m1s\u001B[0m 20ms/step - accuracy: 0.9599 - loss: 0.0906 - val_accuracy: 0.9601 - val_loss: 0.1158\n",
      "Epoch 90/100\n",
      "\u001B[1m41/41\u001B[0m \u001B[32m━━━━━━━━━━━━━━━━━━━━\u001B[0m\u001B[37m\u001B[0m \u001B[1m1s\u001B[0m 20ms/step - accuracy: 0.9654 - loss: 0.0890 - val_accuracy: 0.9397 - val_loss: 0.1608\n",
      "Epoch 91/100\n",
      "\u001B[1m41/41\u001B[0m \u001B[32m━━━━━━━━━━━━━━━━━━━━\u001B[0m\u001B[37m\u001B[0m \u001B[1m1s\u001B[0m 20ms/step - accuracy: 0.9610 - loss: 0.1036 - val_accuracy: 0.9420 - val_loss: 0.1365\n",
      "Epoch 92/100\n",
      "\u001B[1m41/41\u001B[0m \u001B[32m━━━━━━━━━━━━━━━━━━━━\u001B[0m\u001B[37m\u001B[0m \u001B[1m1s\u001B[0m 21ms/step - accuracy: 0.9630 - loss: 0.0967 - val_accuracy: 0.9547 - val_loss: 0.1128\n",
      "Epoch 93/100\n",
      "\u001B[1m41/41\u001B[0m \u001B[32m━━━━━━━━━━━━━━━━━━━━\u001B[0m\u001B[37m\u001B[0m \u001B[1m1s\u001B[0m 20ms/step - accuracy: 0.9640 - loss: 0.0982 - val_accuracy: 0.9510 - val_loss: 0.1339\n",
      "Epoch 94/100\n",
      "\u001B[1m41/41\u001B[0m \u001B[32m━━━━━━━━━━━━━━━━━━━━\u001B[0m\u001B[37m\u001B[0m \u001B[1m1s\u001B[0m 20ms/step - accuracy: 0.9591 - loss: 0.1064 - val_accuracy: 0.9587 - val_loss: 0.1232\n",
      "Epoch 95/100\n",
      "\u001B[1m41/41\u001B[0m \u001B[32m━━━━━━━━━━━━━━━━━━━━\u001B[0m\u001B[37m\u001B[0m \u001B[1m1s\u001B[0m 20ms/step - accuracy: 0.9638 - loss: 0.0918 - val_accuracy: 0.9497 - val_loss: 0.1287\n",
      "Epoch 96/100\n",
      "\u001B[1m41/41\u001B[0m \u001B[32m━━━━━━━━━━━━━━━━━━━━\u001B[0m\u001B[37m\u001B[0m \u001B[1m1s\u001B[0m 20ms/step - accuracy: 0.9596 - loss: 0.0949 - val_accuracy: 0.9628 - val_loss: 0.1164\n",
      "Epoch 97/100\n",
      "\u001B[1m41/41\u001B[0m \u001B[32m━━━━━━━━━━━━━━━━━━━━\u001B[0m\u001B[37m\u001B[0m \u001B[1m1s\u001B[0m 20ms/step - accuracy: 0.9652 - loss: 0.0858 - val_accuracy: 0.9560 - val_loss: 0.1239\n",
      "Epoch 98/100\n",
      "\u001B[1m41/41\u001B[0m \u001B[32m━━━━━━━━━━━━━━━━━━━━\u001B[0m\u001B[37m\u001B[0m \u001B[1m1s\u001B[0m 20ms/step - accuracy: 0.9677 - loss: 0.0869 - val_accuracy: 0.9501 - val_loss: 0.1478\n",
      "Epoch 99/100\n",
      "\u001B[1m41/41\u001B[0m \u001B[32m━━━━━━━━━━━━━━━━━━━━\u001B[0m\u001B[37m\u001B[0m \u001B[1m1s\u001B[0m 20ms/step - accuracy: 0.9659 - loss: 0.0881 - val_accuracy: 0.9587 - val_loss: 0.1134\n",
      "Epoch 100/100\n",
      "\u001B[1m41/41\u001B[0m \u001B[32m━━━━━━━━━━━━━━━━━━━━\u001B[0m\u001B[37m\u001B[0m \u001B[1m1s\u001B[0m 21ms/step - accuracy: 0.9707 - loss: 0.0767 - val_accuracy: 0.9488 - val_loss: 0.1377\n"
     ]
    },
    {
     "data": {
      "text/plain": [
       "<Figure size 1000x600 with 1 Axes>"
      ],
      "image/png": "[encoded data removed]"
     },
     "metadata": {},
     "output_type": "display_data"
    }
   ],
   "execution_count": 83
  },
  {
   "metadata": {},
   "cell_type": "code",
   "outputs": [],
   "execution_count": null,
   "source": ""
  }
 ],
 "metadata": {
  "kernelspec": {
   "display_name": "Python 3",
   "language": "python",
   "name": "python3"
  },
  "language_info": {
   "codemirror_mode": {
    "name": "ipython",
    "version": 3
   },
   "file_extension": ".py",
   "mimetype": "text/x-python",
   "name": "python",
   "nbconvert_exporter": "python",
   "pygments_lexer": "ipython3",
   "version": "3.7.6"
  },
  "papermill": {
   "duration": 187.689724,
   "end_time": "2020-10-24T19:03:50.724854",
   "environment_variables": {},
   "exception": null,
   "input_path": "__notebook__.ipynb",
   "output_path": "__notebook__.ipynb",
   "parameters": {},
   "start_time": "2020-10-24T19:00:43.035130",
   "version": "2.1.0"
  }
 },
 "nbformat": 4,
 "nbformat_minor": 4
}
