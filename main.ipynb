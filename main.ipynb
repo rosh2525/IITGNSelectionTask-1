{
 "cells": [
  {
   "metadata": {
    "ExecuteTime": {
     "end_time": "2025-02-26T10:59:16.198855Z",
     "start_time": "2025-02-26T10:59:13.587377Z"
    }
   },
   "cell_type": "code",
   "source": [
    "import torch\n",
    "if torch.backends.mps.is_available():\n",
    "    mps_device = torch.device(\"mps\")\n",
    "    x = torch.ones(1, device=mps_device)\n",
    "    print (x)\n",
    "else:\n",
    "    print (\"MPS device not found.\")"
   ],
   "id": "7c9290affc6a2bc9",
   "outputs": [
    {
     "name": "stdout",
     "output_type": "stream",
     "text": [
      "tensor([1.], device='mps:0')\n"
     ]
    }
   ],
   "execution_count": 3
  },
  {
   "cell_type": "code",
   "id": "initial_id",
   "metadata": {
    "collapsed": true,
    "ExecuteTime": {
     "end_time": "2025-02-26T10:59:54.147265Z",
     "start_time": "2025-02-26T10:59:54.137638Z"
    }
   },
   "source": [
    "import numpy as np\n",
    "import pandas as pd\n",
    "\n",
    "import os\n",
    "for dirname, _, filenames in os.walk('UCI-HAR Dataset'):\n",
    "    for filename in filenames:\n",
    "        print(os.path.join(dirname, filename))"
   ],
   "outputs": [
    {
     "name": "stdout",
     "output_type": "stream",
     "text": [
      "UCI-HAR Dataset/features.txt\n",
      "UCI-HAR Dataset/activity_labels.txt\n",
      "UCI-HAR Dataset/features_info.txt\n",
      "UCI-HAR Dataset/README.txt\n",
      "UCI-HAR Dataset/test/subject_test.txt\n",
      "UCI-HAR Dataset/test/X_test.txt\n",
      "UCI-HAR Dataset/test/y_test.txt\n",
      "UCI-HAR Dataset/test/Inertial Signals/total_acc_y_test.txt\n",
      "UCI-HAR Dataset/test/Inertial Signals/total_acc_x_test.txt\n",
      "UCI-HAR Dataset/test/Inertial Signals/body_acc_x_test.txt\n",
      "UCI-HAR Dataset/test/Inertial Signals/body_acc_y_test.txt\n",
      "UCI-HAR Dataset/test/Inertial Signals/body_gyro_y_test.txt\n",
      "UCI-HAR Dataset/test/Inertial Signals/body_gyro_x_test.txt\n",
      "UCI-HAR Dataset/test/Inertial Signals/total_acc_z_test.txt\n",
      "UCI-HAR Dataset/test/Inertial Signals/body_gyro_z_test.txt\n",
      "UCI-HAR Dataset/test/Inertial Signals/body_acc_z_test.txt\n",
      "UCI-HAR Dataset/train/X_train.txt\n",
      "UCI-HAR Dataset/train/y_train.txt\n",
      "UCI-HAR Dataset/train/subject_train.txt\n",
      "UCI-HAR Dataset/train/Inertial Signals/body_gyro_z_train.txt\n",
      "UCI-HAR Dataset/train/Inertial Signals/body_acc_y_train.txt\n",
      "UCI-HAR Dataset/train/Inertial Signals/total_acc_z_train.txt\n",
      "UCI-HAR Dataset/train/Inertial Signals/body_acc_x_train.txt\n",
      "UCI-HAR Dataset/train/Inertial Signals/body_gyro_x_train.txt\n",
      "UCI-HAR Dataset/train/Inertial Signals/total_acc_y_train.txt\n",
      "UCI-HAR Dataset/train/Inertial Signals/body_gyro_y_train.txt\n",
      "UCI-HAR Dataset/train/Inertial Signals/total_acc_x_train.txt\n",
      "UCI-HAR Dataset/train/Inertial Signals/body_acc_z_train.txt\n"
     ]
    }
   ],
   "execution_count": 4
  },
  {
   "metadata": {
    "ExecuteTime": {
     "end_time": "2025-02-26T11:02:14.232378Z",
     "start_time": "2025-02-26T11:02:13.226333Z"
    }
   },
   "cell_type": "code",
   "source": [
    "# Train data\n",
    "body_acc_x_train = pd.read_csv('UCI-HAR Dataset/train/Inertial Signals/body_acc_x_train.txt', delim_whitespace=True, header=None)\n",
    "body_acc_y_train = pd.read_csv('UCI-HAR Dataset/train/Inertial Signals/body_acc_y_train.txt', delim_whitespace=True, header=None)\n",
    "body_acc_z_train = pd.read_csv('UCI-HAR Dataset/train/Inertial Signals/body_acc_z_train.txt', delim_whitespace=True, header=None)\n",
    "body_gyro_x_train = pd.read_csv('UCI-HAR Dataset/train/Inertial Signals/body_gyro_x_train.txt', delim_whitespace=True, header=None)\n",
    "body_gyro_y_train = pd.read_csv('UCI-HAR Dataset/train/Inertial Signals/body_gyro_y_train.txt', delim_whitespace=True, header=None)\n",
    "body_gyro_z_train = pd.read_csv('UCI-HAR Dataset/train/Inertial Signals/body_gyro_z_train.txt', delim_whitespace=True, header=None)\n",
    "total_acc_x_train = pd.read_csv('UCI-HAR Dataset/train/Inertial Signals/total_acc_x_train.txt', delim_whitespace=True, header=None)\n",
    "total_acc_y_train = pd.read_csv('UCI-HAR Dataset/train/Inertial Signals/total_acc_y_train.txt', delim_whitespace=True, header=None)\n",
    "total_acc_z_train = pd.read_csv('UCI-HAR Dataset/train/Inertial Signals/total_acc_z_train.txt', delim_whitespace=True, header=None)\n",
    "\n",
    "# Test data\n",
    "body_acc_x_test = pd.read_csv('UCI-HAR Dataset/test/Inertial Signals/body_acc_x_test.txt', delim_whitespace=True, header=None)\n",
    "body_acc_y_test = pd.read_csv('UCI-HAR Dataset/test/Inertial Signals/body_acc_y_test.txt', delim_whitespace=True, header=None)\n",
    "body_acc_z_test = pd.read_csv('UCI-HAR Dataset/test/Inertial Signals/body_acc_z_test.txt', delim_whitespace=True, header=None)\n",
    "body_gyro_x_test = pd.read_csv('UCI-HAR Dataset/test/Inertial Signals/body_gyro_x_test.txt', delim_whitespace=True, header=None)\n",
    "body_gyro_y_test = pd.read_csv('UCI-HAR Dataset/test/Inertial Signals/body_gyro_y_test.txt', delim_whitespace=True, header=None)\n",
    "body_gyro_z_test = pd.read_csv('UCI-HAR Dataset/test/Inertial Signals/body_gyro_z_test.txt', delim_whitespace=True, header=None)\n",
    "total_acc_x_test = pd.read_csv('UCI-HAR Dataset/test/Inertial Signals/total_acc_x_test.txt', delim_whitespace=True, header=None)\n",
    "total_acc_y_test = pd.read_csv('UCI-HAR Dataset/test/Inertial Signals/total_acc_y_test.txt', delim_whitespace=True, header=None)\n",
    "total_acc_z_test = pd.read_csv('UCI-HAR Dataset/test/Inertial Signals/total_acc_z_test.txt', delim_whitespace=True, header=None)"
   ],
   "id": "458f0b9b968501cb",
   "outputs": [
    {
     "name": "stderr",
     "output_type": "stream",
     "text": [
      "/var/folders/p3/nztkj0p504z32rp7hy7rn3900000gn/T/ipykernel_87467/2055133109.py:2: FutureWarning: The 'delim_whitespace' keyword in pd.read_csv is deprecated and will be removed in a future version. Use ``sep='\\s+'`` instead\n",
      "  body_acc_x_train = pd.read_csv('UCI-HAR Dataset/train/Inertial Signals/body_acc_x_train.txt', delim_whitespace=True, header=None)\n",
      "/var/folders/p3/nztkj0p504z32rp7hy7rn3900000gn/T/ipykernel_87467/2055133109.py:3: FutureWarning: The 'delim_whitespace' keyword in pd.read_csv is deprecated and will be removed in a future version. Use ``sep='\\s+'`` instead\n",
      "  body_acc_y_train = pd.read_csv('UCI-HAR Dataset/train/Inertial Signals/body_acc_y_train.txt', delim_whitespace=True, header=None)\n",
      "/var/folders/p3/nztkj0p504z32rp7hy7rn3900000gn/T/ipykernel_87467/2055133109.py:4: FutureWarning: The 'delim_whitespace' keyword in pd.read_csv is deprecated and will be removed in a future version. Use ``sep='\\s+'`` instead\n",
      "  body_acc_z_train = pd.read_csv('UCI-HAR Dataset/train/Inertial Signals/body_acc_z_train.txt', delim_whitespace=True, header=None)\n",
      "/var/folders/p3/nztkj0p504z32rp7hy7rn3900000gn/T/ipykernel_87467/2055133109.py:5: FutureWarning: The 'delim_whitespace' keyword in pd.read_csv is deprecated and will be removed in a future version. Use ``sep='\\s+'`` instead\n",
      "  body_gyro_x_train = pd.read_csv('UCI-HAR Dataset/train/Inertial Signals/body_gyro_x_train.txt', delim_whitespace=True, header=None)\n",
      "/var/folders/p3/nztkj0p504z32rp7hy7rn3900000gn/T/ipykernel_87467/2055133109.py:6: FutureWarning: The 'delim_whitespace' keyword in pd.read_csv is deprecated and will be removed in a future version. Use ``sep='\\s+'`` instead\n",
      "  body_gyro_y_train = pd.read_csv('UCI-HAR Dataset/train/Inertial Signals/body_gyro_y_train.txt', delim_whitespace=True, header=None)\n",
      "/var/folders/p3/nztkj0p504z32rp7hy7rn3900000gn/T/ipykernel_87467/2055133109.py:7: FutureWarning: The 'delim_whitespace' keyword in pd.read_csv is deprecated and will be removed in a future version. Use ``sep='\\s+'`` instead\n",
      "  body_gyro_z_train = pd.read_csv('UCI-HAR Dataset/train/Inertial Signals/body_gyro_z_train.txt', delim_whitespace=True, header=None)\n",
      "/var/folders/p3/nztkj0p504z32rp7hy7rn3900000gn/T/ipykernel_87467/2055133109.py:8: FutureWarning: The 'delim_whitespace' keyword in pd.read_csv is deprecated and will be removed in a future version. Use ``sep='\\s+'`` instead\n",
      "  total_acc_x_train = pd.read_csv('UCI-HAR Dataset/train/Inertial Signals/total_acc_x_train.txt', delim_whitespace=True, header=None)\n",
      "/var/folders/p3/nztkj0p504z32rp7hy7rn3900000gn/T/ipykernel_87467/2055133109.py:9: FutureWarning: The 'delim_whitespace' keyword in pd.read_csv is deprecated and will be removed in a future version. Use ``sep='\\s+'`` instead\n",
      "  total_acc_y_train = pd.read_csv('UCI-HAR Dataset/train/Inertial Signals/total_acc_y_train.txt', delim_whitespace=True, header=None)\n",
      "/var/folders/p3/nztkj0p504z32rp7hy7rn3900000gn/T/ipykernel_87467/2055133109.py:10: FutureWarning: The 'delim_whitespace' keyword in pd.read_csv is deprecated and will be removed in a future version. Use ``sep='\\s+'`` instead\n",
      "  total_acc_z_train = pd.read_csv('UCI-HAR Dataset/train/Inertial Signals/total_acc_z_train.txt', delim_whitespace=True, header=None)\n",
      "/var/folders/p3/nztkj0p504z32rp7hy7rn3900000gn/T/ipykernel_87467/2055133109.py:13: FutureWarning: The 'delim_whitespace' keyword in pd.read_csv is deprecated and will be removed in a future version. Use ``sep='\\s+'`` instead\n",
      "  body_acc_x_test = pd.read_csv('UCI-HAR Dataset/test/Inertial Signals/body_acc_x_test.txt', delim_whitespace=True, header=None)\n",
      "/var/folders/p3/nztkj0p504z32rp7hy7rn3900000gn/T/ipykernel_87467/2055133109.py:14: FutureWarning: The 'delim_whitespace' keyword in pd.read_csv is deprecated and will be removed in a future version. Use ``sep='\\s+'`` instead\n",
      "  body_acc_y_test = pd.read_csv('UCI-HAR Dataset/test/Inertial Signals/body_acc_y_test.txt', delim_whitespace=True, header=None)\n",
      "/var/folders/p3/nztkj0p504z32rp7hy7rn3900000gn/T/ipykernel_87467/2055133109.py:15: FutureWarning: The 'delim_whitespace' keyword in pd.read_csv is deprecated and will be removed in a future version. Use ``sep='\\s+'`` instead\n",
      "  body_acc_z_test = pd.read_csv('UCI-HAR Dataset/test/Inertial Signals/body_acc_z_test.txt', delim_whitespace=True, header=None)\n",
      "/var/folders/p3/nztkj0p504z32rp7hy7rn3900000gn/T/ipykernel_87467/2055133109.py:16: FutureWarning: The 'delim_whitespace' keyword in pd.read_csv is deprecated and will be removed in a future version. Use ``sep='\\s+'`` instead\n",
      "  body_gyro_x_test = pd.read_csv('UCI-HAR Dataset/test/Inertial Signals/body_gyro_x_test.txt', delim_whitespace=True, header=None)\n",
      "/var/folders/p3/nztkj0p504z32rp7hy7rn3900000gn/T/ipykernel_87467/2055133109.py:17: FutureWarning: The 'delim_whitespace' keyword in pd.read_csv is deprecated and will be removed in a future version. Use ``sep='\\s+'`` instead\n",
      "  body_gyro_y_test = pd.read_csv('UCI-HAR Dataset/test/Inertial Signals/body_gyro_y_test.txt', delim_whitespace=True, header=None)\n",
      "/var/folders/p3/nztkj0p504z32rp7hy7rn3900000gn/T/ipykernel_87467/2055133109.py:18: FutureWarning: The 'delim_whitespace' keyword in pd.read_csv is deprecated and will be removed in a future version. Use ``sep='\\s+'`` instead\n",
      "  body_gyro_z_test = pd.read_csv('UCI-HAR Dataset/test/Inertial Signals/body_gyro_z_test.txt', delim_whitespace=True, header=None)\n",
      "/var/folders/p3/nztkj0p504z32rp7hy7rn3900000gn/T/ipykernel_87467/2055133109.py:19: FutureWarning: The 'delim_whitespace' keyword in pd.read_csv is deprecated and will be removed in a future version. Use ``sep='\\s+'`` instead\n",
      "  total_acc_x_test = pd.read_csv('UCI-HAR Dataset/test/Inertial Signals/total_acc_x_test.txt', delim_whitespace=True, header=None)\n",
      "/var/folders/p3/nztkj0p504z32rp7hy7rn3900000gn/T/ipykernel_87467/2055133109.py:20: FutureWarning: The 'delim_whitespace' keyword in pd.read_csv is deprecated and will be removed in a future version. Use ``sep='\\s+'`` instead\n",
      "  total_acc_y_test = pd.read_csv('UCI-HAR Dataset/test/Inertial Signals/total_acc_y_test.txt', delim_whitespace=True, header=None)\n",
      "/var/folders/p3/nztkj0p504z32rp7hy7rn3900000gn/T/ipykernel_87467/2055133109.py:21: FutureWarning: The 'delim_whitespace' keyword in pd.read_csv is deprecated and will be removed in a future version. Use ``sep='\\s+'`` instead\n",
      "  total_acc_z_test = pd.read_csv('UCI-HAR Dataset/test/Inertial Signals/total_acc_z_test.txt', delim_whitespace=True, header=None)\n"
     ]
    }
   ],
   "execution_count": 5
  },
  {
   "metadata": {
    "ExecuteTime": {
     "end_time": "2025-02-26T11:02:32.571272Z",
     "start_time": "2025-02-26T11:02:32.538946Z"
    }
   },
   "cell_type": "code",
   "source": "body_gyro_x_train.sample()",
   "id": "cceaa80138c669bf",
   "outputs": [
    {
     "data": {
      "text/plain": [
       "          0         1         2         3         4         5         6    \\\n",
       "505  0.146917  0.031772  0.021415  0.108505  0.216917  0.485596  0.623303   \n",
       "\n",
       "          7         8         9    ...       118       119       120  \\\n",
       "505  0.586038  0.586121  0.553289  ...  0.610985  0.460209  0.116226   \n",
       "\n",
       "          121       122       123       124       125       126      127  \n",
       "505 -0.177168 -0.314786 -0.408742 -0.421173 -0.369336 -0.284945 -0.14704  \n",
       "\n",
       "[1 rows x 128 columns]"
      ],
      "text/html": [
       "<div>\n",
       "<style scoped>\n",
       "    .dataframe tbody tr th:only-of-type {\n",
       "        vertical-align: middle;\n",
       "    }\n",
       "\n",
       "    .dataframe tbody tr th {\n",
       "        vertical-align: top;\n",
       "    }\n",
       "\n",
       "    .dataframe thead th {\n",
       "        text-align: right;\n",
       "    }\n",
       "</style>\n",
       "<table border=\"1\" class=\"dataframe\">\n",
       "  <thead>\n",
       "    <tr style=\"text-align: right;\">\n",
       "      <th></th>\n",
       "      <th>0</th>\n",
       "      <th>1</th>\n",
       "      <th>2</th>\n",
       "      <th>3</th>\n",
       "      <th>4</th>\n",
       "      <th>5</th>\n",
       "      <th>6</th>\n",
       "      <th>7</th>\n",
       "      <th>8</th>\n",
       "      <th>9</th>\n",
       "      <th>...</th>\n",
       "      <th>118</th>\n",
       "      <th>119</th>\n",
       "      <th>120</th>\n",
       "      <th>121</th>\n",
       "      <th>122</th>\n",
       "      <th>123</th>\n",
       "      <th>124</th>\n",
       "      <th>125</th>\n",
       "      <th>126</th>\n",
       "      <th>127</th>\n",
       "    </tr>\n",
       "  </thead>\n",
       "  <tbody>\n",
       "    <tr>\n",
       "      <th>505</th>\n",
       "      <td>0.146917</td>\n",
       "      <td>0.031772</td>\n",
       "      <td>0.021415</td>\n",
       "      <td>0.108505</td>\n",
       "      <td>0.216917</td>\n",
       "      <td>0.485596</td>\n",
       "      <td>0.623303</td>\n",
       "      <td>0.586038</td>\n",
       "      <td>0.586121</td>\n",
       "      <td>0.553289</td>\n",
       "      <td>...</td>\n",
       "      <td>0.610985</td>\n",
       "      <td>0.460209</td>\n",
       "      <td>0.116226</td>\n",
       "      <td>-0.177168</td>\n",
       "      <td>-0.314786</td>\n",
       "      <td>-0.408742</td>\n",
       "      <td>-0.421173</td>\n",
       "      <td>-0.369336</td>\n",
       "      <td>-0.284945</td>\n",
       "      <td>-0.14704</td>\n",
       "    </tr>\n",
       "  </tbody>\n",
       "</table>\n",
       "<p>1 rows × 128 columns</p>\n",
       "</div>"
      ]
     },
     "execution_count": 6,
     "metadata": {},
     "output_type": "execute_result"
    }
   ],
   "execution_count": 6
  },
  {
   "metadata": {},
   "cell_type": "markdown",
   "source": "# PCA TO REDUCE FEATURES",
   "id": "bdc56a623f0ded9c"
  },
  {
   "metadata": {
    "ExecuteTime": {
     "end_time": "2025-02-26T11:09:16.931363Z",
     "start_time": "2025-02-26T11:09:16.896496Z"
    }
   },
   "cell_type": "code",
   "source": [
    "from sklearn.decomposition import PCA\n",
    "\n",
    "pca = PCA(n_components=0.9)\n",
    "body_acc_x_train_reduce = pd.DataFrame(pca.fit_transform(body_acc_x_train))\n",
    "body_acc_x_test_reduce = pd.DataFrame(pca.transform(body_acc_x_test))\n",
    "\n",
    "body_acc_y_train_reduce = pd.DataFrame(pca.fit_transform(body_acc_y_train))\n",
    "body_acc_y_test_reduce = pd.DataFrame(pca.transform(body_acc_y_test))\n",
    "\n",
    "body_acc_z_train_reduce = pd.DataFrame(pca.fit_transform(body_acc_z_train))\n",
    "body_acc_z_test_reduce = pd.DataFrame(pca.transform(body_acc_z_test))\n",
    "\n",
    "body_gyro_x_train_reduce = pd.DataFrame(pca.fit_transform(body_gyro_x_train))\n",
    "body_gyro_x_test_reduce = pd.DataFrame(pca.transform(body_gyro_x_test))\n",
    "\n",
    "body_gyro_y_train_reduce = pd.DataFrame(pca.fit_transform(body_gyro_y_train))\n",
    "body_gyro_y_test_reduce = pd.DataFrame(pca.transform(body_gyro_y_test))\n",
    "\n",
    "body_gyro_z_train_reduce = pd.DataFrame(pca.fit_transform(body_gyro_z_train))\n",
    "body_gyro_z_test_reduce = pd.DataFrame(pca.transform(body_gyro_z_test))\n",
    "\n",
    "total_acc_x_train_reduce = pd.DataFrame(pca.fit_transform(total_acc_x_train))\n",
    "total_acc_x_test_reduce = pd.DataFrame(pca.transform(total_acc_x_test))\n",
    "\n",
    "total_acc_y_train_reduce = pd.DataFrame(pca.fit_transform(total_acc_y_train))\n",
    "total_acc_y_test_reduce = pd.DataFrame(pca.transform(total_acc_y_test))\n",
    "\n",
    "total_acc_z_train_reduce = pd.DataFrame(pca.fit_transform(total_acc_z_train))\n",
    "total_acc_z_test_reduce = pd.DataFrame(pca.transform(total_acc_z_test))\n",
    "\n",
    "body_acc_x_train_reduce.shape"
   ],
   "id": "c3cd21798cb611a0",
   "outputs": [
    {
     "ename": "ModuleNotFoundError",
     "evalue": "No module named 'sklearn'",
     "output_type": "error",
     "traceback": [
      "\u001B[0;31m---------------------------------------------------------------------------\u001B[0m",
      "\u001B[0;31mModuleNotFoundError\u001B[0m                       Traceback (most recent call last)",
      "Cell \u001B[0;32mIn[7], line 1\u001B[0m\n\u001B[0;32m----> 1\u001B[0m \u001B[38;5;28;01mfrom\u001B[39;00m\u001B[38;5;250m \u001B[39m\u001B[38;5;21;01msklearn\u001B[39;00m\u001B[38;5;21;01m.\u001B[39;00m\u001B[38;5;21;01mdecomposition\u001B[39;00m\u001B[38;5;250m \u001B[39m\u001B[38;5;28;01mimport\u001B[39;00m PCA \u001B[38;5;66;03m#PCA 적용\u001B[39;00m\n\u001B[1;32m      3\u001B[0m pca \u001B[38;5;241m=\u001B[39m PCA(n_components\u001B[38;5;241m=\u001B[39m\u001B[38;5;241m0.9\u001B[39m)\n\u001B[1;32m      4\u001B[0m body_acc_x_train_reduce \u001B[38;5;241m=\u001B[39m pd\u001B[38;5;241m.\u001B[39mDataFrame(pca\u001B[38;5;241m.\u001B[39mfit_transform(body_acc_x_train))\n",
      "\u001B[0;31mModuleNotFoundError\u001B[0m: No module named 'sklearn'"
     ]
    }
   ],
   "execution_count": 7
  },
  {
   "metadata": {},
   "cell_type": "code",
   "outputs": [],
   "execution_count": null,
   "source": "",
   "id": "54c0ae3e3166c4eb"
  }
 ],
 "metadata": {
  "kernelspec": {
   "display_name": "Python 3",
   "language": "python",
   "name": "python3"
  },
  "language_info": {
   "codemirror_mode": {
    "name": "ipython",
    "version": 2
   },
   "file_extension": ".py",
   "mimetype": "text/x-python",
   "name": "python",
   "nbconvert_exporter": "python",
   "pygments_lexer": "ipython2",
   "version": "2.7.6"
  }
 },
 "nbformat": 4,
 "nbformat_minor": 5
}
